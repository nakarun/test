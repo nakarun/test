{
 "cells": [
  {
   "cell_type": "markdown",
   "metadata": {},
   "source": [
    "# MeCabで形態素解析"
   ]
  },
  {
   "cell_type": "markdown",
   "metadata": {},
   "source": [
    "参考 : http://qiita.com/taro0628/items/b9afd914432da08dafc8\n",
    "\n",
    "参考 : http://statsbeginner.hatenablog.com/entry/2016/02/05/020027"
   ]
  },
  {
   "cell_type": "code",
   "execution_count": 8,
   "metadata": {
    "collapsed": false
   },
   "outputs": [],
   "source": [
    "import MeCab"
   ]
  },
  {
   "cell_type": "code",
   "execution_count": 10,
   "metadata": {
    "collapsed": true
   },
   "outputs": [],
   "source": [
    "mecab = MeCab.Tagger ('-d /usr/local/lib/mecab/dic/mecab-ipadic-neologd')"
   ]
  },
  {
   "cell_type": "code",
   "execution_count": 11,
   "metadata": {
    "collapsed": false
   },
   "outputs": [
    {
     "name": "stdout",
     "output_type": "stream",
     "text": [
      " , *\n",
      "矢口真里 , 固有名詞\n",
      " , *\n"
     ]
    }
   ],
   "source": [
    "text = '矢口真里'\n",
    "mecab.parse('')#文字列がGCされるのを防ぐ\n",
    "node = mecab.parseToNode(text)\n",
    "while node:\n",
    "    #単語を取得\n",
    "    word = node.surface\n",
    "    #品詞を取得\n",
    "    pos = node.feature.split(\",\")[1]\n",
    "    print('{0} , {1}'.format(word, pos))\n",
    "    #次の単語に進める\n",
    "    node = node.next"
   ]
  },
  {
   "cell_type": "markdown",
   "metadata": {},
   "source": [
    "### インストール"
   ]
  },
  {
   "cell_type": "markdown",
   "metadata": {
    "collapsed": true
   },
   "source": [
    "nakayamaruna-no-MacBook-Air:Movies_Recommend runa$ pip install mecab-python3\n",
    "\n",
    "Collecting mecab-python3\n",
    "\n",
    "  Downloading mecab-python3-0.7.tar.gz (41kB)\n",
    "  \n",
    "    100% |████████████████████████████████| 51kB 408kB/s \n",
    "    \n",
    "Building wheels for collected packages: mecab-python3\n",
    "\n",
    "  Running setup.py bdist_wheel for mecab-python3 ... done\n",
    "  \n",
    "  Stored in directory: /Users/runa/Library/Caches/pip/wheels/6f/0e/eb/962d0d0c1ed7e2e03b9ff2ed186ab3034053b0e970cd04005c\n",
    "  \n",
    "Successfully built mecab-python3\n",
    "\n",
    "Installing collected packages: mecab-python3\n",
    "\n",
    "Successfully installed mecab-python3-0.7"
   ]
  },
  {
   "cell_type": "code",
   "execution_count": null,
   "metadata": {
    "collapsed": true
   },
   "outputs": [],
   "source": []
  }
 ],
 "metadata": {
  "kernelspec": {
   "display_name": "Python [Root]",
   "language": "python",
   "name": "Python [Root]"
  },
  "language_info": {
   "codemirror_mode": {
    "name": "ipython",
    "version": 3
   },
   "file_extension": ".py",
   "mimetype": "text/x-python",
   "name": "python",
   "nbconvert_exporter": "python",
   "pygments_lexer": "ipython3",
   "version": "3.5.2"
  }
 },
 "nbformat": 4,
 "nbformat_minor": 0
}
