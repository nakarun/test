{
 "cells": [
  {
   "cell_type": "code",
   "execution_count": null,
   "metadata": {
    "collapsed": true
   },
   "outputs": [],
   "source": []
  },
  {
   "cell_type": "code",
   "execution_count": 1,
   "metadata": {
    "collapsed": false
   },
   "outputs": [
    {
     "data": {
      "text/plain": [
       "true"
      ]
     },
     "execution_count": 1,
     "metadata": {},
     "output_type": "execute_result"
    }
   ],
   "source": [
    "require 'rdf' #RDF.rbの読み込み\n",
    "require 'rdf/rdfxml'  #rdf-rdfxmlの読み込み"
   ]
  },
  {
   "cell_type": "code",
   "execution_count": 2,
   "metadata": {
    "collapsed": false
   },
   "outputs": [
    {
     "data": {
      "text/plain": [
       "true"
      ]
     },
     "execution_count": 2,
     "metadata": {},
     "output_type": "execute_result"
    }
   ],
   "source": [
    "#https://github.com/ruby-rdf/rdf-vocab\n",
    "require 'rdf/vocab'"
   ]
  },
  {
   "cell_type": "code",
   "execution_count": 3,
   "metadata": {
    "collapsed": false
   },
   "outputs": [
    {
     "data": {
      "text/plain": [
       "false"
      ]
     },
     "execution_count": 3,
     "metadata": {},
     "output_type": "execute_result"
    }
   ],
   "source": [
    "require 'openssl'"
   ]
  },
  {
   "cell_type": "code",
   "execution_count": 4,
   "metadata": {
    "collapsed": true
   },
   "outputs": [
    {
     "data": {
      "text/html": [
       "<!DOCTYPE html>\n",
       "<html prefix='bibo: http://purl.org/ontology/bibo/ dc11: http://purl.org/dc/elements/1.1/ dc: http://purl.org/dc/terms/ foaf: http://xmlns.com/foaf/0.1/ rdf: http://www.w3.org/1999/02/22-rdf-syntax-ns# rdfs: http://www.w3.org/2000/01/rdf-schema#' xmlns='http://www.w3.org/1999/xhtml'>\n",
       "  <body>\n",
       "    <div resource='http://ci.nii.ac.jp/naid/110008682472#article' typeof='bibo:Article'>\n",
       "      <span class='type'>bibo:Article</span>\n",
       "      <div class='property'>\n",
       "        <span class='label'>\n",
       "          http://ci.nii.ac.jp/ns/1.0/fulltext\n",
       "        </span>\n",
       "        <span property='http://ci.nii.ac.jp/ns/1.0/fulltext'>0</span>\n",
       "      </div>\n",
       "      <div class='property'>\n",
       "        <span class='label'>\n",
       "          http://ci.nii.ac.jp/ns/1.0/naid\n",
       "        </span>\n",
       "        <span property='http://ci.nii.ac.jp/ns/1.0/naid'>110008682472</span>\n",
       "      </div>\n",
       "      <div class='property'>\n",
       "        <span class='label'>\n",
       "          http://ci.nii.ac.jp/ns/1.0/ncid\n",
       "        </span>\n",
       "        <span property='http://ci.nii.ac.jp/ns/1.0/ncid'>AN10114171</span>\n",
       "      </div>\n",
       "      <div class='property'>\n",
       "        <span class='label'>\n",
       "          http://prismstandard.org/namespaces/basic/2.0/endingPage\n",
       "        </span>\n",
       "        <span property='http://prismstandard.org/namespaces/basic/2.0/endingPage'>8</span>\n",
       "      </div>\n",
       "      <div class='property'>\n",
       "        <span class='label'>\n",
       "          http://prismstandard.org/namespaces/basic/2.0/number\n",
       "        </span>\n",
       "        <span property='http://prismstandard.org/namespaces/basic/2.0/number'>8</span>\n",
       "      </div>\n",
       "      <div class='property'>\n",
       "        <span class='label'>\n",
       "          http://prismstandard.org/namespaces/basic/2.0/publicationDate\n",
       "        </span>\n",
       "        <span property='http://prismstandard.org/namespaces/basic/2.0/publicationDate'>2011-11-15</span>\n",
       "      </div>\n",
       "      <div class='property'>\n",
       "        <span class='label'>\n",
       "          http://prismstandard.org/namespaces/basic/2.0/publicationName\n",
       "        </span>\n",
       "        <span property='http://prismstandard.org/namespaces/basic/2.0/publicationName'>研究報告情報基礎とアクセス技術（IFAT）</span>\n",
       "      </div>\n",
       "      <div class='property'>\n",
       "        <span class='label'>\n",
       "          http://prismstandard.org/namespaces/basic/2.0/startingPage\n",
       "        </span>\n",
       "        <span property='http://prismstandard.org/namespaces/basic/2.0/startingPage'>1</span>\n",
       "      </div>\n",
       "      <div class='property'>\n",
       "        <span class='label'>\n",
       "          http://prismstandard.org/namespaces/basic/2.0/volume\n",
       "        </span>\n",
       "        <span property='http://prismstandard.org/namespaces/basic/2.0/volume'>2011</span>\n",
       "      </div>\n",
       "      <div class='property'>\n",
       "        <span class='label'>\n",
       "          dc11:creator\n",
       "        </span>\n",
       "        <ul>\n",
       "          <li property='dc11:creator'>永森 光晴</li>\n",
       "          <li property='dc11:creator'>本間 維</li>\n",
       "          <li property='dc11:creator'>杉本 重雄</li>\n",
       "        </ul>\n",
       "      </div>\n",
       "      <div class='property'>\n",
       "        <span class='label'>\n",
       "          dc11:date\n",
       "        </span>\n",
       "        <span property='dc11:date'>2011-11-15</span>\n",
       "      </div>\n",
       "      <div class='property'>\n",
       "        <span class='label'>\n",
       "          dc11:description\n",
       "        </span>\n",
       "        <span property='dc11:description'>Web 上で公開されている Web ページ中にメタデータを記述するために，RDFa や Microformats，Microdata など複数の標準的な記述フォーマットが提案されている．しかし，標準的な記述フォーマットに従ったメタデータを持つ Web ページの数はまだ少なく，メタデータを利用した情報流通支援を行うには，より積極的なメタデータ付与が求められる．本稿では，DCMI Description Set Profile を基にした情報抽出テンプレートによる，相互利用性向上や作成コスト軽減を意識したメタデータ生成手法を提案する．Standard metadata formats, such as RDFa, Microformats, and Microdata, have been recommended to embed metadata in HTML or XHTML documents. However, many web pages have no metadata written in those formats. The other side, non-standard formats describing information for layout of web pages is used widely. For increasing metadata more proactively, we regard information in non-standard formats as metadata, and integrate with metadata in standard formats. This paper proposes a method to create metadata from resources with embedded metadata in standard and non-standard formats.</span>\n",
       "      </div>\n",
       "      <div class='property'>\n",
       "        <span class='label'>\n",
       "          dc11:language\n",
       "        </span>\n",
       "        <span property='dc11:language'>JPN</span>\n",
       "      </div>\n",
       "      <div class='property'>\n",
       "        <span class='label'>\n",
       "          dc11:source\n",
       "        </span>\n",
       "        <span property='dc11:source'>IPSJ</span>\n",
       "      </div>\n",
       "      <div class='property'>\n",
       "        <span class='label'>\n",
       "          dc11:title\n",
       "        </span>\n",
       "        <ul>\n",
       "          <li lang='en' property='dc11:title'>Metadata Creation from Resources with Embedded Metadata - Extraction and Integration of Embedded Metadata in Standard and Non-standard Formats</li>\n",
       "          <li property='dc11:title'>非標準フォーマットを含む埋め込み型メタデータの抽出と統合によるメタデータ生成手法</li>\n",
       "        </ul>\n",
       "      </div>\n",
       "      <div class='property'>\n",
       "        <span class='label'>\n",
       "          dc:isPartOf\n",
       "        </span>\n",
       "        <div rel='dc:isPartOf' resource='http://ci.nii.ac.jp/ncid/AN10114171#entity'>\n",
       "          <div class='property'>\n",
       "            <span class='label'>\n",
       "              dc11:title\n",
       "            </span>\n",
       "            <span property='dc11:title'>研究報告情報基礎とアクセス技術（IFAT）</span>\n",
       "          </div>\n",
       "        </div>\n",
       "      </div>\n",
       "      <div class='property'>\n",
       "        <span class='label'>\n",
       "          rdfs:seeAlso\n",
       "        </span>\n",
       "        <div rel='rdfs:seeAlso' resource='http://id.nii.ac.jp/1001/00078506/'>\n",
       "          <div class='property'>\n",
       "            <span class='label'>\n",
       "              dc11:title\n",
       "            </span>\n",
       "            <span property='dc11:title'>情報処理学会</span>\n",
       "          </div>\n",
       "        </div>\n",
       "      </div>\n",
       "      <div class='property'>\n",
       "        <span class='label'>\n",
       "          foaf:isPrimaryTopicOf\n",
       "        </span>\n",
       "        <a href='http://ci.nii.ac.jp/naid/110008682472.rdf' property='foaf:isPrimaryTopicOf'>http://ci.nii.ac.jp/naid/110008682472.rdf</a>\n",
       "      </div>\n",
       "      <div class='property'>\n",
       "        <span class='label'>\n",
       "          foaf:maker\n",
       "        </span>\n",
       "        <ul>\n",
       "          <li rel='foaf:maker' resource='http://ci.nii.ac.jp/nrid/1000060272209#me' typeof='foaf:Person'>\n",
       "            <span class='type'>foaf:Person</span>\n",
       "            <div class='property'>\n",
       "              <span class='label'>\n",
       "                foaf:name\n",
       "              </span>\n",
       "              <span property='foaf:name'>永森 光晴</span>\n",
       "            </div>\n",
       "          </li>\n",
       "          <li rel='foaf:maker' resource='http://ci.nii.ac.jp/nrid/9000017716145#me' typeof='foaf:Person'>\n",
       "            <span class='type'>foaf:Person</span>\n",
       "            <div class='property'>\n",
       "              <span class='label'>\n",
       "                foaf:name\n",
       "              </span>\n",
       "              <span property='foaf:name'>本間 維</span>\n",
       "            </div>\n",
       "          </li>\n",
       "          <li rel='foaf:maker' resource='http://ci.nii.ac.jp/nrid/1000040154489#me' typeof='foaf:Person'>\n",
       "            <span class='type'>foaf:Person</span>\n",
       "            <div class='property'>\n",
       "              <span class='label'>\n",
       "                foaf:name\n",
       "              </span>\n",
       "              <span property='foaf:name'>杉本 重雄</span>\n",
       "            </div>\n",
       "          </li>\n",
       "        </ul>\n",
       "      </div>\n",
       "    </div>\n",
       "\n",
       "  </body>\n",
       "</html>\n"
      ],
      "text/plain": [
       "#<RDF::Graph:0x3feb724d95d4(default)>"
      ]
     },
     "execution_count": 4,
     "metadata": {},
     "output_type": "execute_result"
    }
   ],
   "source": [
    "graph = RDF::Graph.load(\"http://ci.nii.ac.jp/naid/110008682472.rdf\")  #Ciniiの論文のrdfデータを読み込み"
   ]
  },
  {
   "cell_type": "code",
   "execution_count": 5,
   "metadata": {
    "collapsed": true
   },
   "outputs": [
    {
     "name": "stderr",
     "output_type": "stream",
     "text": [
      "ERROR Getting CURIE for #<RDF::Query::Variable:0x3feb7272faf4(?person)>, which must be a resource\n"
     ]
    },
    {
     "ename": "NoMethodError",
     "evalue": "undefined method `datatype' for #<RDF::Query::Variable:0x3feb7272fae0(?name)>",
     "output_type": "error",
     "traceback": [
      "\u001b[31mNoMethodError\u001b[0m: undefined method `datatype' for #<RDF::Query::Variable:0x3feb7272fae0(?name)>",
      "\u001b[37m(haml):15:in `block in render'\u001b[0m",
      "\u001b[37m/Users/runa/.rbenv/versions/2.1.2/lib/ruby/gems/2.1.0/gems/haml-4.1.0.beta.1/lib/haml/engine.rb:126:in `eval'\u001b[0m",
      "\u001b[37m/Users/runa/.rbenv/versions/2.1.2/lib/ruby/gems/2.1.0/gems/haml-4.1.0.beta.1/lib/haml/engine.rb:126:in `render'\u001b[0m",
      "\u001b[37m/Users/runa/.rbenv/versions/2.1.2/lib/ruby/gems/2.1.0/gems/rdf-rdfa-2.0.0/lib/rdf/rdfa/writer.rb:764:in `hamlify'\u001b[0m",
      "\u001b[37m/Users/runa/.rbenv/versions/2.1.2/lib/ruby/gems/2.1.0/gems/rdf-rdfa-2.0.0/lib/rdf/rdfa/writer.rb:358:in `render_property'\u001b[0m",
      "\u001b[37m/Users/runa/.rbenv/versions/2.1.2/lib/ruby/gems/2.1.0/gems/rdf-rdfa-2.0.0/lib/rdf/rdfa/writer.rb:583:in `predicate'\u001b[0m",
      "\u001b[37m/Users/runa/.rbenv/versions/2.1.2/lib/ruby/gems/2.1.0/gems/rdf-rdfa-2.0.0/lib/rdf/rdfa/writer.rb:563:in `block (3 levels) in render_subject_template'\u001b[0m",
      "\u001b[37m/Users/runa/.rbenv/versions/2.1.2/lib/ruby/gems/2.1.0/gems/rdf-2.0.0/lib/rdf/util/logger.rb:252:in `log_depth'\u001b[0m",
      "\u001b[37m/Users/runa/.rbenv/versions/2.1.2/lib/ruby/gems/2.1.0/gems/rdf-2.0.0/lib/rdf/util/logger.rb:192:in `log_depth'\u001b[0m",
      "\u001b[37m/Users/runa/.rbenv/versions/2.1.2/lib/ruby/gems/2.1.0/gems/rdf-rdfa-2.0.0/lib/rdf/rdfa/writer.rb:559:in `block (2 levels) in render_subject_template'\u001b[0m",
      "\u001b[37m/Users/runa/.rbenv/versions/2.1.2/lib/ruby/gems/2.1.0/gems/rdf-rdfa-2.0.0/lib/rdf/rdfa/writer.rb:282:in `block in render_subject'\u001b[0m",
      "\u001b[37m/Users/runa/.rbenv/versions/2.1.2/lib/ruby/gems/2.1.0/gems/rdf-rdfa-2.0.0/lib/rdf/rdfa/writer.rb:765:in `block in hamlify'\u001b[0m",
      "\u001b[37m(haml):12:in `block (2 levels) in render'\u001b[0m",
      "\u001b[37m(haml):11:in `each'\u001b[0m",
      "\u001b[37m(haml):11:in `block in render'\u001b[0m",
      "\u001b[37m/Users/runa/.rbenv/versions/2.1.2/lib/ruby/gems/2.1.0/gems/haml-4.1.0.beta.1/lib/haml/engine.rb:126:in `eval'\u001b[0m",
      "\u001b[37m/Users/runa/.rbenv/versions/2.1.2/lib/ruby/gems/2.1.0/gems/haml-4.1.0.beta.1/lib/haml/engine.rb:126:in `render'\u001b[0m",
      "\u001b[37m/Users/runa/.rbenv/versions/2.1.2/lib/ruby/gems/2.1.0/gems/rdf-rdfa-2.0.0/lib/rdf/rdfa/writer.rb:764:in `hamlify'\u001b[0m",
      "\u001b[37m/Users/runa/.rbenv/versions/2.1.2/lib/ruby/gems/2.1.0/gems/rdf-rdfa-2.0.0/lib/rdf/rdfa/writer.rb:281:in `render_subject'\u001b[0m",
      "\u001b[37m/Users/runa/.rbenv/versions/2.1.2/lib/ruby/gems/2.1.0/gems/rdf-rdfa-2.0.0/lib/rdf/rdfa/writer.rb:558:in `block in render_subject_template'\u001b[0m",
      "\u001b[37m/Users/runa/.rbenv/versions/2.1.2/lib/ruby/gems/2.1.0/gems/rdf-rdfa-2.0.0/lib/rdf/rdfa/writer.rb:743:in `with_template'\u001b[0m",
      "\u001b[37m/Users/runa/.rbenv/versions/2.1.2/lib/ruby/gems/2.1.0/gems/rdf-rdfa-2.0.0/lib/rdf/rdfa/writer.rb:557:in `render_subject_template'\u001b[0m",
      "\u001b[37m/Users/runa/.rbenv/versions/2.1.2/lib/ruby/gems/2.1.0/gems/rdf-rdfa-2.0.0/lib/rdf/rdfa/writer.rb:506:in `subject'\u001b[0m",
      "\u001b[37m/Users/runa/.rbenv/versions/2.1.2/lib/ruby/gems/2.1.0/gems/rdf-rdfa-2.0.0/lib/rdf/rdfa/writer.rb:191:in `block in write_epilogue'\u001b[0m",
      "\u001b[37m/Users/runa/.rbenv/versions/2.1.2/lib/ruby/gems/2.1.0/gems/rdf-rdfa-2.0.0/lib/rdf/rdfa/writer.rb:231:in `block in render_document'\u001b[0m",
      "\u001b[37m/Users/runa/.rbenv/versions/2.1.2/lib/ruby/gems/2.1.0/gems/rdf-rdfa-2.0.0/lib/rdf/rdfa/writer.rb:765:in `block in hamlify'\u001b[0m",
      "\u001b[37m(haml):12:in `block (2 levels) in render'\u001b[0m",
      "\u001b[37m(haml):11:in `map'\u001b[0m",
      "\u001b[37m(haml):11:in `block in render'\u001b[0m",
      "\u001b[37m/Users/runa/.rbenv/versions/2.1.2/lib/ruby/gems/2.1.0/gems/haml-4.1.0.beta.1/lib/haml/engine.rb:126:in `eval'\u001b[0m",
      "\u001b[37m/Users/runa/.rbenv/versions/2.1.2/lib/ruby/gems/2.1.0/gems/haml-4.1.0.beta.1/lib/haml/engine.rb:126:in `render'\u001b[0m",
      "\u001b[37m/Users/runa/.rbenv/versions/2.1.2/lib/ruby/gems/2.1.0/gems/rdf-rdfa-2.0.0/lib/rdf/rdfa/writer.rb:764:in `hamlify'\u001b[0m",
      "\u001b[37m/Users/runa/.rbenv/versions/2.1.2/lib/ruby/gems/2.1.0/gems/rdf-rdfa-2.0.0/lib/rdf/rdfa/writer.rb:230:in `render_document'\u001b[0m",
      "\u001b[37m/Users/runa/.rbenv/versions/2.1.2/lib/ruby/gems/2.1.0/gems/rdf-rdfa-2.0.0/lib/rdf/rdfa/writer.rb:186:in `write_epilogue'\u001b[0m",
      "\u001b[37m/Users/runa/.rbenv/versions/2.1.2/lib/ruby/gems/2.1.0/gems/rdf-2.0.0/lib/rdf/writer.rb:269:in `initialize'\u001b[0m",
      "\u001b[37m/Users/runa/.rbenv/versions/2.1.2/lib/ruby/gems/2.1.0/gems/rdf-rdfa-2.0.0/lib/rdf/rdfa/writer.rb:120:in `initialize'\u001b[0m",
      "\u001b[37m/Users/runa/.rbenv/versions/2.1.2/lib/ruby/gems/2.1.0/gems/rdf-2.0.0/lib/rdf/writer.rb:199:in `new'\u001b[0m",
      "\u001b[37m/Users/runa/.rbenv/versions/2.1.2/lib/ruby/gems/2.1.0/gems/rdf-2.0.0/lib/rdf/writer.rb:199:in `block in buffer'\u001b[0m",
      "\u001b[37m/Users/runa/.rbenv/versions/2.1.2/lib/ruby/gems/2.1.0/gems/rdf-2.0.0/lib/rdf/writer.rb:197:in `open'\u001b[0m",
      "\u001b[37m/Users/runa/.rbenv/versions/2.1.2/lib/ruby/gems/2.1.0/gems/rdf-2.0.0/lib/rdf/writer.rb:197:in `buffer'\u001b[0m",
      "\u001b[37m/Users/runa/.rbenv/versions/2.1.2/lib/ruby/gems/2.1.0/gems/rdf-2.0.0/lib/rdf/mixin/enumerable.rb:758:in `method_missing'\u001b[0m",
      "\u001b[37m/Users/runa/.rbenv/versions/2.1.2/lib/ruby/gems/2.1.0/gems/iruby-0.2.9/lib/iruby/display.rb:248:in `block in <module:Registry>'\u001b[0m",
      "\u001b[37m/Users/runa/.rbenv/versions/2.1.2/lib/ruby/gems/2.1.0/gems/iruby-0.2.9/lib/iruby/display.rb:105:in `call'\u001b[0m",
      "\u001b[37m/Users/runa/.rbenv/versions/2.1.2/lib/ruby/gems/2.1.0/gems/iruby-0.2.9/lib/iruby/display.rb:105:in `render'\u001b[0m",
      "\u001b[37m/Users/runa/.rbenv/versions/2.1.2/lib/ruby/gems/2.1.0/gems/iruby-0.2.9/lib/iruby/display.rb:61:in `block in render'\u001b[0m",
      "\u001b[37m/Users/runa/.rbenv/versions/2.1.2/lib/ruby/gems/2.1.0/gems/iruby-0.2.9/lib/iruby/display.rb:60:in `each'\u001b[0m",
      "\u001b[37m/Users/runa/.rbenv/versions/2.1.2/lib/ruby/gems/2.1.0/gems/iruby-0.2.9/lib/iruby/display.rb:60:in `render'\u001b[0m",
      "\u001b[37m/Users/runa/.rbenv/versions/2.1.2/lib/ruby/gems/2.1.0/gems/iruby-0.2.9/lib/iruby/display.rb:23:in `display'\u001b[0m",
      "\u001b[37m/Users/runa/.rbenv/versions/2.1.2/lib/ruby/gems/2.1.0/gems/iruby-0.2.9/lib/iruby/kernel.rb:96:in `execute_request'\u001b[0m",
      "\u001b[37m/Users/runa/.rbenv/versions/2.1.2/lib/ruby/gems/2.1.0/gems/iruby-0.2.9/lib/iruby/kernel.rb:47:in `dispatch'\u001b[0m",
      "\u001b[37m/Users/runa/.rbenv/versions/2.1.2/lib/ruby/gems/2.1.0/gems/iruby-0.2.9/lib/iruby/kernel.rb:37:in `run'\u001b[0m",
      "\u001b[37m/Users/runa/.rbenv/versions/2.1.2/lib/ruby/gems/2.1.0/gems/iruby-0.2.9/lib/iruby/command.rb:70:in `run_kernel'\u001b[0m",
      "\u001b[37m/Users/runa/.rbenv/versions/2.1.2/lib/ruby/gems/2.1.0/gems/iruby-0.2.9/lib/iruby/command.rb:34:in `run'\u001b[0m",
      "\u001b[37m/Users/runa/.rbenv/versions/2.1.2/lib/ruby/gems/2.1.0/gems/iruby-0.2.9/bin/iruby:5:in `<top (required)>'\u001b[0m",
      "\u001b[37m/Users/runa/.rbenv/versions/2.1.2/bin/iruby:23:in `load'\u001b[0m",
      "\u001b[37m/Users/runa/.rbenv/versions/2.1.2/bin/iruby:23:in `<main>'\u001b[0m"
     ]
    }
   ],
   "source": [
    "query = RDF::Query.new({\n",
    "  :person => {\n",
    "    RDF.type  => RDF::Vocab::FOAF.Person,\n",
    "    RDF::Vocab::FOAF.name => :name\n",
    "  }\n",
    "})"
   ]
  },
  {
   "cell_type": "code",
   "execution_count": 6,
   "metadata": {
    "collapsed": false
   },
   "outputs": [
    {
     "name": "stdout",
     "output_type": "stream",
     "text": [
      "永森 光晴\n",
      "杉本 重雄\n",
      "本間 維\n"
     ]
    },
    {
     "data": {
      "text/plain": [
       "[#<RDF::Query::Solution:0x3feb7439ce6c({:person=>#<RDF::URI:0x3feb72a9a338 URI:http://ci.nii.ac.jp/nrid/1000060272209#me>, :name=>#<RDF::Literal:0x3feb72a9e2f8(\"永森 光晴\")>})>, #<RDF::Query::Solution:0x3feb7439c9a8({:person=>#<RDF::URI:0x3feb72aa22e0 URI:http://ci.nii.ac.jp/nrid/1000040154489#me>, :name=>#<RDF::Literal:0x3feb72aa62a0(\"杉本 重雄\")>})>, #<RDF::Query::Solution:0x3feb7439c4e4({:person=>#<RDF::URI:0x3feb72a926b0 URI:http://ci.nii.ac.jp/nrid/9000017716145#me>, :name=>#<RDF::Literal:0x3feb72a963dc(\"本間 維\")>})>]"
      ]
     },
     "execution_count": 6,
     "metadata": {},
     "output_type": "execute_result"
    }
   ],
   "source": [
    "query.execute(graph).each do |solution|\n",
    "  puts \"#{solution.name}\"\n",
    "end"
   ]
  },
  {
   "cell_type": "markdown",
   "metadata": {
    "collapsed": true
   },
   "source": [
    "Errorなのになぜ？"
   ]
  },
  {
   "cell_type": "code",
   "execution_count": null,
   "metadata": {
    "collapsed": true
   },
   "outputs": [],
   "source": []
  }
 ],
 "metadata": {
  "kernelspec": {
   "display_name": "Ruby 2.1.2",
   "language": "ruby",
   "name": "ruby"
  },
  "language_info": {
   "file_extension": ".rb",
   "mimetype": "application/x-ruby",
   "name": "ruby",
   "version": "2.1.2"
  }
 },
 "nbformat": 4,
 "nbformat_minor": 0
}
