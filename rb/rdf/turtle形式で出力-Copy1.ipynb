{
 "cells": [
  {
   "cell_type": "code",
   "execution_count": 1,
   "metadata": {
    "collapsed": false
   },
   "outputs": [
    {
     "data": {
      "text/plain": [
       "true"
      ]
     },
     "execution_count": 1,
     "metadata": {},
     "output_type": "execute_result"
    }
   ],
   "source": [
    "require 'rdf' #RDF.rbの読み込み\n",
    "require 'rdf/rdfxml'  #rdf-rdfxmlの読み込み"
   ]
  },
  {
   "cell_type": "code",
   "execution_count": 2,
   "metadata": {
    "collapsed": false
   },
   "outputs": [
    {
     "data": {
      "text/plain": [
       "true"
      ]
     },
     "execution_count": 2,
     "metadata": {},
     "output_type": "execute_result"
    }
   ],
   "source": [
    "#https://github.com/ruby-rdf/rdf-vocab\n",
    "require 'rdf/vocab'"
   ]
  },
  {
   "cell_type": "code",
   "execution_count": 3,
   "metadata": {
    "collapsed": false
   },
   "outputs": [
    {
     "data": {
      "text/plain": [
       "false"
      ]
     },
     "execution_count": 3,
     "metadata": {},
     "output_type": "execute_result"
    }
   ],
   "source": [
    "require 'rdf/turtle'"
   ]
  },
  {
   "cell_type": "code",
   "execution_count": null,
   "metadata": {
    "collapsed": true
   },
   "outputs": [],
   "source": []
  },
  {
   "cell_type": "code",
   "execution_count": 4,
   "metadata": {
    "collapsed": false
   },
   "outputs": [
    {
     "data": {
      "text/plain": [
       "#<RDF::Vocabulary:0x3fe896cbcf50(http://example.com/)>"
      ]
     },
     "execution_count": 4,
     "metadata": {},
     "output_type": "execute_result"
    }
   ],
   "source": [
    "ex = RDF::Vocabulary.new(\"http://example.com/\")"
   ]
  },
  {
   "cell_type": "code",
   "execution_count": 5,
   "metadata": {
    "collapsed": false
   },
   "outputs": [
    {
     "data": {
      "text/plain": [
       "#<RDF::Vocabulary::Term:0x3fe896c9dfc4 URI:http://example.com/runa>"
      ]
     },
     "execution_count": 5,
     "metadata": {},
     "output_type": "execute_result"
    }
   ],
   "source": [
    "ex.runa"
   ]
  },
  {
   "cell_type": "code",
   "execution_count": 6,
   "metadata": {
    "collapsed": false
   },
   "outputs": [
    {
     "data": {
      "text/html": [
       "<!DOCTYPE html>\n",
       "<html xmlns='http://www.w3.org/1999/xhtml'>\n",
       "  <body>\n",
       "  </body>\n",
       "</html>\n"
      ],
      "text/plain": [
       "#<RDF::Graph:0x3fe89617a0d4(default)>"
      ]
     },
     "execution_count": 6,
     "metadata": {},
     "output_type": "execute_result"
    }
   ],
   "source": [
    "# RDFグラフオブジェクトの作成\n",
    "graph = RDF::Graph.new"
   ]
  },
  {
   "cell_type": "code",
   "execution_count": 7,
   "metadata": {
    "collapsed": false
   },
   "outputs": [
    {
     "data": {
      "text/plain": [
       "[#<RDF::Statement:0x3fe897cdeb40(<http://example.com/病院> <http://www.w3.org/1999/02/22-rdf-syntax-ns#type> <http://schema.org/Hospital> .)>, #<RDF::Statement:0x3fe897cde690(<http://example.com/センター> <http://www.w3.org/1999/02/22-rdf-syntax-ns#type> <http://schema.org/Organization> .)>, #<RDF::Statement:0x3fe897cde1e0(<http://example.com/庁舎> <http://www.w3.org/1999/02/22-rdf-syntax-ns#type> <http://schema.org/CivicStructure> .)>, #<RDF::Statement:0x3fe897ce3cf8(<http://example.com/高校> <http://www.w3.org/1999/02/22-rdf-syntax-ns#type> <http://schema.org/HighSchool> .)>, #<RDF::Statement:0x3fe897ce3848(<http://example.com/中学> <http://www.w3.org/1999/02/22-rdf-syntax-ns#type> <http://schema.org/MiddleSchool> .)>, #<RDF::Statement:0x3fe897ce33c0(<http://example.com/駅> <http://www.w3.org/1999/02/22-rdf-syntax-ns#type> <http://schema.org/TrainStation> .)>, #<RDF::Statement:0x3fe897ce2f10(<http://example.com/高等学校> <http://www.w3.org/1999/02/22-rdf-syntax-ns#type> <http://schema.org/HighSchool> .)>, #<RDF::Statement:0x3fe897ce2a60(<http://example.com/中学校> <http://www.w3.org/1999/02/22-rdf-syntax-ns#type> <http://schema.org/MiddleSchool> .)>, #<RDF::Statement:0x3fe897ce25b0(<http://example.com/駅舎> <http://www.w3.org/1999/02/22-rdf-syntax-ns#type> <http://schema.org/CivicStructure> .)>, #<RDF::Statement:0x3fe897ce2100(<http://example.com/株式会社> <http://www.w3.org/1999/02/22-rdf-syntax-ns#type> <http://schema.org/Organization> .)>, #<RDF::Statement:0x3fe897ce7c2c(<http://example.com/詰所> <http://www.w3.org/1999/02/22-rdf-syntax-ns#type> <http://schema.org/Hotel> .)>, #<RDF::Statement:0x3fe897ce777c(<http://example.com/自動車道> <http://www.w3.org/1999/02/22-rdf-syntax-ns#type> <http://schema.org/Place> .)>, #<RDF::Statement:0x3fe897ce72cc(<http://example.com/郵便局> <http://www.w3.org/1999/02/22-rdf-syntax-ns#type> <http://schema.org/PostOffice> .)>, #<RDF::Statement:0x3fe897ce6e44(<http://example.com/寺> <http://www.w3.org/1999/02/22-rdf-syntax-ns#type> <http://schema.org/BuddhistTemple> .)>, #<RDF::Statement:0x3fe897ce6994(<http://example.com/神社> <http://www.w3.org/1999/02/22-rdf-syntax-ns#type> <http://schema.org/Place> .)>, #<RDF::Statement:0x3fe897ce64e4(<http://example.com/組合> <http://www.w3.org/1999/02/22-rdf-syntax-ns#type> <http://schema.org/Organization> .)>, #<RDF::Statement:0x3fe897ce6034(<http://example.com/分譲地> <http://www.w3.org/1999/02/22-rdf-syntax-ns#type> <http://schema.org/Place> .)>, #<RDF::Statement:0x3fe897cebb60(<http://example.com/変電所> <http://www.w3.org/1999/02/22-rdf-syntax-ns#type> <http://schema.org/Place> .)>, #<RDF::Statement:0x3fe897ceb6b0(<http://example.com/老人ホーム> <http://www.w3.org/1999/02/22-rdf-syntax-ns#type> <http://schema.org/CivicStructure> .)>, #<RDF::Statement:0x3fe897ceb200(<http://example.com/商店街> <http://www.w3.org/1999/02/22-rdf-syntax-ns#type> <http://schema.org/LocalBusiness> .)>, #<RDF::Statement:0x3fe897cead50(<http://example.com/集会所> <http://www.w3.org/1999/02/22-rdf-syntax-ns#type> <http://schema.org/CivicStructure> .)>, #<RDF::Statement:0x3fe897cea8a0(<http://example.com/物産館> <http://www.w3.org/1999/02/22-rdf-syntax-ns#type> <http://schema.org/CivicStructure> .)>, #<RDF::Statement:0x3fe897cea3f0(<http://example.com/プロジェクト> <http://www.w3.org/1999/02/22-rdf-syntax-ns#type> <http://schema.org/Organization> .)>, #<RDF::Statement:0x3fe897ceff1c(<http://example.com/協会> <http://www.w3.org/1999/02/22-rdf-syntax-ns#type> <http://schema.org/Organization> .)>, #<RDF::Statement:0x3fe897cefa6c(<http://example.com/史料館> <http://www.w3.org/1999/02/22-rdf-syntax-ns#type> <http://schema.org/CivicStructure> .)>, #<RDF::Statement:0x3fe897cef5bc(<http://example.com/選手権> <http://www.w3.org/1999/02/22-rdf-syntax-ns#type> <http://schema.org/Event> .)>, #<RDF::Statement:0x3fe897cef10c(<http://example.com/祭り> <http://www.w3.org/1999/02/22-rdf-syntax-ns#type> <http://schema.org/Festival> .)>, #<RDF::Statement:0x3fe897ceec5c(<http://example.com/本部> <http://www.w3.org/1999/02/22-rdf-syntax-ns#type> <http://schema.org/Organization> .)>, #<RDF::Statement:0x3fe897cee7ac(<http://example.com/財団> <http://www.w3.org/1999/02/22-rdf-syntax-ns#type> <http://schema.org/Organization> .)>, #<RDF::Statement:0x3fe897cee2fc(<http://example.com/記念館> <http://www.w3.org/1999/02/22-rdf-syntax-ns#type> <http://schema.org/CivicStructure> .)>, #<RDF::Statement:0x3fe897cf3e28(<http://example.com/信用金庫> <http://www.w3.org/1999/02/22-rdf-syntax-ns#type> <http://schema.org/BankOrCreditUnion> .)>, #<RDF::Statement:0x3fe897cf3978(<http://example.com/銀行> <http://www.w3.org/1999/02/22-rdf-syntax-ns#type> <http://schema.org/BankOrCreditUnion> .)>, #<RDF::Statement:0x3fe897cf34c8(<http://example.com/まつり> <http://www.w3.org/1999/02/22-rdf-syntax-ns#type> <http://schema.org/Festival> .)>, #<RDF::Statement:0x3fe897cf3018(<http://example.com/会議所> <http://www.w3.org/1999/02/22-rdf-syntax-ns#type> <http://schema.org/Organization> .)>, #<RDF::Statement:0x3fe897cf2b68(<http://example.com/保養園> <http://www.w3.org/1999/02/22-rdf-syntax-ns#type> <http://schema.org/CivicStructure> .)>, #<RDF::Statement:0x3fe897cf26b8(<http://example.com/公民館> <http://www.w3.org/1999/02/22-rdf-syntax-ns#type> <http://schema.org/CivicStructure> .)>, #<RDF::Statement:0x3fe897cf2208(<http://example.com/体育館> <http://www.w3.org/1999/02/22-rdf-syntax-ns#type> <http://schema.org/ExerciseGym> .)>, #<RDF::Statement:0x3fe897cf7d20(<http://example.com/企業体> <http://www.w3.org/1999/02/22-rdf-syntax-ns#type> <http://schema.org/Organization> .)>, #<RDF::Statement:0x3fe897cf7870(<http://example.com/社団法人> <http://www.w3.org/1999/02/22-rdf-syntax-ns#type> <http://schema.org/Organization> .)>, #<RDF::Statement:0x3fe897cf73c0(<http://example.com/有限会社> <http://www.w3.org/1999/02/22-rdf-syntax-ns#type> <http://schema.org/Organization> .)>]"
      ]
     },
     "execution_count": 7,
     "metadata": {},
     "output_type": "execute_result"
    }
   ],
   "source": [
    "# RDF:Statement.newにトリプルとなる値を代入（主語、述語、目的語）\n",
    "statements = [\n",
    "RDF::Statement.new(ex.病院,RDF.type,RDF::Vocab::SCHEMA.Hospital),\n",
    "RDF::Statement.new(ex.センター,RDF.type,RDF::Vocab::SCHEMA.Organization),\n",
    "#RDF::Statement.new(ex.幼稚園,RDF.type,RDF::Vocab::SCHEMA.PreSchool),\n",
    "RDF::Statement.new(ex.庁舎,RDF.type,RDF::Vocab::SCHEMA.CivicStructure),\n",
    "#RDF::Statement.new(ex.工場,RDF.type,RDF::Vocab::SCHEMA.Agent),\n",
    "RDF::Statement.new(ex.高校,RDF.type,RDF::Vocab::SCHEMA.HighSchool),\n",
    "RDF::Statement.new(ex.中学,RDF.type,RDF::Vocab::SCHEMA.MiddleSchool),\n",
    "RDF::Statement.new(ex.駅,RDF.type,RDF::Vocab::SCHEMA.TrainStation),\n",
    "#RDF::Statement.new(ex.協議会,RDF.type,RDF::Vocab::SCHEMA.Agent),\n",
    "#RDF::Statement.new(ex.販売所,RDF.type,RDF::Vocab::SCHEMA.Agent),\n",
    "RDF::Statement.new(ex.高等学校,RDF.type,RDF::Vocab::SCHEMA.HighSchool),\n",
    "RDF::Statement.new(ex.中学校,RDF.type,RDF::Vocab::SCHEMA.MiddleSchool),\n",
    "RDF::Statement.new(ex.駅舎,RDF.type,RDF::Vocab::SCHEMA.CivicStructure),\n",
    "#RDF::Statement.new(ex.案内所,RDF.type,RDF::Vocab::SCHEMA.Agent),\n",
    "RDF::Statement.new(ex.株式会社,RDF.type,RDF::Vocab::SCHEMA.Organization),\n",
    "#RDF::Statement.new(ex.公営住宅,RDF.type,RDF::Vocab::SCHEMA.Apartment),\n",
    "#RDF::Statement.new(ex.管理所,RDF.type,RDF::Vocab::SCHEMA.Agent),\n",
    "#RDF::Statement.new(ex.事務所,RDF.type,RDF::Vocab::SCHEMA.Agent),\n",
    "#RDF::Statement.new(ex.本店,RDF.type,RDF::Vocab::SCHEMA.Agent),\n",
    "#RDF::Statement.new(ex.整備室,RDF.type,RDF::Vocab::SCHEMA.Agent),\n",
    "RDF::Statement.new(ex.詰所,RDF.type,RDF::Vocab::SCHEMA.Hotel),\n",
    "RDF::Statement.new(ex.自動車道,RDF.type,RDF::Vocab::SCHEMA.Place),\n",
    "#RDF::Statement.new(ex.事業局,RDF.type,RDF::Vocab::SCHEMA.Agent),\n",
    "#RDF::Statement.new(ex.復興局,RDF.type,RDF::Vocab::SCHEMA.Agent),\n",
    "RDF::Statement.new(ex.郵便局,RDF.type,RDF::Vocab::SCHEMA.PostOffice),\n",
    "#RDF::Statement.new(ex.農政局,RDF.type,RDF::Vocab::SCHEMA.Agent),\n",
    "RDF::Statement.new(ex.寺,RDF.type,RDF::Vocab::SCHEMA.BuddhistTemple),\n",
    "RDF::Statement.new(ex.神社,RDF.type,RDF::Vocab::SCHEMA.Place),\n",
    "#RDF::Statement.new(ex.支店,RDF.type,RDF::Vocab::SCHEMA.Agent),\n",
    "RDF::Statement.new(ex.組合,RDF.type,RDF::Vocab::SCHEMA.Organization),\n",
    "#RDF::Statement.new(ex.作業所,RDF.type,RDF::Vocab::SCHEMA.Agent),\n",
    "RDF::Statement.new(ex.分譲地,RDF.type,RDF::Vocab::SCHEMA.Place),\n",
    "RDF::Statement.new(ex.変電所,RDF.type,RDF::Vocab::SCHEMA.Place),\n",
    "RDF::Statement.new(ex.老人ホーム,RDF.type,RDF::Vocab::SCHEMA.CivicStructure),\n",
    "RDF::Statement.new(ex.商店街,RDF.type,RDF::Vocab::SCHEMA.LocalBusiness),\n",
    "RDF::Statement.new(ex.集会所,RDF.type,RDF::Vocab::SCHEMA.CivicStructure),\n",
    "#RDF::Statement.new(ex.(株),RDF.type,RDF::Vocab::SCHEMA.Organization),\n",
    "#RDF::Statement.new(ex.球場,RDF.type,RDF::Vocab::SCHEMA.StadiumOrArea),\n",
    "RDF::Statement.new(ex.物産館,RDF.type,RDF::Vocab::SCHEMA.CivicStructure),\n",
    "#RDF::Statement.new(ex.(仮称),RDF.type,RDF::Vocab::SCHEMA.Organization),\n",
    "#RDF::Statement.new(ex.(仮称)組合,RDF.type,RDF::Vocab::SCHEMA.Organization),\n",
    "RDF::Statement.new(ex.プロジェクト,RDF.type,RDF::Vocab::SCHEMA.Organization),\n",
    "#RDF::Statement.new(ex.製造所,RDF.type,RDF::Vocab::SCHEMA.Agent),\n",
    "RDF::Statement.new(ex.協会,RDF.type,RDF::Vocab::SCHEMA.Organization),\n",
    "RDF::Statement.new(ex.史料館,RDF.type,RDF::Vocab::SCHEMA.CivicStructure),\n",
    "RDF::Statement.new(ex.選手権,RDF.type,RDF::Vocab::SCHEMA.Event),\n",
    "RDF::Statement.new(ex.祭り,RDF.type,RDF::Vocab::SCHEMA.Festival),\n",
    "RDF::Statement.new(ex.本部,RDF.type,RDF::Vocab::SCHEMA.Organization),\n",
    "RDF::Statement.new(ex.財団,RDF.type,RDF::Vocab::SCHEMA.Organization),\n",
    "RDF::Statement.new(ex.記念館,RDF.type,RDF::Vocab::SCHEMA.CivicStructure),\n",
    "RDF::Statement.new(ex.信用金庫,RDF.type,RDF::Vocab::SCHEMA.BankOrCreditUnion),\n",
    "RDF::Statement.new(ex.銀行,RDF.type,RDF::Vocab::SCHEMA.BankOrCreditUnion),\n",
    "RDF::Statement.new(ex.まつり,RDF.type,RDF::Vocab::SCHEMA.Festival),\n",
    "RDF::Statement.new(ex.会議所,RDF.type,RDF::Vocab::SCHEMA.Organization),\n",
    "RDF::Statement.new(ex.保養園,RDF.type,RDF::Vocab::SCHEMA.CivicStructure),\n",
    "RDF::Statement.new(ex.公民館,RDF.type,RDF::Vocab::SCHEMA.CivicStructure),\n",
    "RDF::Statement.new(ex.体育館,RDF.type,RDF::Vocab::SCHEMA.ExerciseGym),\n",
    "#RDF::Statement.new(ex.設計室,RDF.type,RDF::Vocab::SCHEMA.Agent),\n",
    "#RDF::Statement.new(ex.公務室,RDF.type,RDF::Vocab::SCHEMA.Agent),\n",
    "#RDF::Statement.new(ex.工務店,RDF.type,RDF::Vocab::SCHEMA.Agent),\n",
    "RDF::Statement.new(ex.企業体,RDF.type,RDF::Vocab::SCHEMA.Organization),\n",
    "#RDF::Statement.new(ex.管理局,RDF.type,RDF::Vocab::SCHEMA.Agent),\n",
    "RDF::Statement.new(ex.社団法人,RDF.type,RDF::Vocab::SCHEMA.Organization),\n",
    "RDF::Statement.new(ex.有限会社,RDF.type,RDF::Vocab::SCHEMA.Organization),\n",
    "#RDF::Statement.new(ex.(有),RDF.type,RDF::Vocab::SCHEMA.Organization)\n",
    "]"
   ]
  },
  {
   "cell_type": "code",
   "execution_count": 26,
   "metadata": {
    "collapsed": true
   },
   "outputs": [
    {
     "data": {
      "text/plain": [
       "[#<RDF::Statement:0x3ff48b8aa0ec(<http://example.com/病院> <http://www.w3.org/1999/02/22-rdf-syntax-ns#type> <http://schema.org/Hospital> .)>, #<RDF::Statement:0x3ff48b8b5eec(<http://example.com/センター> <http://www.w3.org/1999/02/22-rdf-syntax-ns#type> <http://schema.org/Organization> .)>, #<RDF::Statement:0x3ff48b8b5d20(<http://example.com/庁舎> <http://www.w3.org/1999/02/22-rdf-syntax-ns#type> <http://schema.org/CivicStructure> .)>, #<RDF::Statement:0x3ff48b8b5b54(<http://example.com/高校> <http://www.w3.org/1999/02/22-rdf-syntax-ns#type> <http://schema.org/HighSchool> .)>, #<RDF::Statement:0x3ff48b8b5988(<http://example.com/中学> <http://www.w3.org/1999/02/22-rdf-syntax-ns#type> <http://schema.org/MiddleSchool> .)>, #<RDF::Statement:0x3ff48b8b57bc(<http://example.com/駅> <http://www.w3.org/1999/02/22-rdf-syntax-ns#type> <http://schema.org/TrainStation> .)>, #<RDF::Statement:0x3ff48b8b55f0(<http://example.com/高等学校> <http://www.w3.org/1999/02/22-rdf-syntax-ns#type> <http://schema.org/HighSchool> .)>, #<RDF::Statement:0x3ff48b8b5424(<http://example.com/中学校> <http://www.w3.org/1999/02/22-rdf-syntax-ns#type> <http://schema.org/MiddleSchool> .)>, #<RDF::Statement:0x3ff48b8b5258(<http://example.com/駅舎> <http://www.w3.org/1999/02/22-rdf-syntax-ns#type> <http://schema.org/CivicStructure> .)>, #<RDF::Statement:0x3ff48b8b508c(<http://example.com/株式会社> <http://www.w3.org/1999/02/22-rdf-syntax-ns#type> <http://schema.org/Organization> .)>, #<RDF::Statement:0x3ff48b8b4ec0(<http://example.com/詰所> <http://www.w3.org/1999/02/22-rdf-syntax-ns#type> <http://schema.org/Hotel> .)>, #<RDF::Statement:0x3ff48b8b4cf4(<http://example.com/自動車道> <http://www.w3.org/1999/02/22-rdf-syntax-ns#type> <http://schema.org/Place> .)>, #<RDF::Statement:0x3ff48b8b4b28(<http://example.com/郵便局> <http://www.w3.org/1999/02/22-rdf-syntax-ns#type> <http://schema.org/PostOffice> .)>, #<RDF::Statement:0x3ff48b8b495c(<http://example.com/寺> <http://www.w3.org/1999/02/22-rdf-syntax-ns#type> <http://schema.org/BuddhistTemple> .)>, #<RDF::Statement:0x3ff48b8b4790(<http://example.com/神社> <http://www.w3.org/1999/02/22-rdf-syntax-ns#type> <http://schema.org/Place> .)>, #<RDF::Statement:0x3ff48b8b45c4(<http://example.com/組合> <http://www.w3.org/1999/02/22-rdf-syntax-ns#type> <http://schema.org/Organization> .)>, #<RDF::Statement:0x3ff48b8b43f8(<http://example.com/分譲地> <http://www.w3.org/1999/02/22-rdf-syntax-ns#type> <http://schema.org/Place> .)>, #<RDF::Statement:0x3ff48b8b422c(<http://example.com/変電所> <http://www.w3.org/1999/02/22-rdf-syntax-ns#type> <http://schema.org/Place> .)>, #<RDF::Statement:0x3ff48b8b4060(<http://example.com/老人ホーム> <http://www.w3.org/1999/02/22-rdf-syntax-ns#type> <http://schema.org/CivicStructure> .)>, #<RDF::Statement:0x3ff489df5e68(<http://example.com/商店街> <http://www.w3.org/1999/02/22-rdf-syntax-ns#type> <http://schema.org/LocalBusiness> .)>, #<RDF::Statement:0x3ff489df5c9c(<http://example.com/集会所> <http://www.w3.org/1999/02/22-rdf-syntax-ns#type> <http://schema.org/CivicStructure> .)>, #<RDF::Statement:0x3ff489df57ec(<http://example.com/物産館> <http://www.w3.org/1999/02/22-rdf-syntax-ns#type> <http://schema.org/CivicStructure> .)>, #<RDF::Statement:0x3ff489df533c(<http://example.com/プロジェクト> <http://www.w3.org/1999/02/22-rdf-syntax-ns#type> <http://schema.org/Organization> .)>, #<RDF::Statement:0x3ff489df4e8c(<http://example.com/協会> <http://www.w3.org/1999/02/22-rdf-syntax-ns#type> <http://schema.org/Organization> .)>, #<RDF::Statement:0x3ff489df49dc(<http://example.com/史料館> <http://www.w3.org/1999/02/22-rdf-syntax-ns#type> <http://schema.org/CivicStructure> .)>, #<RDF::Statement:0x3ff489df452c(<http://example.com/選手権> <http://www.w3.org/1999/02/22-rdf-syntax-ns#type> <http://schema.org/Event> .)>, #<RDF::Statement:0x3ff489df407c(<http://example.com/祭り> <http://www.w3.org/1999/02/22-rdf-syntax-ns#type> <http://schema.org/Festival> .)>, #<RDF::Statement:0x3ff489df9ba8(<http://example.com/本部> <http://www.w3.org/1999/02/22-rdf-syntax-ns#type> <http://schema.org/Organization> .)>, #<RDF::Statement:0x3ff489df96f8(<http://example.com/財団> <http://www.w3.org/1999/02/22-rdf-syntax-ns#type> <http://schema.org/Organization> .)>, #<RDF::Statement:0x3ff489df9248(<http://example.com/記念館> <http://www.w3.org/1999/02/22-rdf-syntax-ns#type> <http://schema.org/CivicStructure> .)>, #<RDF::Statement:0x3ff489df8d98(<http://example.com/信用金庫> <http://www.w3.org/1999/02/22-rdf-syntax-ns#type> <http://schema.org/BankOrCreditUnion> .)>, #<RDF::Statement:0x3ff489df88e8(<http://example.com/銀行> <http://www.w3.org/1999/02/22-rdf-syntax-ns#type> <http://schema.org/BankOrCreditUnion> .)>, #<RDF::Statement:0x3ff489df8438(<http://example.com/まつり> <http://www.w3.org/1999/02/22-rdf-syntax-ns#type> <http://schema.org/Festival> .)>, #<RDF::Statement:0x3ff489dfdf50(<http://example.com/会議所> <http://www.w3.org/1999/02/22-rdf-syntax-ns#type> <http://schema.org/Organization> .)>, #<RDF::Statement:0x3ff489dfdaa0(<http://example.com/保養園> <http://www.w3.org/1999/02/22-rdf-syntax-ns#type> <http://schema.org/CivicStructure> .)>, #<RDF::Statement:0x3ff489dfd5f0(<http://example.com/公民館> <http://www.w3.org/1999/02/22-rdf-syntax-ns#type> <http://schema.org/CivicStructure> .)>, #<RDF::Statement:0x3ff489dfd140(<http://example.com/体育館> <http://www.w3.org/1999/02/22-rdf-syntax-ns#type> <http://schema.org/ExerciseGym> .)>, #<RDF::Statement:0x3ff489dfcc90(<http://example.com/企業体> <http://www.w3.org/1999/02/22-rdf-syntax-ns#type> <http://schema.org/Organization> .)>, #<RDF::Statement:0x3ff489dfc7e0(<http://example.com/社団法人> <http://www.w3.org/1999/02/22-rdf-syntax-ns#type> <http://schema.org/Organization> .)>, #<RDF::Statement:0x3ff489dfc330(<http://example.com/有限会社> <http://www.w3.org/1999/02/22-rdf-syntax-ns#type> <http://schema.org/Organization> .)>]"
      ]
     },
     "execution_count": 26,
     "metadata": {},
     "output_type": "execute_result"
    }
   ],
   "source": [
    "# トリプルを代入した配列をグラフオブジェクトへ\n",
    "statements.each do |statement|\n",
    "   graph << statement\n",
    "end"
   ]
  },
  {
   "cell_type": "code",
   "execution_count": 27,
   "metadata": {
    "collapsed": true
   },
   "outputs": [
    {
     "data": {
      "text/plain": [
       "\"@prefix rdf: <http://www.w3.org/1999/02/22-rdf-syntax-ns#> .\\n@prefix schema: <http://schema.org/> .\\n\\n<http://example.com/まつり> a schema:Festival .\\n\\n<http://example.com/センター> a schema:Organization .\\n\\n<http://example.com/プロジェクト> a schema:Organization .\\n\\n<http://example.com/中学> a schema:MiddleSchool .\\n\\n<http://example.com/中学校> a schema:MiddleSchool .\\n\\n<http://example.com/企業体> a schema:Organization .\\n\\n<http://example.com/会議所> a schema:Organization .\\n\\n<http://example.com/体育館> a schema:ExerciseGym .\\n\\n<http://example.com/保養園> a schema:CivicStructure .\\n\\n<http://example.com/信用金庫> a schema:BankOrCreditUnion .\\n\\n<http://example.com/公民館> a schema:CivicStructure .\\n\\n<http://example.com/分譲地> a schema:Place .\\n\\n<http://example.com/協会> a schema:Organization .\\n\\n<http://example.com/史料館> a schema:CivicStructure .\\n\\n<http://example.com/商店街> a schema:LocalBusiness .\\n\\n<http://example.com/変電所> a schema:Place .\\n\\n<http://example.com/寺> a schema:BuddhistTemple .\\n\\n<http://example.com/庁舎> a schema:CivicStructure .\\n\\n<http://example.com/有限会社> a schema:Organization .\\n\\n<http://example.com/本部> a schema:Organization .\\n\\n<http://example.com/株式会社> a schema:Organization .\\n\\n<http://example.com/物産館> a schema:CivicStructure .\\n\\n<http://example.com/病院> a schema:Hospital .\\n\\n<http://example.com/社団法人> a schema:Organization .\\n\\n<http://example.com/神社> a schema:Place .\\n\\n<http://example.com/祭り> a schema:Festival .\\n\\n<http://example.com/組合> a schema:Organization .\\n\\n<http://example.com/老人ホーム> a schema:CivicStructure .\\n\\n<http://example.com/自動車道> a schema:Place .\\n\\n<http://example.com/記念館> a schema:CivicStructure .\\n\\n<http://example.com/詰所> a schema:Hotel .\\n\\n<http://example.com/財団> a schema:Organization .\\n\\n<http://example.com/選手権> a schema:Event .\\n\\n<http://example.com/郵便局> a schema:PostOffice .\\n\\n<http://example.com/銀行> a schema:BankOrCreditUnion .\\n\\n<http://example.com/集会所> a schema:CivicStructure .\\n\\n<http://example.com/駅> a schema:TrainStation .\\n\\n<http://example.com/駅舎> a schema:CivicStructure .\\n\\n<http://example.com/高校> a schema:HighSchool .\\n\\n<http://example.com/高等学校> a schema:HighSchool .\\n\""
      ]
     },
     "execution_count": 27,
     "metadata": {},
     "output_type": "execute_result"
    }
   ],
   "source": [
    "graph.to_ttl"
   ]
  },
  {
   "cell_type": "code",
   "execution_count": 28,
   "metadata": {
    "collapsed": true
   },
   "outputs": [
    {
     "name": "stderr",
     "output_type": "stream",
     "text": [
      "ERROR Getting CURIE for #<RDF::Query::Variable:0x3ff48a676cf4(?s)>, which must be a resource\n"
     ]
    },
    {
     "ename": "RDF::WriterError",
     "evalue": "Errors found during processing",
     "output_type": "error",
     "traceback": [
      "\u001b[31mRDF::WriterError\u001b[0m: Errors found during processing",
      "\u001b[37m/Users/runa/.rbenv/versions/2.1.2/lib/ruby/gems/2.1.0/gems/rdf-2.0.0/lib/rdf/writer.rb:398:in `write_epilogue'\u001b[0m",
      "\u001b[37m/Users/runa/.rbenv/versions/2.1.2/lib/ruby/gems/2.1.0/gems/rdf-rdfa-2.0.0/lib/rdf/rdfa/writer.rb:195:in `write_epilogue'\u001b[0m",
      "\u001b[37m/Users/runa/.rbenv/versions/2.1.2/lib/ruby/gems/2.1.0/gems/rdf-2.0.0/lib/rdf/writer.rb:269:in `initialize'\u001b[0m",
      "\u001b[37m/Users/runa/.rbenv/versions/2.1.2/lib/ruby/gems/2.1.0/gems/rdf-rdfa-2.0.0/lib/rdf/rdfa/writer.rb:120:in `initialize'\u001b[0m",
      "\u001b[37m/Users/runa/.rbenv/versions/2.1.2/lib/ruby/gems/2.1.0/gems/rdf-2.0.0/lib/rdf/writer.rb:199:in `new'\u001b[0m",
      "\u001b[37m/Users/runa/.rbenv/versions/2.1.2/lib/ruby/gems/2.1.0/gems/rdf-2.0.0/lib/rdf/writer.rb:199:in `block in buffer'\u001b[0m",
      "\u001b[37m/Users/runa/.rbenv/versions/2.1.2/lib/ruby/gems/2.1.0/gems/rdf-2.0.0/lib/rdf/writer.rb:197:in `open'\u001b[0m",
      "\u001b[37m/Users/runa/.rbenv/versions/2.1.2/lib/ruby/gems/2.1.0/gems/rdf-2.0.0/lib/rdf/writer.rb:197:in `buffer'\u001b[0m",
      "\u001b[37m/Users/runa/.rbenv/versions/2.1.2/lib/ruby/gems/2.1.0/gems/rdf-2.0.0/lib/rdf/mixin/enumerable.rb:758:in `method_missing'\u001b[0m",
      "\u001b[37m/Users/runa/.rbenv/versions/2.1.2/lib/ruby/gems/2.1.0/gems/iruby-0.2.9/lib/iruby/display.rb:248:in `block in <module:Registry>'\u001b[0m",
      "\u001b[37m/Users/runa/.rbenv/versions/2.1.2/lib/ruby/gems/2.1.0/gems/iruby-0.2.9/lib/iruby/display.rb:105:in `call'\u001b[0m",
      "\u001b[37m/Users/runa/.rbenv/versions/2.1.2/lib/ruby/gems/2.1.0/gems/iruby-0.2.9/lib/iruby/display.rb:105:in `render'\u001b[0m",
      "\u001b[37m/Users/runa/.rbenv/versions/2.1.2/lib/ruby/gems/2.1.0/gems/iruby-0.2.9/lib/iruby/display.rb:61:in `block in render'\u001b[0m",
      "\u001b[37m/Users/runa/.rbenv/versions/2.1.2/lib/ruby/gems/2.1.0/gems/iruby-0.2.9/lib/iruby/display.rb:60:in `each'\u001b[0m",
      "\u001b[37m/Users/runa/.rbenv/versions/2.1.2/lib/ruby/gems/2.1.0/gems/iruby-0.2.9/lib/iruby/display.rb:60:in `render'\u001b[0m",
      "\u001b[37m/Users/runa/.rbenv/versions/2.1.2/lib/ruby/gems/2.1.0/gems/iruby-0.2.9/lib/iruby/display.rb:23:in `display'\u001b[0m",
      "\u001b[37m/Users/runa/.rbenv/versions/2.1.2/lib/ruby/gems/2.1.0/gems/iruby-0.2.9/lib/iruby/kernel.rb:96:in `execute_request'\u001b[0m",
      "\u001b[37m/Users/runa/.rbenv/versions/2.1.2/lib/ruby/gems/2.1.0/gems/iruby-0.2.9/lib/iruby/kernel.rb:47:in `dispatch'\u001b[0m",
      "\u001b[37m/Users/runa/.rbenv/versions/2.1.2/lib/ruby/gems/2.1.0/gems/iruby-0.2.9/lib/iruby/kernel.rb:37:in `run'\u001b[0m",
      "\u001b[37m/Users/runa/.rbenv/versions/2.1.2/lib/ruby/gems/2.1.0/gems/iruby-0.2.9/lib/iruby/command.rb:70:in `run_kernel'\u001b[0m",
      "\u001b[37m/Users/runa/.rbenv/versions/2.1.2/lib/ruby/gems/2.1.0/gems/iruby-0.2.9/lib/iruby/command.rb:34:in `run'\u001b[0m",
      "\u001b[37m/Users/runa/.rbenv/versions/2.1.2/lib/ruby/gems/2.1.0/gems/iruby-0.2.9/bin/iruby:5:in `<top (required)>'\u001b[0m",
      "\u001b[37m/Users/runa/.rbenv/versions/2.1.2/bin/iruby:23:in `load'\u001b[0m",
      "\u001b[37m/Users/runa/.rbenv/versions/2.1.2/bin/iruby:23:in `<main>'\u001b[0m"
     ]
    }
   ],
   "source": [
    "query = RDF::Query.new({\n",
    "  :s => {\n",
    "    RDF.type  => RDF::Vocab::SCHEMA.Hospital,\n",
    "  }\n",
    "})"
   ]
  },
  {
   "cell_type": "code",
   "execution_count": 29,
   "metadata": {
    "collapsed": false
   },
   "outputs": [
    {
     "name": "stdout",
     "output_type": "stream",
     "text": [
      "http://example.com/病院\n"
     ]
    },
    {
     "data": {
      "text/plain": [
       "[#<RDF::Query::Solution:0x3ff48a1563f0({:s=>#<RDF::Vocabulary::Term:0x3ff489d0f210 URI:http://example.com/病院>})>]"
      ]
     },
     "execution_count": 29,
     "metadata": {},
     "output_type": "execute_result"
    }
   ],
   "source": [
    "query.execute(graph).each do |solution|\n",
    "  puts \"#{solution.s}\"\n",
    "end"
   ]
  },
  {
   "cell_type": "code",
   "execution_count": null,
   "metadata": {
    "collapsed": true
   },
   "outputs": [],
   "source": []
  }
 ],
 "metadata": {
  "kernelspec": {
   "display_name": "Ruby 2.1.2",
   "language": "ruby",
   "name": "ruby"
  },
  "language_info": {
   "file_extension": ".rb",
   "mimetype": "application/x-ruby",
   "name": "ruby",
   "version": "2.1.2"
  }
 },
 "nbformat": 4,
 "nbformat_minor": 0
}
