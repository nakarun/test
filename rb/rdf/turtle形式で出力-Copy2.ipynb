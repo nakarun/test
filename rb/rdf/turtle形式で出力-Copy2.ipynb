{
 "cells": [
  {
   "cell_type": "code",
   "execution_count": 35,
   "metadata": {
    "collapsed": false
   },
   "outputs": [
    {
     "data": {
      "text/plain": [
       "false"
      ]
     },
     "execution_count": 35,
     "metadata": {},
     "output_type": "execute_result"
    }
   ],
   "source": [
    "require 'rdf' #RDF.rbの読み込み\n",
    "require 'rdf/rdfxml'  #rdf-rdfxmlの読み込み"
   ]
  },
  {
   "cell_type": "code",
   "execution_count": 7,
   "metadata": {
    "collapsed": false
   },
   "outputs": [
    {
     "data": {
      "text/plain": [
       "true"
      ]
     },
     "execution_count": 7,
     "metadata": {},
     "output_type": "execute_result"
    }
   ],
   "source": [
    "#https://github.com/ruby-rdf/rdf-vocab\n",
    "require 'rdf/vocab'"
   ]
  },
  {
   "cell_type": "code",
   "execution_count": 8,
   "metadata": {
    "collapsed": false
   },
   "outputs": [
    {
     "data": {
      "text/plain": [
       "false"
      ]
     },
     "execution_count": 8,
     "metadata": {},
     "output_type": "execute_result"
    }
   ],
   "source": [
    "require 'rdf/turtle'"
   ]
  },
  {
   "cell_type": "code",
   "execution_count": null,
   "metadata": {
    "collapsed": true
   },
   "outputs": [],
   "source": []
  },
  {
   "cell_type": "code",
   "execution_count": 9,
   "metadata": {
    "collapsed": false
   },
   "outputs": [
    {
     "data": {
      "text/plain": [
       "#<RDF::Vocabulary:0x3ff0e6d1b408(http://example.com/)>"
      ]
     },
     "execution_count": 9,
     "metadata": {},
     "output_type": "execute_result"
    }
   ],
   "source": [
    "ex = RDF::Vocabulary.new(\"http://example.com/\")"
   ]
  },
  {
   "cell_type": "code",
   "execution_count": 10,
   "metadata": {
    "collapsed": false
   },
   "outputs": [
    {
     "data": {
      "text/plain": [
       "#<RDF::Vocabulary::Term:0x3ff0e6cf6004 URI:http://example.com/runa>"
      ]
     },
     "execution_count": 10,
     "metadata": {},
     "output_type": "execute_result"
    }
   ],
   "source": [
    "ex.runa"
   ]
  },
  {
   "cell_type": "code",
   "execution_count": 11,
   "metadata": {
    "collapsed": false
   },
   "outputs": [
    {
     "data": {
      "text/plain": [
       "#<RDF::Vocabulary::Term:0x3ff0e68a183c URI:http://xmlns.com/foaf/0.1/name>"
      ]
     },
     "execution_count": 11,
     "metadata": {},
     "output_type": "execute_result"
    }
   ],
   "source": [
    "RDF::Vocab::FOAF.name"
   ]
  },
  {
   "cell_type": "code",
   "execution_count": 16,
   "metadata": {
    "collapsed": false
   },
   "outputs": [
    {
     "data": {
      "text/plain": [
       "#<RDF::Vocabulary:0x3ff0e60aefd0(http://geonames.org/resource/)>"
      ]
     },
     "execution_count": 16,
     "metadata": {},
     "output_type": "execute_result"
    }
   ],
   "source": [
    "gn = RDF::Vocabulary.new(\"http://geonames.org/resource/\")"
   ]
  },
  {
   "cell_type": "code",
   "execution_count": 24,
   "metadata": {
    "collapsed": false
   },
   "outputs": [
    {
     "data": {
      "text/plain": [
       "#<RDF::Vocabulary::Term:0x3ff0e6293f80 URI:http://www.w3.org/2006/vcard/ns#hasURL>"
      ]
     },
     "execution_count": 24,
     "metadata": {},
     "output_type": "execute_result"
    }
   ],
   "source": [
    "RDF::Vocab::VCARD.hasURL"
   ]
  },
  {
   "cell_type": "code",
   "execution_count": 17,
   "metadata": {
    "collapsed": false
   },
   "outputs": [
    {
     "data": {
      "text/html": [
       "<!DOCTYPE html>\n",
       "<html xmlns='http://www.w3.org/1999/xhtml'>\n",
       "  <body>\n",
       "  </body>\n",
       "</html>\n"
      ],
      "text/plain": [
       "#<RDF::Graph:0x3ff0e641a520(default)>"
      ]
     },
     "execution_count": 17,
     "metadata": {},
     "output_type": "execute_result"
    }
   ],
   "source": [
    "# RDFグラフオブジェクトの作成\n",
    "graph = RDF::Graph.new"
   ]
  },
  {
   "cell_type": "code",
   "execution_count": 28,
   "metadata": {
    "collapsed": true
   },
   "outputs": [
    {
     "data": {
      "text/plain": [
       "[#<RDF::Statement:0x3ff0e68901a4(<http://example.com/八戸> <http://www.w3.org/1999/02/22-rdf-syntax-ns#type> <http://schema.org/Place> .)>, #<RDF::Statement:0x3ff0e688dbd4(<http://example.com/野田村> <http://www.w3.org/1999/02/22-rdf-syntax-ns#type> <http://schema.org/Place> .)>, #<RDF::Statement:0x3ff0e688d878(<http://example.com/北日本> <http://www.w3.org/1999/02/22-rdf-syntax-ns#type> <http://schema.org/Place> .)>, #<RDF::Statement:0x3ff0e688d468(<http://example.com/小中野> <http://www.w3.org/1999/02/22-rdf-syntax-ns#type> <http://schema.org/Place> .)>, #<RDF::Statement:0x3ff0e688cfcc(<http://example.com/野田> <http://www.w3.org/1999/02/22-rdf-syntax-ns#type> <http://schema.org/Place> .)>, #<RDF::Statement:0x3ff0e688ca90(<http://example.com/久慈> <http://www.w3.org/1999/02/22-rdf-syntax-ns#type> <http://schema.org/Place> .)>, #<RDF::Statement:0x3ff0e688c7e8(<http://example.com/夏井> <http://www.w3.org/1999/02/22-rdf-syntax-ns#type> <http://schema.org/Place> .)>, #<RDF::Statement:0x3ff0e688c3c4(<http://example.com/岩手> <http://www.w3.org/1999/02/22-rdf-syntax-ns#type> <http://schema.org/Place> .)>, #<RDF::Statement:0x3ff0e60d1d3c(<http://example.com/普代村> <http://www.w3.org/1999/02/22-rdf-syntax-ns#type> <http://schema.org/Place> .)>, #<RDF::Statement:0x3ff0e60d15f8(<http://example.com/下安家> <http://www.w3.org/1999/02/22-rdf-syntax-ns#type> <http://schema.org/Place> .)>, #<RDF::Statement:0x3ff0e60d0400(<http://example.com/八戸> <http://www.w3.org/2006/vcard/ns#hasURL> <http://geonames.org/resource/青森県八戸市> .)>, #<RDF::Statement:0x3ff0e60cd2c8(<http://example.com/野田村> <http://www.w3.org/2006/vcard/ns#hasURL> <http://geonames.org/resource/岩手県九戸郡野田村> .)>, #<RDF::Statement:0x3ff0e60c9858(<http://example.com/北日本> <http://www.w3.org/2006/vcard/ns#hasURL> <http://geonames.org/resource/なし> .)>, #<RDF::Statement:0x3ff0e60c5e4c(<http://example.com/小中野> <http://www.w3.org/2006/vcard/ns#hasURL> <http://geonames.org/resource/青森県八戸市小中野> .)>, #<RDF::Statement:0x3ff0e60c521c(<http://example.com/野田> <http://www.w3.org/2006/vcard/ns#hasURL> <http://geonames.org/resource/宮城県塩竈市野田> .)>, #<RDF::Statement:0x3ff0e60c44ac(<http://example.com/久慈> <http://www.w3.org/2006/vcard/ns#hasURL> <http://geonames.org/resource/岩手県久慈市> .)>, #<RDF::Statement:0x3ff0e60c1dc4(<http://example.com/夏井> <http://www.w3.org/2006/vcard/ns#hasURL> <http://geonames.org/resource/新潟県新潟市西蒲区夏井> .)>, #<RDF::Statement:0x3ff0e60c166c(<http://example.com/岩手> <http://www.w3.org/2006/vcard/ns#hasURL> <http://geonames.org/resource/岩手県> .)>, #<RDF::Statement:0x3ff0e60c0eec(<http://example.com/普代村> <http://www.w3.org/2006/vcard/ns#hasURL> <http://geonames.org/resource/岩手県下閉伊郡普代村> .)>, #<RDF::Statement:0x3ff0e60c0708(<http://example.com/下安家> <http://www.w3.org/2006/vcard/ns#hasURL> <http://geonames.org/resource/なし> .)>]"
      ]
     },
     "execution_count": 28,
     "metadata": {},
     "output_type": "execute_result"
    }
   ],
   "source": [
    "# RDF:Statement.newにトリプルとなる値を代入（主語、述語、目的語）\n",
    "statements = [\n",
    "RDF::Statement.new(ex.八戸, RDF.type, RDF::Vocab::SCHEMA.Place),\n",
    "RDF::Statement.new(ex.野田村, RDF.type, RDF::Vocab::SCHEMA.Place),\n",
    "RDF::Statement.new(ex.北日本, RDF.type, RDF::Vocab::SCHEMA.Place),\n",
    "RDF::Statement.new(ex.小中野, RDF.type, RDF::Vocab::SCHEMA.Place),\n",
    "RDF::Statement.new(ex.野田, RDF.type, RDF::Vocab::SCHEMA.Place),\n",
    "RDF::Statement.new(ex.久慈, RDF.type, RDF::Vocab::SCHEMA.Place),\n",
    "RDF::Statement.new(ex.夏井, RDF.type, RDF::Vocab::SCHEMA.Place),\n",
    "RDF::Statement.new(ex.岩手, RDF.type, RDF::Vocab::SCHEMA.Place),\n",
    "RDF::Statement.new(ex.普代村, RDF.type, RDF::Vocab::SCHEMA.Place),\n",
    "RDF::Statement.new(ex.下安家, RDF.type, RDF::Vocab::SCHEMA.Place),\n",
    "RDF::Statement.new(ex.八戸, RDF::Vocab::VCARD.hasURL, gn.青森県八戸市),\n",
    "RDF::Statement.new(ex.野田村, RDF::Vocab::VCARD.hasURL, gn.岩手県九戸郡野田村),\n",
    "RDF::Statement.new(ex.北日本, RDF::Vocab::VCARD.hasURL, gn.なし),\n",
    "RDF::Statement.new(ex.小中野, RDF::Vocab::VCARD.hasURL, gn.青森県八戸市小中野),\n",
    "RDF::Statement.new(ex.野田, RDF::Vocab::VCARD.hasURL, gn.宮城県塩竈市野田),\n",
    "RDF::Statement.new(ex.久慈, RDF::Vocab::VCARD.hasURL, gn.岩手県久慈市),\n",
    "RDF::Statement.new(ex.夏井, RDF::Vocab::VCARD.hasURL, gn.新潟県新潟市西蒲区夏井),\n",
    "RDF::Statement.new(ex.岩手, RDF::Vocab::VCARD.hasURL, gn.岩手県),\n",
    "RDF::Statement.new(ex.普代村, RDF::Vocab::VCARD.hasURL, gn.岩手県下閉伊郡普代村),\n",
    "RDF::Statement.new(ex.下安家, RDF::Vocab::VCARD.hasURL, gn.なし)\n",
    "]"
   ]
  },
  {
   "cell_type": "code",
   "execution_count": 29,
   "metadata": {
    "collapsed": true
   },
   "outputs": [
    {
     "data": {
      "text/plain": [
       "[#<RDF::Statement:0x3ff0e68901a4(<http://example.com/八戸> <http://www.w3.org/1999/02/22-rdf-syntax-ns#type> <http://schema.org/Place> .)>, #<RDF::Statement:0x3ff0e688dbd4(<http://example.com/野田村> <http://www.w3.org/1999/02/22-rdf-syntax-ns#type> <http://schema.org/Place> .)>, #<RDF::Statement:0x3ff0e688d878(<http://example.com/北日本> <http://www.w3.org/1999/02/22-rdf-syntax-ns#type> <http://schema.org/Place> .)>, #<RDF::Statement:0x3ff0e688d468(<http://example.com/小中野> <http://www.w3.org/1999/02/22-rdf-syntax-ns#type> <http://schema.org/Place> .)>, #<RDF::Statement:0x3ff0e688cfcc(<http://example.com/野田> <http://www.w3.org/1999/02/22-rdf-syntax-ns#type> <http://schema.org/Place> .)>, #<RDF::Statement:0x3ff0e688ca90(<http://example.com/久慈> <http://www.w3.org/1999/02/22-rdf-syntax-ns#type> <http://schema.org/Place> .)>, #<RDF::Statement:0x3ff0e688c7e8(<http://example.com/夏井> <http://www.w3.org/1999/02/22-rdf-syntax-ns#type> <http://schema.org/Place> .)>, #<RDF::Statement:0x3ff0e688c3c4(<http://example.com/岩手> <http://www.w3.org/1999/02/22-rdf-syntax-ns#type> <http://schema.org/Place> .)>, #<RDF::Statement:0x3ff0e60d1d3c(<http://example.com/普代村> <http://www.w3.org/1999/02/22-rdf-syntax-ns#type> <http://schema.org/Place> .)>, #<RDF::Statement:0x3ff0e60d15f8(<http://example.com/下安家> <http://www.w3.org/1999/02/22-rdf-syntax-ns#type> <http://schema.org/Place> .)>, #<RDF::Statement:0x3ff0e60d0400(<http://example.com/八戸> <http://www.w3.org/2006/vcard/ns#hasURL> <http://geonames.org/resource/青森県八戸市> .)>, #<RDF::Statement:0x3ff0e60cd2c8(<http://example.com/野田村> <http://www.w3.org/2006/vcard/ns#hasURL> <http://geonames.org/resource/岩手県九戸郡野田村> .)>, #<RDF::Statement:0x3ff0e60c9858(<http://example.com/北日本> <http://www.w3.org/2006/vcard/ns#hasURL> <http://geonames.org/resource/なし> .)>, #<RDF::Statement:0x3ff0e60c5e4c(<http://example.com/小中野> <http://www.w3.org/2006/vcard/ns#hasURL> <http://geonames.org/resource/青森県八戸市小中野> .)>, #<RDF::Statement:0x3ff0e60c521c(<http://example.com/野田> <http://www.w3.org/2006/vcard/ns#hasURL> <http://geonames.org/resource/宮城県塩竈市野田> .)>, #<RDF::Statement:0x3ff0e60c44ac(<http://example.com/久慈> <http://www.w3.org/2006/vcard/ns#hasURL> <http://geonames.org/resource/岩手県久慈市> .)>, #<RDF::Statement:0x3ff0e60c1dc4(<http://example.com/夏井> <http://www.w3.org/2006/vcard/ns#hasURL> <http://geonames.org/resource/新潟県新潟市西蒲区夏井> .)>, #<RDF::Statement:0x3ff0e60c166c(<http://example.com/岩手> <http://www.w3.org/2006/vcard/ns#hasURL> <http://geonames.org/resource/岩手県> .)>, #<RDF::Statement:0x3ff0e60c0eec(<http://example.com/普代村> <http://www.w3.org/2006/vcard/ns#hasURL> <http://geonames.org/resource/岩手県下閉伊郡普代村> .)>, #<RDF::Statement:0x3ff0e60c0708(<http://example.com/下安家> <http://www.w3.org/2006/vcard/ns#hasURL> <http://geonames.org/resource/なし> .)>]"
      ]
     },
     "execution_count": 29,
     "metadata": {},
     "output_type": "execute_result"
    }
   ],
   "source": [
    "# トリプルを代入した配列をグラフオブジェクトへ\n",
    "statements.each do |statement|\n",
    "   graph << statement\n",
    "end"
   ]
  },
  {
   "cell_type": "code",
   "execution_count": 30,
   "metadata": {
    "collapsed": true
   },
   "outputs": [
    {
     "ename": "NoMethodError",
     "evalue": "undefined method `node?' for RDF::StrictVocabulary(http://rdf.data-vocabulary.org/#):Class",
     "output_type": "error",
     "traceback": [
      "\u001b[31mNoMethodError\u001b[0m: undefined method `node?' for RDF::StrictVocabulary(http://rdf.data-vocabulary.org/#):Class",
      "\u001b[37m/Users/runa/.rbenv/versions/2.1.2/lib/ruby/gems/2.1.0/gems/rdf-2.0.0/lib/rdf/model/statement.rb:226:in `each'\u001b[0m",
      "\u001b[37m/Users/runa/.rbenv/versions/2.1.2/lib/ruby/gems/2.1.0/gems/rdf-2.0.0/lib/rdf/model/statement.rb:226:in `any?'\u001b[0m",
      "\u001b[37m/Users/runa/.rbenv/versions/2.1.2/lib/ruby/gems/2.1.0/gems/rdf-2.0.0/lib/rdf/model/statement.rb:226:in `node?'\u001b[0m",
      "\u001b[37m/Users/runa/.rbenv/versions/2.1.2/lib/ruby/gems/2.1.0/gems/rdf-2.0.0/lib/rdf/writer.rb:423:in `write_statement'\u001b[0m",
      "\u001b[37m/Users/runa/.rbenv/versions/2.1.2/lib/ruby/gems/2.1.0/gems/rdf-2.0.0/lib/rdf/util/aliasing.rb:46:in `block in alias_method'\u001b[0m",
      "\u001b[37m/Users/runa/.rbenv/versions/2.1.2/lib/ruby/gems/2.1.0/gems/rdf-2.0.0/lib/rdf/mixin/writable.rb:139:in `block in insert_statements'\u001b[0m",
      "\u001b[37m/Users/runa/.rbenv/versions/2.1.2/lib/ruby/gems/2.1.0/gems/rdf-2.0.0/lib/rdf/repository.rb:412:in `block (4 levels) in query_pattern'\u001b[0m",
      "\u001b[37m/Users/runa/.rbenv/versions/2.1.2/lib/ruby/gems/2.1.0/gems/hamster-3.0.0/lib/hamster/set.rb:166:in `block in each'\u001b[0m",
      "\u001b[37m/Users/runa/.rbenv/versions/2.1.2/lib/ruby/gems/2.1.0/gems/hamster-3.0.0/lib/hamster/trie.rb:40:in `call'\u001b[0m",
      "\u001b[37m/Users/runa/.rbenv/versions/2.1.2/lib/ruby/gems/2.1.0/gems/hamster-3.0.0/lib/hamster/trie.rb:40:in `block in each'\u001b[0m",
      "\u001b[37m/Users/runa/.rbenv/versions/2.1.2/lib/ruby/gems/2.1.0/gems/hamster-3.0.0/lib/hamster/trie.rb:40:in `each'\u001b[0m",
      "\u001b[37m/Users/runa/.rbenv/versions/2.1.2/lib/ruby/gems/2.1.0/gems/hamster-3.0.0/lib/hamster/trie.rb:40:in `each'\u001b[0m",
      "\u001b[37m/Users/runa/.rbenv/versions/2.1.2/lib/ruby/gems/2.1.0/gems/hamster-3.0.0/lib/hamster/set.rb:166:in `each'\u001b[0m",
      "\u001b[37m/Users/runa/.rbenv/versions/2.1.2/lib/ruby/gems/2.1.0/gems/rdf-2.0.0/lib/rdf/repository.rb:410:in `block (3 levels) in query_pattern'\u001b[0m",
      "\u001b[37m/Users/runa/.rbenv/versions/2.1.2/lib/ruby/gems/2.1.0/gems/hamster-3.0.0/lib/hamster/trie.rb:40:in `call'\u001b[0m",
      "\u001b[37m/Users/runa/.rbenv/versions/2.1.2/lib/ruby/gems/2.1.0/gems/hamster-3.0.0/lib/hamster/trie.rb:40:in `block in each'\u001b[0m",
      "\u001b[37m/Users/runa/.rbenv/versions/2.1.2/lib/ruby/gems/2.1.0/gems/hamster-3.0.0/lib/hamster/trie.rb:40:in `each'\u001b[0m",
      "\u001b[37m/Users/runa/.rbenv/versions/2.1.2/lib/ruby/gems/2.1.0/gems/hamster-3.0.0/lib/hamster/trie.rb:40:in `each'\u001b[0m",
      "\u001b[37m/Users/runa/.rbenv/versions/2.1.2/lib/ruby/gems/2.1.0/gems/hamster-3.0.0/lib/hamster/trie.rb:42:in `block in each'\u001b[0m",
      "\u001b[37m/Users/runa/.rbenv/versions/2.1.2/lib/ruby/gems/2.1.0/gems/hamster-3.0.0/lib/hamster/trie.rb:41:in `each'\u001b[0m",
      "\u001b[37m/Users/runa/.rbenv/versions/2.1.2/lib/ruby/gems/2.1.0/gems/hamster-3.0.0/lib/hamster/trie.rb:41:in `each'\u001b[0m",
      "\u001b[37m/Users/runa/.rbenv/versions/2.1.2/lib/ruby/gems/2.1.0/gems/hamster-3.0.0/lib/hamster/hash.rb:331:in `each'\u001b[0m",
      "\u001b[37m/Users/runa/.rbenv/versions/2.1.2/lib/ruby/gems/2.1.0/gems/rdf-2.0.0/lib/rdf/repository.rb:409:in `block (2 levels) in query_pattern'\u001b[0m",
      "\u001b[37m/Users/runa/.rbenv/versions/2.1.2/lib/ruby/gems/2.1.0/gems/hamster-3.0.0/lib/hamster/trie.rb:40:in `call'\u001b[0m",
      "\u001b[37m/Users/runa/.rbenv/versions/2.1.2/lib/ruby/gems/2.1.0/gems/hamster-3.0.0/lib/hamster/trie.rb:40:in `block in each'\u001b[0m",
      "\u001b[37m/Users/runa/.rbenv/versions/2.1.2/lib/ruby/gems/2.1.0/gems/hamster-3.0.0/lib/hamster/trie.rb:40:in `each'\u001b[0m",
      "\u001b[37m/Users/runa/.rbenv/versions/2.1.2/lib/ruby/gems/2.1.0/gems/hamster-3.0.0/lib/hamster/trie.rb:40:in `each'\u001b[0m",
      "\u001b[37m/Users/runa/.rbenv/versions/2.1.2/lib/ruby/gems/2.1.0/gems/hamster-3.0.0/lib/hamster/hash.rb:331:in `each'\u001b[0m",
      "\u001b[37m/Users/runa/.rbenv/versions/2.1.2/lib/ruby/gems/2.1.0/gems/rdf-2.0.0/lib/rdf/repository.rb:401:in `block in query_pattern'\u001b[0m",
      "\u001b[37m/Users/runa/.rbenv/versions/2.1.2/lib/ruby/gems/2.1.0/gems/rdf-2.0.0/lib/rdf/repository.rb:389:in `each'\u001b[0m",
      "\u001b[37m/Users/runa/.rbenv/versions/2.1.2/lib/ruby/gems/2.1.0/gems/rdf-2.0.0/lib/rdf/repository.rb:389:in `query_pattern'\u001b[0m",
      "\u001b[37m/Users/runa/.rbenv/versions/2.1.2/lib/ruby/gems/2.1.0/gems/rdf-2.0.0/lib/rdf/mixin/queryable.rb:88:in `query'\u001b[0m",
      "\u001b[37m/Users/runa/.rbenv/versions/2.1.2/lib/ruby/gems/2.1.0/gems/rdf-2.0.0/lib/rdf/model/graph.rb:240:in `each'\u001b[0m",
      "\u001b[37m/Users/runa/.rbenv/versions/2.1.2/lib/ruby/gems/2.1.0/gems/rdf-2.0.0/lib/rdf/mixin/enumerable.rb:159:in `each_statement'\u001b[0m",
      "\u001b[37m/Users/runa/.rbenv/versions/2.1.2/lib/ruby/gems/2.1.0/gems/rdf-2.0.0/lib/rdf/mixin/writable.rb:138:in `insert_statements'\u001b[0m",
      "\u001b[37m/Users/runa/.rbenv/versions/2.1.2/lib/ruby/gems/2.1.0/gems/rdf-2.0.0/lib/rdf/mixin/writable.rb:117:in `insert_graph'\u001b[0m",
      "\u001b[37m/Users/runa/.rbenv/versions/2.1.2/lib/ruby/gems/2.1.0/gems/rdf-2.0.0/lib/rdf/mixin/writable.rb:30:in `<<'\u001b[0m",
      "\u001b[37m/Users/runa/.rbenv/versions/2.1.2/lib/ruby/gems/2.1.0/gems/rdf-2.0.0/lib/rdf/mixin/enumerable.rb:758:in `block in method_missing'\u001b[0m",
      "\u001b[37m/Users/runa/.rbenv/versions/2.1.2/lib/ruby/gems/2.1.0/gems/rdf-2.0.0/lib/rdf/writer.rb:199:in `call'\u001b[0m",
      "\u001b[37m/Users/runa/.rbenv/versions/2.1.2/lib/ruby/gems/2.1.0/gems/rdf-2.0.0/lib/rdf/writer.rb:199:in `block (2 levels) in buffer'\u001b[0m",
      "\u001b[37m/Users/runa/.rbenv/versions/2.1.2/lib/ruby/gems/2.1.0/gems/rdf-turtle-2.0.0/lib/rdf/turtle/writer.rb:136:in `call'\u001b[0m",
      "\u001b[37m/Users/runa/.rbenv/versions/2.1.2/lib/ruby/gems/2.1.0/gems/rdf-turtle-2.0.0/lib/rdf/turtle/writer.rb:136:in `block in initialize'\u001b[0m",
      "\u001b[37m/Users/runa/.rbenv/versions/2.1.2/lib/ruby/gems/2.1.0/gems/rdf-2.0.0/lib/rdf/writer.rb:267:in `instance_eval'\u001b[0m",
      "\u001b[37m/Users/runa/.rbenv/versions/2.1.2/lib/ruby/gems/2.1.0/gems/rdf-2.0.0/lib/rdf/writer.rb:267:in `initialize'\u001b[0m",
      "\u001b[37m/Users/runa/.rbenv/versions/2.1.2/lib/ruby/gems/2.1.0/gems/rdf-turtle-2.0.0/lib/rdf/turtle/writer.rb:131:in `initialize'\u001b[0m",
      "\u001b[37m/Users/runa/.rbenv/versions/2.1.2/lib/ruby/gems/2.1.0/gems/rdf-2.0.0/lib/rdf/writer.rb:199:in `new'\u001b[0m",
      "\u001b[37m/Users/runa/.rbenv/versions/2.1.2/lib/ruby/gems/2.1.0/gems/rdf-2.0.0/lib/rdf/writer.rb:199:in `block in buffer'\u001b[0m",
      "\u001b[37m/Users/runa/.rbenv/versions/2.1.2/lib/ruby/gems/2.1.0/gems/rdf-2.0.0/lib/rdf/writer.rb:197:in `open'\u001b[0m",
      "\u001b[37m/Users/runa/.rbenv/versions/2.1.2/lib/ruby/gems/2.1.0/gems/rdf-2.0.0/lib/rdf/writer.rb:197:in `buffer'\u001b[0m",
      "\u001b[37m/Users/runa/.rbenv/versions/2.1.2/lib/ruby/gems/2.1.0/gems/rdf-2.0.0/lib/rdf/mixin/enumerable.rb:758:in `method_missing'\u001b[0m",
      "\u001b[37m/Users/runa/.rbenv/versions/2.1.2/lib/ruby/gems/2.1.0/gems/rdf-2.0.0/lib/rdf/mixin/mutable.rb:260:in `method_missing'\u001b[0m",
      "\u001b[37m(pry):130:in `<main>'\u001b[0m",
      "\u001b[37m/Users/runa/.rbenv/versions/2.1.2/lib/ruby/gems/2.1.0/gems/pry-0.10.4/lib/pry/pry_instance.rb:355:in `eval'\u001b[0m",
      "\u001b[37m/Users/runa/.rbenv/versions/2.1.2/lib/ruby/gems/2.1.0/gems/pry-0.10.4/lib/pry/pry_instance.rb:355:in `evaluate_ruby'\u001b[0m",
      "\u001b[37m/Users/runa/.rbenv/versions/2.1.2/lib/ruby/gems/2.1.0/gems/pry-0.10.4/lib/pry/pry_instance.rb:323:in `handle_line'\u001b[0m",
      "\u001b[37m/Users/runa/.rbenv/versions/2.1.2/lib/ruby/gems/2.1.0/gems/pry-0.10.4/lib/pry/pry_instance.rb:243:in `block (2 levels) in eval'\u001b[0m",
      "\u001b[37m/Users/runa/.rbenv/versions/2.1.2/lib/ruby/gems/2.1.0/gems/pry-0.10.4/lib/pry/pry_instance.rb:242:in `catch'\u001b[0m",
      "\u001b[37m/Users/runa/.rbenv/versions/2.1.2/lib/ruby/gems/2.1.0/gems/pry-0.10.4/lib/pry/pry_instance.rb:242:in `block in eval'\u001b[0m",
      "\u001b[37m/Users/runa/.rbenv/versions/2.1.2/lib/ruby/gems/2.1.0/gems/pry-0.10.4/lib/pry/pry_instance.rb:241:in `catch'\u001b[0m",
      "\u001b[37m/Users/runa/.rbenv/versions/2.1.2/lib/ruby/gems/2.1.0/gems/pry-0.10.4/lib/pry/pry_instance.rb:241:in `eval'\u001b[0m",
      "\u001b[37m/Users/runa/.rbenv/versions/2.1.2/lib/ruby/gems/2.1.0/gems/iruby-0.2.9/lib/iruby/backend.rb:65:in `eval'\u001b[0m",
      "\u001b[37m/Users/runa/.rbenv/versions/2.1.2/lib/ruby/gems/2.1.0/gems/iruby-0.2.9/lib/iruby/backend.rb:12:in `eval'\u001b[0m",
      "\u001b[37m/Users/runa/.rbenv/versions/2.1.2/lib/ruby/gems/2.1.0/gems/iruby-0.2.9/lib/iruby/kernel.rb:87:in `execute_request'\u001b[0m",
      "\u001b[37m/Users/runa/.rbenv/versions/2.1.2/lib/ruby/gems/2.1.0/gems/iruby-0.2.9/lib/iruby/kernel.rb:47:in `dispatch'\u001b[0m",
      "\u001b[37m/Users/runa/.rbenv/versions/2.1.2/lib/ruby/gems/2.1.0/gems/iruby-0.2.9/lib/iruby/kernel.rb:37:in `run'\u001b[0m",
      "\u001b[37m/Users/runa/.rbenv/versions/2.1.2/lib/ruby/gems/2.1.0/gems/iruby-0.2.9/lib/iruby/command.rb:70:in `run_kernel'\u001b[0m",
      "\u001b[37m/Users/runa/.rbenv/versions/2.1.2/lib/ruby/gems/2.1.0/gems/iruby-0.2.9/lib/iruby/command.rb:34:in `run'\u001b[0m",
      "\u001b[37m/Users/runa/.rbenv/versions/2.1.2/lib/ruby/gems/2.1.0/gems/iruby-0.2.9/bin/iruby:5:in `<top (required)>'\u001b[0m",
      "\u001b[37m/Users/runa/.rbenv/versions/2.1.2/bin/iruby:23:in `load'\u001b[0m",
      "\u001b[37m/Users/runa/.rbenv/versions/2.1.2/bin/iruby:23:in `<main>'\u001b[0m"
     ]
    }
   ],
   "source": [
    "graph.to_ttl"
   ]
  },
  {
   "cell_type": "code",
   "execution_count": 31,
   "metadata": {
    "collapsed": true
   },
   "outputs": [
    {
     "name": "stderr",
     "output_type": "stream",
     "text": [
      "ERROR Getting CURIE for #<RDF::Query::Variable:0x3ff0e81a7a48(?s)>, which must be a resource\n"
     ]
    },
    {
     "ename": "RDF::WriterError",
     "evalue": "Errors found during processing",
     "output_type": "error",
     "traceback": [
      "\u001b[31mRDF::WriterError\u001b[0m: Errors found during processing",
      "\u001b[37m/Users/runa/.rbenv/versions/2.1.2/lib/ruby/gems/2.1.0/gems/rdf-2.0.0/lib/rdf/writer.rb:398:in `write_epilogue'\u001b[0m",
      "\u001b[37m/Users/runa/.rbenv/versions/2.1.2/lib/ruby/gems/2.1.0/gems/rdf-rdfa-2.0.0/lib/rdf/rdfa/writer.rb:195:in `write_epilogue'\u001b[0m",
      "\u001b[37m/Users/runa/.rbenv/versions/2.1.2/lib/ruby/gems/2.1.0/gems/rdf-2.0.0/lib/rdf/writer.rb:269:in `initialize'\u001b[0m",
      "\u001b[37m/Users/runa/.rbenv/versions/2.1.2/lib/ruby/gems/2.1.0/gems/rdf-rdfa-2.0.0/lib/rdf/rdfa/writer.rb:120:in `initialize'\u001b[0m",
      "\u001b[37m/Users/runa/.rbenv/versions/2.1.2/lib/ruby/gems/2.1.0/gems/rdf-2.0.0/lib/rdf/writer.rb:199:in `new'\u001b[0m",
      "\u001b[37m/Users/runa/.rbenv/versions/2.1.2/lib/ruby/gems/2.1.0/gems/rdf-2.0.0/lib/rdf/writer.rb:199:in `block in buffer'\u001b[0m",
      "\u001b[37m/Users/runa/.rbenv/versions/2.1.2/lib/ruby/gems/2.1.0/gems/rdf-2.0.0/lib/rdf/writer.rb:197:in `open'\u001b[0m",
      "\u001b[37m/Users/runa/.rbenv/versions/2.1.2/lib/ruby/gems/2.1.0/gems/rdf-2.0.0/lib/rdf/writer.rb:197:in `buffer'\u001b[0m",
      "\u001b[37m/Users/runa/.rbenv/versions/2.1.2/lib/ruby/gems/2.1.0/gems/rdf-2.0.0/lib/rdf/mixin/enumerable.rb:758:in `method_missing'\u001b[0m",
      "\u001b[37m/Users/runa/.rbenv/versions/2.1.2/lib/ruby/gems/2.1.0/gems/iruby-0.2.9/lib/iruby/display.rb:248:in `block in <module:Registry>'\u001b[0m",
      "\u001b[37m/Users/runa/.rbenv/versions/2.1.2/lib/ruby/gems/2.1.0/gems/iruby-0.2.9/lib/iruby/display.rb:105:in `call'\u001b[0m",
      "\u001b[37m/Users/runa/.rbenv/versions/2.1.2/lib/ruby/gems/2.1.0/gems/iruby-0.2.9/lib/iruby/display.rb:105:in `render'\u001b[0m",
      "\u001b[37m/Users/runa/.rbenv/versions/2.1.2/lib/ruby/gems/2.1.0/gems/iruby-0.2.9/lib/iruby/display.rb:61:in `block in render'\u001b[0m",
      "\u001b[37m/Users/runa/.rbenv/versions/2.1.2/lib/ruby/gems/2.1.0/gems/iruby-0.2.9/lib/iruby/display.rb:60:in `each'\u001b[0m",
      "\u001b[37m/Users/runa/.rbenv/versions/2.1.2/lib/ruby/gems/2.1.0/gems/iruby-0.2.9/lib/iruby/display.rb:60:in `render'\u001b[0m",
      "\u001b[37m/Users/runa/.rbenv/versions/2.1.2/lib/ruby/gems/2.1.0/gems/iruby-0.2.9/lib/iruby/display.rb:23:in `display'\u001b[0m",
      "\u001b[37m/Users/runa/.rbenv/versions/2.1.2/lib/ruby/gems/2.1.0/gems/iruby-0.2.9/lib/iruby/kernel.rb:96:in `execute_request'\u001b[0m",
      "\u001b[37m/Users/runa/.rbenv/versions/2.1.2/lib/ruby/gems/2.1.0/gems/iruby-0.2.9/lib/iruby/kernel.rb:47:in `dispatch'\u001b[0m",
      "\u001b[37m/Users/runa/.rbenv/versions/2.1.2/lib/ruby/gems/2.1.0/gems/iruby-0.2.9/lib/iruby/kernel.rb:37:in `run'\u001b[0m",
      "\u001b[37m/Users/runa/.rbenv/versions/2.1.2/lib/ruby/gems/2.1.0/gems/iruby-0.2.9/lib/iruby/command.rb:70:in `run_kernel'\u001b[0m",
      "\u001b[37m/Users/runa/.rbenv/versions/2.1.2/lib/ruby/gems/2.1.0/gems/iruby-0.2.9/lib/iruby/command.rb:34:in `run'\u001b[0m",
      "\u001b[37m/Users/runa/.rbenv/versions/2.1.2/lib/ruby/gems/2.1.0/gems/iruby-0.2.9/bin/iruby:5:in `<top (required)>'\u001b[0m",
      "\u001b[37m/Users/runa/.rbenv/versions/2.1.2/bin/iruby:23:in `load'\u001b[0m",
      "\u001b[37m/Users/runa/.rbenv/versions/2.1.2/bin/iruby:23:in `<main>'\u001b[0m"
     ]
    }
   ],
   "source": [
    "query = RDF::Query.new({\n",
    "  :s => {\n",
    "    RDF::Vocab::VCARD.hasURL => gn.青森県八戸市\n",
    "  }\n",
    "})"
   ]
  },
  {
   "cell_type": "code",
   "execution_count": 39,
   "metadata": {
    "collapsed": true
   },
   "outputs": [
    {
     "ename": "NoMethodError",
     "evalue": "undefined method `datatype' for #<RDF::Query::Variable:0x3ff0e65c83e0(?url)>",
     "output_type": "error",
     "traceback": [
      "\u001b[31mNoMethodError\u001b[0m: undefined method `datatype' for #<RDF::Query::Variable:0x3ff0e65c83e0(?url)>",
      "\u001b[37m(haml):15:in `block in render'\u001b[0m",
      "\u001b[37m/Users/runa/.rbenv/versions/2.1.2/lib/ruby/gems/2.1.0/gems/haml-4.1.0.beta.1/lib/haml/engine.rb:126:in `eval'\u001b[0m",
      "\u001b[37m/Users/runa/.rbenv/versions/2.1.2/lib/ruby/gems/2.1.0/gems/haml-4.1.0.beta.1/lib/haml/engine.rb:126:in `render'\u001b[0m",
      "\u001b[37m/Users/runa/.rbenv/versions/2.1.2/lib/ruby/gems/2.1.0/gems/rdf-rdfa-2.0.0/lib/rdf/rdfa/writer.rb:764:in `hamlify'\u001b[0m",
      "\u001b[37m/Users/runa/.rbenv/versions/2.1.2/lib/ruby/gems/2.1.0/gems/rdf-rdfa-2.0.0/lib/rdf/rdfa/writer.rb:358:in `render_property'\u001b[0m",
      "\u001b[37m/Users/runa/.rbenv/versions/2.1.2/lib/ruby/gems/2.1.0/gems/rdf-rdfa-2.0.0/lib/rdf/rdfa/writer.rb:583:in `predicate'\u001b[0m",
      "\u001b[37m/Users/runa/.rbenv/versions/2.1.2/lib/ruby/gems/2.1.0/gems/rdf-rdfa-2.0.0/lib/rdf/rdfa/writer.rb:563:in `block (3 levels) in render_subject_template'\u001b[0m",
      "\u001b[37m/Users/runa/.rbenv/versions/2.1.2/lib/ruby/gems/2.1.0/gems/rdf-2.0.0/lib/rdf/util/logger.rb:252:in `log_depth'\u001b[0m",
      "\u001b[37m/Users/runa/.rbenv/versions/2.1.2/lib/ruby/gems/2.1.0/gems/rdf-2.0.0/lib/rdf/util/logger.rb:192:in `log_depth'\u001b[0m",
      "\u001b[37m/Users/runa/.rbenv/versions/2.1.2/lib/ruby/gems/2.1.0/gems/rdf-rdfa-2.0.0/lib/rdf/rdfa/writer.rb:559:in `block (2 levels) in render_subject_template'\u001b[0m",
      "\u001b[37m/Users/runa/.rbenv/versions/2.1.2/lib/ruby/gems/2.1.0/gems/rdf-rdfa-2.0.0/lib/rdf/rdfa/writer.rb:282:in `block in render_subject'\u001b[0m",
      "\u001b[37m/Users/runa/.rbenv/versions/2.1.2/lib/ruby/gems/2.1.0/gems/rdf-rdfa-2.0.0/lib/rdf/rdfa/writer.rb:765:in `block in hamlify'\u001b[0m",
      "\u001b[37m(haml):12:in `block (2 levels) in render'\u001b[0m",
      "\u001b[37m(haml):11:in `each'\u001b[0m",
      "\u001b[37m(haml):11:in `block in render'\u001b[0m",
      "\u001b[37m/Users/runa/.rbenv/versions/2.1.2/lib/ruby/gems/2.1.0/gems/haml-4.1.0.beta.1/lib/haml/engine.rb:126:in `eval'\u001b[0m",
      "\u001b[37m/Users/runa/.rbenv/versions/2.1.2/lib/ruby/gems/2.1.0/gems/haml-4.1.0.beta.1/lib/haml/engine.rb:126:in `render'\u001b[0m",
      "\u001b[37m/Users/runa/.rbenv/versions/2.1.2/lib/ruby/gems/2.1.0/gems/rdf-rdfa-2.0.0/lib/rdf/rdfa/writer.rb:764:in `hamlify'\u001b[0m",
      "\u001b[37m/Users/runa/.rbenv/versions/2.1.2/lib/ruby/gems/2.1.0/gems/rdf-rdfa-2.0.0/lib/rdf/rdfa/writer.rb:281:in `render_subject'\u001b[0m",
      "\u001b[37m/Users/runa/.rbenv/versions/2.1.2/lib/ruby/gems/2.1.0/gems/rdf-rdfa-2.0.0/lib/rdf/rdfa/writer.rb:558:in `block in render_subject_template'\u001b[0m",
      "\u001b[37m/Users/runa/.rbenv/versions/2.1.2/lib/ruby/gems/2.1.0/gems/rdf-rdfa-2.0.0/lib/rdf/rdfa/writer.rb:743:in `with_template'\u001b[0m",
      "\u001b[37m/Users/runa/.rbenv/versions/2.1.2/lib/ruby/gems/2.1.0/gems/rdf-rdfa-2.0.0/lib/rdf/rdfa/writer.rb:557:in `render_subject_template'\u001b[0m",
      "\u001b[37m/Users/runa/.rbenv/versions/2.1.2/lib/ruby/gems/2.1.0/gems/rdf-rdfa-2.0.0/lib/rdf/rdfa/writer.rb:506:in `subject'\u001b[0m",
      "\u001b[37m/Users/runa/.rbenv/versions/2.1.2/lib/ruby/gems/2.1.0/gems/rdf-rdfa-2.0.0/lib/rdf/rdfa/writer.rb:191:in `block in write_epilogue'\u001b[0m",
      "\u001b[37m/Users/runa/.rbenv/versions/2.1.2/lib/ruby/gems/2.1.0/gems/rdf-rdfa-2.0.0/lib/rdf/rdfa/writer.rb:231:in `block in render_document'\u001b[0m",
      "\u001b[37m/Users/runa/.rbenv/versions/2.1.2/lib/ruby/gems/2.1.0/gems/rdf-rdfa-2.0.0/lib/rdf/rdfa/writer.rb:765:in `block in hamlify'\u001b[0m",
      "\u001b[37m(haml):12:in `block (2 levels) in render'\u001b[0m",
      "\u001b[37m(haml):11:in `map'\u001b[0m",
      "\u001b[37m(haml):11:in `block in render'\u001b[0m",
      "\u001b[37m/Users/runa/.rbenv/versions/2.1.2/lib/ruby/gems/2.1.0/gems/haml-4.1.0.beta.1/lib/haml/engine.rb:126:in `eval'\u001b[0m",
      "\u001b[37m/Users/runa/.rbenv/versions/2.1.2/lib/ruby/gems/2.1.0/gems/haml-4.1.0.beta.1/lib/haml/engine.rb:126:in `render'\u001b[0m",
      "\u001b[37m/Users/runa/.rbenv/versions/2.1.2/lib/ruby/gems/2.1.0/gems/rdf-rdfa-2.0.0/lib/rdf/rdfa/writer.rb:764:in `hamlify'\u001b[0m",
      "\u001b[37m/Users/runa/.rbenv/versions/2.1.2/lib/ruby/gems/2.1.0/gems/rdf-rdfa-2.0.0/lib/rdf/rdfa/writer.rb:230:in `render_document'\u001b[0m",
      "\u001b[37m/Users/runa/.rbenv/versions/2.1.2/lib/ruby/gems/2.1.0/gems/rdf-rdfa-2.0.0/lib/rdf/rdfa/writer.rb:186:in `write_epilogue'\u001b[0m",
      "\u001b[37m/Users/runa/.rbenv/versions/2.1.2/lib/ruby/gems/2.1.0/gems/rdf-2.0.0/lib/rdf/writer.rb:269:in `initialize'\u001b[0m",
      "\u001b[37m/Users/runa/.rbenv/versions/2.1.2/lib/ruby/gems/2.1.0/gems/rdf-rdfa-2.0.0/lib/rdf/rdfa/writer.rb:120:in `initialize'\u001b[0m",
      "\u001b[37m/Users/runa/.rbenv/versions/2.1.2/lib/ruby/gems/2.1.0/gems/rdf-2.0.0/lib/rdf/writer.rb:199:in `new'\u001b[0m",
      "\u001b[37m/Users/runa/.rbenv/versions/2.1.2/lib/ruby/gems/2.1.0/gems/rdf-2.0.0/lib/rdf/writer.rb:199:in `block in buffer'\u001b[0m",
      "\u001b[37m/Users/runa/.rbenv/versions/2.1.2/lib/ruby/gems/2.1.0/gems/rdf-2.0.0/lib/rdf/writer.rb:197:in `open'\u001b[0m",
      "\u001b[37m/Users/runa/.rbenv/versions/2.1.2/lib/ruby/gems/2.1.0/gems/rdf-2.0.0/lib/rdf/writer.rb:197:in `buffer'\u001b[0m",
      "\u001b[37m/Users/runa/.rbenv/versions/2.1.2/lib/ruby/gems/2.1.0/gems/rdf-2.0.0/lib/rdf/mixin/enumerable.rb:758:in `method_missing'\u001b[0m",
      "\u001b[37m/Users/runa/.rbenv/versions/2.1.2/lib/ruby/gems/2.1.0/gems/iruby-0.2.9/lib/iruby/display.rb:248:in `block in <module:Registry>'\u001b[0m",
      "\u001b[37m/Users/runa/.rbenv/versions/2.1.2/lib/ruby/gems/2.1.0/gems/iruby-0.2.9/lib/iruby/display.rb:105:in `call'\u001b[0m",
      "\u001b[37m/Users/runa/.rbenv/versions/2.1.2/lib/ruby/gems/2.1.0/gems/iruby-0.2.9/lib/iruby/display.rb:105:in `render'\u001b[0m",
      "\u001b[37m/Users/runa/.rbenv/versions/2.1.2/lib/ruby/gems/2.1.0/gems/iruby-0.2.9/lib/iruby/display.rb:61:in `block in render'\u001b[0m",
      "\u001b[37m/Users/runa/.rbenv/versions/2.1.2/lib/ruby/gems/2.1.0/gems/iruby-0.2.9/lib/iruby/display.rb:60:in `each'\u001b[0m",
      "\u001b[37m/Users/runa/.rbenv/versions/2.1.2/lib/ruby/gems/2.1.0/gems/iruby-0.2.9/lib/iruby/display.rb:60:in `render'\u001b[0m",
      "\u001b[37m/Users/runa/.rbenv/versions/2.1.2/lib/ruby/gems/2.1.0/gems/iruby-0.2.9/lib/iruby/display.rb:23:in `display'\u001b[0m",
      "\u001b[37m/Users/runa/.rbenv/versions/2.1.2/lib/ruby/gems/2.1.0/gems/iruby-0.2.9/lib/iruby/kernel.rb:96:in `execute_request'\u001b[0m",
      "\u001b[37m/Users/runa/.rbenv/versions/2.1.2/lib/ruby/gems/2.1.0/gems/iruby-0.2.9/lib/iruby/kernel.rb:47:in `dispatch'\u001b[0m",
      "\u001b[37m/Users/runa/.rbenv/versions/2.1.2/lib/ruby/gems/2.1.0/gems/iruby-0.2.9/lib/iruby/kernel.rb:37:in `run'\u001b[0m",
      "\u001b[37m/Users/runa/.rbenv/versions/2.1.2/lib/ruby/gems/2.1.0/gems/iruby-0.2.9/lib/iruby/command.rb:70:in `run_kernel'\u001b[0m",
      "\u001b[37m/Users/runa/.rbenv/versions/2.1.2/lib/ruby/gems/2.1.0/gems/iruby-0.2.9/lib/iruby/command.rb:34:in `run'\u001b[0m",
      "\u001b[37m/Users/runa/.rbenv/versions/2.1.2/lib/ruby/gems/2.1.0/gems/iruby-0.2.9/bin/iruby:5:in `<top (required)>'\u001b[0m",
      "\u001b[37m/Users/runa/.rbenv/versions/2.1.2/bin/iruby:23:in `load'\u001b[0m",
      "\u001b[37m/Users/runa/.rbenv/versions/2.1.2/bin/iruby:23:in `<main>'\u001b[0m"
     ]
    }
   ],
   "source": [
    "query = RDF::Query.new({\n",
    "  :s => {\n",
    "    RDF.type => RDF::Vocab::SCHEMA.Place,\n",
    "    RDF::Vocab::VCARD.hasURL => :url\n",
    "  }\n",
    "})"
   ]
  },
  {
   "cell_type": "code",
   "execution_count": 40,
   "metadata": {
    "collapsed": false
   },
   "outputs": [
    {
     "name": "stdout",
     "output_type": "stream",
     "text": [
      "http://geonames.org/resource/青森県八戸市小中野\n",
      "http://geonames.org/resource/なし\n",
      "http://geonames.org/resource/岩手県九戸郡野田村\n",
      "http://geonames.org/resource/なし\n",
      "http://geonames.org/resource/岩手県久慈市\n",
      "http://geonames.org/resource/青森県八戸市\n",
      "http://geonames.org/resource/岩手県\n",
      "http://geonames.org/resource/岩手県下閉伊郡普代村\n",
      "http://geonames.org/resource/新潟県新潟市西蒲区夏井\n",
      "http://geonames.org/resource/宮城県塩竈市野田\n"
     ]
    },
    {
     "data": {
      "text/plain": [
       "[#<RDF::Query::Solution:0x3ff0e6a82200({:s=>#<RDF::Vocabulary::Term:0x3ff0e65163c0 URI:http://example.com/小中野>, :url=>#<RDF::Vocabulary::Term:0x3ff0e6fdd0d8 URI:http://geonames.org/resource/青森県八戸市小中野>})>, #<RDF::Query::Solution:0x3ff0e85bdd1c({:s=>#<RDF::Vocabulary::Term:0x3ff0e6fc8778 URI:http://example.com/下安家>, :url=>#<RDF::Vocabulary::Term:0x3ff0e6fdd6a0 URI:http://geonames.org/resource/なし>})>, #<RDF::Query::Solution:0x3ff0e85bd858({:s=>#<RDF::Vocabulary::Term:0x3ff0e6516d20 URI:http://example.com/野田村>, :url=>#<RDF::Vocabulary::Term:0x3ff0e6fddc68 URI:http://geonames.org/resource/岩手県九戸郡野田村>})>, #<RDF::Query::Solution:0x3ff0e85bd394({:s=>#<RDF::Vocabulary::Term:0x3ff0e6516870 URI:http://example.com/北日本>, :url=>#<RDF::Vocabulary::Term:0x3ff0e6fdd6a0 URI:http://geonames.org/resource/なし>})>, #<RDF::Query::Solution:0x3ff0e85bced0({:s=>#<RDF::Vocabulary::Term:0x3ff0e6fc9a38 URI:http://example.com/久慈>, :url=>#<RDF::Vocabulary::Term:0x3ff0e6fdc548 URI:http://geonames.org/resource/岩手県久慈市>})>, #<RDF::Query::Solution:0x3ff0e85bca0c({:s=>#<RDF::Vocabulary::Term:0x3ff0e6ea5314 URI:http://example.com/八戸>, :url=>#<RDF::Vocabulary::Term:0x3ff0e6fd8254 URI:http://geonames.org/resource/青森県八戸市>})>, #<RDF::Query::Solution:0x3ff0e85bc548({:s=>#<RDF::Vocabulary::Term:0x3ff0e6fc90d8 URI:http://example.com/岩手>, :url=>#<RDF::Vocabulary::Term:0x3ff0e6fe1994 URI:http://geonames.org/resource/岩手県>})>, #<RDF::Query::Solution:0x3ff0e85bc084({:s=>#<RDF::Vocabulary::Term:0x3ff0e6fc8c28 URI:http://example.com/普代村>, :url=>#<RDF::Vocabulary::Term:0x3ff0e6fe13cc URI:http://geonames.org/resource/岩手県下閉伊郡普代村>})>, #<RDF::Query::Solution:0x3ff0e85c1b9c({:s=>#<RDF::Vocabulary::Term:0x3ff0e6fc9588 URI:http://example.com/夏井>, :url=>#<RDF::Vocabulary::Term:0x3ff0e6fe1f5c URI:http://geonames.org/resource/新潟県新潟市西蒲区夏井>})>, #<RDF::Query::Solution:0x3ff0e85c16d8({:s=>#<RDF::Vocabulary::Term:0x3ff0e6fc9ee8 URI:http://example.com/野田>, :url=>#<RDF::Vocabulary::Term:0x3ff0e6fdcb10 URI:http://geonames.org/resource/宮城県塩竈市野田>})>]"
      ]
     },
     "execution_count": 40,
     "metadata": {},
     "output_type": "execute_result"
    }
   ],
   "source": [
    "query.execute(graph).each do |solution|\n",
    "  puts \"#{solution.url}\"\n",
    "end"
   ]
  },
  {
   "cell_type": "code",
   "execution_count": null,
   "metadata": {
    "collapsed": true
   },
   "outputs": [],
   "source": []
  }
 ],
 "metadata": {
  "kernelspec": {
   "display_name": "Ruby 2.1.2",
   "language": "ruby",
   "name": "ruby"
  },
  "language_info": {
   "file_extension": ".rb",
   "mimetype": "application/x-ruby",
   "name": "ruby",
   "version": "2.1.2"
  }
 },
 "nbformat": 4,
 "nbformat_minor": 0
}
