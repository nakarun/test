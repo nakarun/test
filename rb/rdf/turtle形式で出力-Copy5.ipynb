{
 "cells": [
  {
   "cell_type": "code",
   "execution_count": 1,
   "metadata": {
    "collapsed": false
   },
   "outputs": [
    {
     "data": {
      "text/plain": [
       "true"
      ]
     },
     "execution_count": 1,
     "metadata": {},
     "output_type": "execute_result"
    }
   ],
   "source": [
    "require 'rdf' #RDF.rbの読み込み\n",
    "require 'rdf/rdfxml'  #rdf-rdfxmlの読み込み"
   ]
  },
  {
   "cell_type": "code",
   "execution_count": 2,
   "metadata": {
    "collapsed": false
   },
   "outputs": [
    {
     "data": {
      "text/plain": [
       "true"
      ]
     },
     "execution_count": 2,
     "metadata": {},
     "output_type": "execute_result"
    }
   ],
   "source": [
    "#https://github.com/ruby-rdf/rdf-vocab\n",
    "require 'rdf/vocab'"
   ]
  },
  {
   "cell_type": "code",
   "execution_count": 3,
   "metadata": {
    "collapsed": false
   },
   "outputs": [
    {
     "data": {
      "text/plain": [
       "false"
      ]
     },
     "execution_count": 3,
     "metadata": {},
     "output_type": "execute_result"
    }
   ],
   "source": [
    "require 'rdf/turtle'"
   ]
  },
  {
   "cell_type": "code",
   "execution_count": null,
   "metadata": {
    "collapsed": true
   },
   "outputs": [],
   "source": []
  },
  {
   "cell_type": "code",
   "execution_count": 4,
   "metadata": {
    "collapsed": false
   },
   "outputs": [
    {
     "data": {
      "text/plain": [
       "#<RDF::Vocabulary:0x3fe4fa16eee0(http://example.com/)>"
      ]
     },
     "execution_count": 4,
     "metadata": {},
     "output_type": "execute_result"
    }
   ],
   "source": [
    "ex = RDF::Vocabulary.new(\"http://example.com/\")"
   ]
  },
  {
   "cell_type": "code",
   "execution_count": 7,
   "metadata": {
    "collapsed": false
   },
   "outputs": [
    {
     "data": {
      "text/plain": [
       "#<RDF::Vocabulary:0x3fe4fa130334(http://geonames.org/resource/)>"
      ]
     },
     "execution_count": 7,
     "metadata": {},
     "output_type": "execute_result"
    }
   ],
   "source": [
    "gn = RDF::Vocabulary.new(\"http://geonames.org/resource/\")"
   ]
  },
  {
   "cell_type": "code",
   "execution_count": 9,
   "metadata": {
    "collapsed": false
   },
   "outputs": [
    {
     "data": {
      "text/html": [
       "<!DOCTYPE html>\n",
       "<html xmlns='http://www.w3.org/1999/xhtml'>\n",
       "  <body>\n",
       "  </body>\n",
       "</html>\n"
      ],
      "text/plain": [
       "#<RDF::Graph:0x3fe4fa8f97a0(default)>"
      ]
     },
     "execution_count": 9,
     "metadata": {},
     "output_type": "execute_result"
    }
   ],
   "source": [
    "# RDFグラフオブジェクトの作成\n",
    "graph = RDF::Graph.new"
   ]
  },
  {
   "cell_type": "code",
   "execution_count": 13,
   "metadata": {
    "collapsed": false,
    "scrolled": true
   },
   "outputs": [
    {
     "data": {
      "text/plain": [
       "[#<RDF::Statement:0x3fe4faad5628(<http://example.com/村産業まつり> <http://example.com/a> <http://example.com/村産業> .)>, #<RDF::Statement:0x3fe4faad51b4(<http://example.com/村産業まつり> <http://example.com/isA> <http://example.com/まつり> .)>, #<RDF::Statement:0x3fe4faad4d54(<http://example.com/すわ神社> <http://example.com/a> <http://example.com/すわ> .)>, #<RDF::Statement:0x3fe4faad487c(<http://example.com/すわ神社> <http://example.com/isA> <http://example.com/神社> .)>, #<RDF::Statement:0x3fe4faad4264(<http://example.com/さくらまつり> <http://example.com/a> <http://example.com/さくら> .)>, #<RDF::Statement:0x3fe4faad1e24(<http://example.com/さくらまつり> <http://example.com/isA> <http://example.com/まつり> .)>, #<RDF::Statement:0x3fe4faad19c4(<http://example.com/野田まつり> <http://example.com/isA> <http://example.com/まつり> .)>, #<RDF::Statement:0x3fe4faad1528(<http://example.com/野田まつり> <http://example.com/isIn> <http://example.com/野田> .)>, #<RDF::Statement:0x3fe4faad10b4(<http://example.com/北日本造船工場> <http://example.com/isIn> <http://example.com/北日本> .)>, #<RDF::Statement:0x3fe4faad0c54(<http://example.com/北日本造船工場> <http://example.com/isA> <http://example.com/工場> .)>, #<RDF::Statement:0x3fe4faad0614(<http://example.com/北日本造船工場> <http://example.com/isRelatedIn> <http://example.com/造船> .)>, #<RDF::Statement:0x3fe4faad01a0(<http://example.com/国立オリンピック記念青少年総合センター国際交流棟> <http://example.com/isA> <http://example.com/センター> .)>, #<RDF::Statement:0x3fe4faacdd74(<http://example.com/国立オリンピック記念青少年総合センター国際交流棟> <http://example.com/a> <http://example.com/オリンピック> .)>, #<RDF::Statement:0x3fe4faacd8ec(<http://example.com/国立オリンピック記念青少年総合センター国際交流棟> <http://example.com/isRelatedIn> <http://example.com/国際交流> .)>, #<RDF::Statement:0x3fe4faacd464(<http://example.com/国立オリンピック記念青少年総合センター国際交流棟> <http://example.com/a> <http://example.com/記念> .)>, #<RDF::Statement:0x3fe4faacd018(<http://example.com/国立オリンピック記念青少年総合センター国際交流棟> <http://example.com/a> <http://example.com/総合> .)>, #<RDF::Statement:0x3fe4faaccb18(<http://example.com/国立オリンピック記念青少年総合センター国際交流棟> <http://example.com/a> <http://example.com/棟> .)>, #<RDF::Statement:0x3fe4faacc3d4(<http://example.com/国立オリンピック記念青少年総合センター国際交流棟> <http://example.com/a> <http://example.com/青少年> .)>, #<RDF::Statement:0x3fe4faac9f44(<http://example.com/国立オリンピック記念青少年総合センター国際交流棟> <http://example.com/a> <http://example.com/国立> .)>, #<RDF::Statement:0x3fe4faac9abc(<http://example.com/野田駅> <http://example.com/isA> <http://example.com/駅> .)>, #<RDF::Statement:0x3fe4faac965c(<http://example.com/野田駅> <http://example.com/isIn> <http://example.com/野田> .)>, #<RDF::Statement:0x3fe4faac91d4(<http://example.com/野田中学校体育祭> <http://example.com/isHeldIn> <http://example.com/野田中学校> .)>, #<RDF::Statement:0x3fe4faac8d4c(<http://example.com/野田中学校体育祭> <http://example.com/isHeldIn> <http://example.com/体育祭> .)>, #<RDF::Statement:0x3fe4faac8810(<http://example.com/普代村災対本部> <http://example.com/isRelatedIn> <http://example.com/災> .)>, #<RDF::Statement:0x3fe4faac8388(<http://example.com/普代村災対本部> <http://example.com/isIn> <http://example.com/普代村> .)>, #<RDF::Statement:0x3fe4faac5f48(<http://example.com/普代村災対本部> <http://example.com/isA> <http://example.com/本部> .)>, #<RDF::Statement:0x3fe4faac58cc(<http://example.com/普代村災対本部> <http://example.com/a> <http://example.com/対> .)>, #<RDF::Statement:0x3fe4faac5214(<http://example.com/夏井駅前> <http://example.com/isA> <http://example.com/駅> .)>, #<RDF::Statement:0x3fe4faac4bac(<http://example.com/夏井駅前> <http://example.com/a> <http://example.com/駅前> .)>, #<RDF::Statement:0x3fe4faac4418(<http://example.com/夏井駅前> <http://example.com/isIn> <http://example.com/夏井> .)>, #<RDF::Statement:0x3fe4faac1e20(<http://example.com/第1回岩手県災害廃棄物処理対策協議会> <http://example.com/isRelatedIn> <http://example.com/災害> .)>, #<RDF::Statement:0x3fe4faac19ac(<http://example.com/第1回岩手県災害廃棄物処理対策協議会> <http://example.com/a> <http://example.com/対策> .)>, #<RDF::Statement:0x3fe4faac1560(<http://example.com/第1回岩手県災害廃棄物処理対策協議会> <http://example.com/a> <http://example.com/県> .)>, #<RDF::Statement:0x3fe4faac0e08(<http://example.com/第1回岩手県災害廃棄物処理対策協議会> <http://example.com/isA> <http://example.com/協議会> .)>, #<RDF::Statement:0x3fe4faac069c(<http://example.com/第1回岩手県災害廃棄物処理対策協議会> <http://example.com/isRelatedIn> <http://example.com/廃棄物> .)>, #<RDF::Statement:0x3fe4faabdfa0(<http://example.com/第1回岩手県災害廃棄物処理対策協議会> <http://example.com/isIn> <http://example.com/岩手> .)>, #<RDF::Statement:0x3fe4faabdb40(<http://example.com/第1回岩手県災害廃棄物処理対策協議会> <http://example.com/a> <http://example.com/対> .)>, #<RDF::Statement:0x3fe4faabd6b8(<http://example.com/野田中学校> <http://example.com/isA> <http://example.com/中学校> .)>, #<RDF::Statement:0x3fe4faabd230(<http://example.com/野田中学校> <http://example.com/isIn> <http://example.com/野田> .)>, #<RDF::Statement:0x3fe4faabcda8(<http://example.com/八戸市shi災害ボランティアセンター> <http://example.com/isRelatedIn> <http://example.com/災> .)>, #<RDF::Statement:0x3fe4faabc90c(<http://example.com/八戸市shi災害ボランティアセンター> <http://example.com/isRelatedIn> <http://example.com/ボランティア> .)>, #<RDF::Statement:0x3fe4faabc4ac(<http://example.com/八戸市shi災害ボランティアセンター> <http://example.com/isA> <http://example.com/センター> .)>, #<RDF::Statement:0x3fe4faabc024(<http://example.com/八戸市shi災害ボランティアセンター> <http://example.com/isRelatedIn> <http://example.com/災害> .)>, #<RDF::Statement:0x3fe4faab9be4(<http://example.com/八戸市shi災害ボランティアセンター> <http://example.com/a> <http://example.com/市> .)>, #<RDF::Statement:0x3fe4faab948c(<http://example.com/八戸市shi災害ボランティアセンター> <http://example.com/isIn> <http://example.com/八戸> .)>, #<RDF::Statement:0x3fe4faab8a00(<http://example.com/小中野中学校> <http://example.com/isIn> <http://example.com/小中野> .)>, #<RDF::Statement:0x3fe4faab8564(<http://example.com/小中野中学校> <http://example.com/isA> <http://example.com/中学校> .)>, #<RDF::Statement:0x3fe4faab5b98(<http://example.com/久慈秋祭り> <http://example.com/isIn> <http://example.com/久慈> .)>, #<RDF::Statement:0x3fe4faab5454(<http://example.com/久慈秋祭り> <http://example.com/a> <http://example.com/秋> .)>, #<RDF::Statement:0x3fe4faab4d10(<http://example.com/久慈秋祭り> <http://example.com/isA> <http://example.com/祭り> .)>, #<RDF::Statement:0x3fe4faab4310(<http://example.com/港まつり復興市ichi> <http://example.com/a> <http://example.com/港> .)>, #<RDF::Statement:0x3fe4faab1c14(<http://example.com/港まつり復興市ichi> <http://example.com/a> <http://example.com/市ichi> .)>, #<RDF::Statement:0x3fe4faab17b4(<http://example.com/港まつり復興市ichi> <http://example.com/isA> <http://example.com/まつり> .)>, #<RDF::Statement:0x3fe4faab1034(<http://example.com/港まつり復興市ichi> <http://example.com/isRelatedIn> <http://example.com/復興> .)>, #<RDF::Statement:0x3fe4faab08dc(<http://example.com/野田村生涯学習センター> <http://example.com/isA> <http://example.com/センター> .)>, #<RDF::Statement:0x3fe4faab0198(<http://example.com/野田村生涯学習センター> <http://example.com/isIn> <http://example.com/野田村> .)>, #<RDF::Statement:0x3fe4faaada10(<http://example.com/野田村生涯学習センター> <http://example.com/isRelatedIn> <http://example.com/生涯学習> .)>, #<RDF::Statement:0x3fe4faaacfc0(<http://example.com/下安家地区集会所> <http://example.com/isA> <http://example.com/集会所> .)>, #<RDF::Statement:0x3fe4faaac868(<http://example.com/下安家地区集会所> <http://example.com/a> <http://example.com/地区> .)>, #<RDF::Statement:0x3fe4faaac0fc(<http://example.com/下安家地区集会所> <http://example.com/isIn> <http://example.com/下安家> .)>]"
      ]
     },
     "execution_count": 13,
     "metadata": {},
     "output_type": "execute_result"
    }
   ],
   "source": [
    "# RDF:Statement.newにトリプルとなる値を代入（主語、述語、目的語）\n",
    "statements = [\n",
    "RDF::Statement.new(ex.村産業まつり, ex.a, ex.村産業), \n",
    "RDF::Statement.new(ex.村産業まつり, ex.is_a, ex.まつり), \n",
    "RDF::Statement.new(ex.すわ神社, ex.a, ex.すわ), \n",
    "RDF::Statement.new(ex.すわ神社, ex.is_a, ex.神社), \n",
    "RDF::Statement.new(ex.さくらまつり, ex.a, ex.さくら), \n",
    "RDF::Statement.new(ex.さくらまつり, ex.is_a, ex.まつり), \n",
    "RDF::Statement.new(ex.野田まつり, ex.is_a, ex.まつり), \n",
    "RDF::Statement.new(ex.野田まつり, ex.is_in, ex.野田), \n",
    "RDF::Statement.new(ex.北日本造船工場, ex.is_in, ex.北日本), \n",
    "RDF::Statement.new(ex.北日本造船工場, ex.is_a, ex.工場), \n",
    "RDF::Statement.new(ex.北日本造船工場, ex.is_related_in, ex.造船), \n",
    "RDF::Statement.new(ex.国立オリンピック記念青少年総合センター国際交流棟, ex.is_a, ex.センター), \n",
    "RDF::Statement.new(ex.国立オリンピック記念青少年総合センター国際交流棟, ex.a, ex.オリンピック), \n",
    "RDF::Statement.new(ex.国立オリンピック記念青少年総合センター国際交流棟, ex.is_related_in, ex.国際交流), \n",
    "RDF::Statement.new(ex.国立オリンピック記念青少年総合センター国際交流棟, ex.a, ex.記念), \n",
    "RDF::Statement.new(ex.国立オリンピック記念青少年総合センター国際交流棟, ex.a, ex.総合), \n",
    "RDF::Statement.new(ex.国立オリンピック記念青少年総合センター国際交流棟, ex.a, ex.棟), \n",
    "RDF::Statement.new(ex.国立オリンピック記念青少年総合センター国際交流棟, ex.a, ex.青少年), \n",
    "RDF::Statement.new(ex.国立オリンピック記念青少年総合センター国際交流棟, ex.a, ex.国立), \n",
    "RDF::Statement.new(ex.野田駅, ex.is_a, ex.駅), \n",
    "RDF::Statement.new(ex.野田駅, ex.is_in, ex.野田), \n",
    "RDF::Statement.new(ex.野田中学校体育祭, ex.is_held_in, ex.野田中学校), \n",
    "RDF::Statement.new(ex.野田中学校体育祭, ex.is_a, ex.体育祭), \n",
    "RDF::Statement.new(ex.普代村災対本部, ex.is_related_in, ex.災), \n",
    "RDF::Statement.new(ex.普代村災対本部, ex.is_in, ex.普代村), \n",
    "RDF::Statement.new(ex.普代村災対本部, ex.is_a, ex.本部), \n",
    "RDF::Statement.new(ex.普代村災対本部, ex.a, ex.対), \n",
    "RDF::Statement.new(ex.夏井駅前, ex.is_a, ex.駅), \n",
    "RDF::Statement.new(ex.夏井駅前, ex.a, ex.駅前), \n",
    "RDF::Statement.new(ex.夏井駅前, ex.is_in, ex.夏井), \n",
    "RDF::Statement.new(ex.第1回岩手県災害廃棄物処理対策協議会, ex.is_related_in, ex.災害), \n",
    "RDF::Statement.new(ex.第1回岩手県災害廃棄物処理対策協議会, ex.a, ex.対策), \n",
    "RDF::Statement.new(ex.第1回岩手県災害廃棄物処理対策協議会, ex.a, ex.県), \n",
    "RDF::Statement.new(ex.第1回岩手県災害廃棄物処理対策協議会, ex.is_a, ex.協議会), \n",
    "RDF::Statement.new(ex.第1回岩手県災害廃棄物処理対策協議会, ex.is_related_in, ex.廃棄物), \n",
    "RDF::Statement.new(ex.第1回岩手県災害廃棄物処理対策協議会, ex.is_in, ex.岩手), \n",
    "RDF::Statement.new(ex.第1回岩手県災害廃棄物処理対策協議会, ex.a, ex.対), \n",
    "RDF::Statement.new(ex.野田中学校, ex.is_a, ex.中学校), \n",
    "RDF::Statement.new(ex.野田中学校, ex.is_in, ex.野田), \n",
    "RDF::Statement.new(ex.八戸市shi災害ボランティアセンター, ex.is_related_in, ex.災), \n",
    "RDF::Statement.new(ex.八戸市shi災害ボランティアセンター, ex.is_related_in, ex.ボランティア), \n",
    "RDF::Statement.new(ex.八戸市shi災害ボランティアセンター, ex.is_a, ex.センター), \n",
    "RDF::Statement.new(ex.八戸市shi災害ボランティアセンター, ex.is_related_in, ex.災害), \n",
    "RDF::Statement.new(ex.八戸市shi災害ボランティアセンター, ex.a, ex.市), \n",
    "RDF::Statement.new(ex.八戸市shi災害ボランティアセンター, ex.is_in, ex.八戸), \n",
    "RDF::Statement.new(ex.小中野中学校, ex.is_in, ex.小中野), \n",
    "RDF::Statement.new(ex.小中野中学校, ex.is_a, ex.中学校), \n",
    "RDF::Statement.new(ex.久慈秋祭り, ex.is_in, ex.久慈), \n",
    "RDF::Statement.new(ex.久慈秋祭り, ex.a, ex.秋), \n",
    "RDF::Statement.new(ex.久慈秋祭り, ex.is_a, ex.祭り), \n",
    "RDF::Statement.new(ex.港まつり復興市ichi, ex.a, ex.港), \n",
    "RDF::Statement.new(ex.港まつり復興市ichi, ex.a, ex.市ichi), \n",
    "RDF::Statement.new(ex.港まつり復興市ichi, ex.is_a, ex.まつり), \n",
    "RDF::Statement.new(ex.港まつり復興市ichi, ex.is_related_in, ex.復興), \n",
    "RDF::Statement.new(ex.野田村生涯学習センター, ex.is_a, ex.センター), \n",
    "RDF::Statement.new(ex.野田村生涯学習センター, ex.is_in, ex.野田村), \n",
    "RDF::Statement.new(ex.野田村生涯学習センター, ex.is_related_in, ex.生涯学習), \n",
    "RDF::Statement.new(ex.下安家地区集会所, ex.is_a, ex.集会所), \n",
    "RDF::Statement.new(ex.下安家地区集会所, ex.a, ex.地区), \n",
    "RDF::Statement.new(ex.下安家地区集会所, ex.is_in, ex.下安家)\n",
    "]"
   ]
  },
  {
   "cell_type": "code",
   "execution_count": 14,
   "metadata": {
    "collapsed": true
   },
   "outputs": [
    {
     "data": {
      "text/plain": [
       "[#<RDF::Statement:0x3fe4faad5628(<http://example.com/村産業まつり> <http://example.com/a> <http://example.com/村産業> .)>, #<RDF::Statement:0x3fe4faad51b4(<http://example.com/村産業まつり> <http://example.com/isA> <http://example.com/まつり> .)>, #<RDF::Statement:0x3fe4faad4d54(<http://example.com/すわ神社> <http://example.com/a> <http://example.com/すわ> .)>, #<RDF::Statement:0x3fe4faad487c(<http://example.com/すわ神社> <http://example.com/isA> <http://example.com/神社> .)>, #<RDF::Statement:0x3fe4faad4264(<http://example.com/さくらまつり> <http://example.com/a> <http://example.com/さくら> .)>, #<RDF::Statement:0x3fe4faad1e24(<http://example.com/さくらまつり> <http://example.com/isA> <http://example.com/まつり> .)>, #<RDF::Statement:0x3fe4faad19c4(<http://example.com/野田まつり> <http://example.com/isA> <http://example.com/まつり> .)>, #<RDF::Statement:0x3fe4faad1528(<http://example.com/野田まつり> <http://example.com/isIn> <http://example.com/野田> .)>, #<RDF::Statement:0x3fe4faad10b4(<http://example.com/北日本造船工場> <http://example.com/isIn> <http://example.com/北日本> .)>, #<RDF::Statement:0x3fe4faad0c54(<http://example.com/北日本造船工場> <http://example.com/isA> <http://example.com/工場> .)>, #<RDF::Statement:0x3fe4faad0614(<http://example.com/北日本造船工場> <http://example.com/isRelatedIn> <http://example.com/造船> .)>, #<RDF::Statement:0x3fe4faad01a0(<http://example.com/国立オリンピック記念青少年総合センター国際交流棟> <http://example.com/isA> <http://example.com/センター> .)>, #<RDF::Statement:0x3fe4faacdd74(<http://example.com/国立オリンピック記念青少年総合センター国際交流棟> <http://example.com/a> <http://example.com/オリンピック> .)>, #<RDF::Statement:0x3fe4faacd8ec(<http://example.com/国立オリンピック記念青少年総合センター国際交流棟> <http://example.com/isRelatedIn> <http://example.com/国際交流> .)>, #<RDF::Statement:0x3fe4faacd464(<http://example.com/国立オリンピック記念青少年総合センター国際交流棟> <http://example.com/a> <http://example.com/記念> .)>, #<RDF::Statement:0x3fe4faacd018(<http://example.com/国立オリンピック記念青少年総合センター国際交流棟> <http://example.com/a> <http://example.com/総合> .)>, #<RDF::Statement:0x3fe4faaccb18(<http://example.com/国立オリンピック記念青少年総合センター国際交流棟> <http://example.com/a> <http://example.com/棟> .)>, #<RDF::Statement:0x3fe4faacc3d4(<http://example.com/国立オリンピック記念青少年総合センター国際交流棟> <http://example.com/a> <http://example.com/青少年> .)>, #<RDF::Statement:0x3fe4faac9f44(<http://example.com/国立オリンピック記念青少年総合センター国際交流棟> <http://example.com/a> <http://example.com/国立> .)>, #<RDF::Statement:0x3fe4faac9abc(<http://example.com/野田駅> <http://example.com/isA> <http://example.com/駅> .)>, #<RDF::Statement:0x3fe4faac965c(<http://example.com/野田駅> <http://example.com/isIn> <http://example.com/野田> .)>, #<RDF::Statement:0x3fe4faac91d4(<http://example.com/野田中学校体育祭> <http://example.com/isHeldIn> <http://example.com/野田中学校> .)>, #<RDF::Statement:0x3fe4faac8d4c(<http://example.com/野田中学校体育祭> <http://example.com/isHeldIn> <http://example.com/体育祭> .)>, #<RDF::Statement:0x3fe4faac8810(<http://example.com/普代村災対本部> <http://example.com/isRelatedIn> <http://example.com/災> .)>, #<RDF::Statement:0x3fe4faac8388(<http://example.com/普代村災対本部> <http://example.com/isIn> <http://example.com/普代村> .)>, #<RDF::Statement:0x3fe4faac5f48(<http://example.com/普代村災対本部> <http://example.com/isA> <http://example.com/本部> .)>, #<RDF::Statement:0x3fe4faac58cc(<http://example.com/普代村災対本部> <http://example.com/a> <http://example.com/対> .)>, #<RDF::Statement:0x3fe4faac5214(<http://example.com/夏井駅前> <http://example.com/isA> <http://example.com/駅> .)>, #<RDF::Statement:0x3fe4faac4bac(<http://example.com/夏井駅前> <http://example.com/a> <http://example.com/駅前> .)>, #<RDF::Statement:0x3fe4faac4418(<http://example.com/夏井駅前> <http://example.com/isIn> <http://example.com/夏井> .)>, #<RDF::Statement:0x3fe4faac1e20(<http://example.com/第1回岩手県災害廃棄物処理対策協議会> <http://example.com/isRelatedIn> <http://example.com/災害> .)>, #<RDF::Statement:0x3fe4faac19ac(<http://example.com/第1回岩手県災害廃棄物処理対策協議会> <http://example.com/a> <http://example.com/対策> .)>, #<RDF::Statement:0x3fe4faac1560(<http://example.com/第1回岩手県災害廃棄物処理対策協議会> <http://example.com/a> <http://example.com/県> .)>, #<RDF::Statement:0x3fe4faac0e08(<http://example.com/第1回岩手県災害廃棄物処理対策協議会> <http://example.com/isA> <http://example.com/協議会> .)>, #<RDF::Statement:0x3fe4faac069c(<http://example.com/第1回岩手県災害廃棄物処理対策協議会> <http://example.com/isRelatedIn> <http://example.com/廃棄物> .)>, #<RDF::Statement:0x3fe4faabdfa0(<http://example.com/第1回岩手県災害廃棄物処理対策協議会> <http://example.com/isIn> <http://example.com/岩手> .)>, #<RDF::Statement:0x3fe4faabdb40(<http://example.com/第1回岩手県災害廃棄物処理対策協議会> <http://example.com/a> <http://example.com/対> .)>, #<RDF::Statement:0x3fe4faabd6b8(<http://example.com/野田中学校> <http://example.com/isA> <http://example.com/中学校> .)>, #<RDF::Statement:0x3fe4faabd230(<http://example.com/野田中学校> <http://example.com/isIn> <http://example.com/野田> .)>, #<RDF::Statement:0x3fe4faabcda8(<http://example.com/八戸市shi災害ボランティアセンター> <http://example.com/isRelatedIn> <http://example.com/災> .)>, #<RDF::Statement:0x3fe4faabc90c(<http://example.com/八戸市shi災害ボランティアセンター> <http://example.com/isRelatedIn> <http://example.com/ボランティア> .)>, #<RDF::Statement:0x3fe4faabc4ac(<http://example.com/八戸市shi災害ボランティアセンター> <http://example.com/isA> <http://example.com/センター> .)>, #<RDF::Statement:0x3fe4faabc024(<http://example.com/八戸市shi災害ボランティアセンター> <http://example.com/isRelatedIn> <http://example.com/災害> .)>, #<RDF::Statement:0x3fe4faab9be4(<http://example.com/八戸市shi災害ボランティアセンター> <http://example.com/a> <http://example.com/市> .)>, #<RDF::Statement:0x3fe4faab948c(<http://example.com/八戸市shi災害ボランティアセンター> <http://example.com/isIn> <http://example.com/八戸> .)>, #<RDF::Statement:0x3fe4faab8a00(<http://example.com/小中野中学校> <http://example.com/isIn> <http://example.com/小中野> .)>, #<RDF::Statement:0x3fe4faab8564(<http://example.com/小中野中学校> <http://example.com/isA> <http://example.com/中学校> .)>, #<RDF::Statement:0x3fe4faab5b98(<http://example.com/久慈秋祭り> <http://example.com/isIn> <http://example.com/久慈> .)>, #<RDF::Statement:0x3fe4faab5454(<http://example.com/久慈秋祭り> <http://example.com/a> <http://example.com/秋> .)>, #<RDF::Statement:0x3fe4faab4d10(<http://example.com/久慈秋祭り> <http://example.com/isA> <http://example.com/祭り> .)>, #<RDF::Statement:0x3fe4faab4310(<http://example.com/港まつり復興市ichi> <http://example.com/a> <http://example.com/港> .)>, #<RDF::Statement:0x3fe4faab1c14(<http://example.com/港まつり復興市ichi> <http://example.com/a> <http://example.com/市ichi> .)>, #<RDF::Statement:0x3fe4faab17b4(<http://example.com/港まつり復興市ichi> <http://example.com/isA> <http://example.com/まつり> .)>, #<RDF::Statement:0x3fe4faab1034(<http://example.com/港まつり復興市ichi> <http://example.com/isRelatedIn> <http://example.com/復興> .)>, #<RDF::Statement:0x3fe4faab08dc(<http://example.com/野田村生涯学習センター> <http://example.com/isA> <http://example.com/センター> .)>, #<RDF::Statement:0x3fe4faab0198(<http://example.com/野田村生涯学習センター> <http://example.com/isIn> <http://example.com/野田村> .)>, #<RDF::Statement:0x3fe4faaada10(<http://example.com/野田村生涯学習センター> <http://example.com/isRelatedIn> <http://example.com/生涯学習> .)>, #<RDF::Statement:0x3fe4faaacfc0(<http://example.com/下安家地区集会所> <http://example.com/isA> <http://example.com/集会所> .)>, #<RDF::Statement:0x3fe4faaac868(<http://example.com/下安家地区集会所> <http://example.com/a> <http://example.com/地区> .)>, #<RDF::Statement:0x3fe4faaac0fc(<http://example.com/下安家地区集会所> <http://example.com/isIn> <http://example.com/下安家> .)>]"
      ]
     },
     "execution_count": 14,
     "metadata": {},
     "output_type": "execute_result"
    }
   ],
   "source": [
    "# トリプルを代入した配列をグラフオブジェクトへ\n",
    "statements.each do |statement|\n",
    "   graph << statement\n",
    "end"
   ]
  },
  {
   "cell_type": "code",
   "execution_count": 15,
   "metadata": {
    "collapsed": true
   },
   "outputs": [
    {
     "data": {
      "text/plain": [
       "\"\\n<http://example.com/さくらまつり> <http://example.com/a> <http://example.com/さくら>;\\n   <http://example.com/isA> <http://example.com/まつり> .\\n\\n<http://example.com/すわ神社> <http://example.com/a> <http://example.com/すわ>;\\n   <http://example.com/isA> <http://example.com/神社> .\\n\\n<http://example.com/下安家地区集会所> <http://example.com/a> <http://example.com/地区>;\\n   <http://example.com/isA> <http://example.com/集会所>;\\n   <http://example.com/isIn> <http://example.com/下安家> .\\n\\n<http://example.com/久慈秋祭り> <http://example.com/a> <http://example.com/秋>;\\n   <http://example.com/isA> <http://example.com/祭り>;\\n   <http://example.com/isIn> <http://example.com/久慈> .\\n\\n<http://example.com/八戸市shi災害ボランティアセンター> <http://example.com/a> <http://example.com/市>;\\n   <http://example.com/isA> <http://example.com/センター>;\\n   <http://example.com/isIn> <http://example.com/八戸>;\\n   <http://example.com/isRelatedIn> <http://example.com/災>,\\n     <http://example.com/災害>,\\n     <http://example.com/ボランティア> .\\n\\n<http://example.com/北日本造船工場> <http://example.com/isA> <http://example.com/工場>;\\n   <http://example.com/isIn> <http://example.com/北日本>;\\n   <http://example.com/isRelatedIn> <http://example.com/造船> .\\n\\n<http://example.com/国立オリンピック記念青少年総合センター国際交流棟> <http://example.com/a> <http://example.com/青少年>,\\n     <http://example.com/棟>,\\n     <http://example.com/オリンピック>,\\n     <http://example.com/国立>,\\n     <http://example.com/総合>,\\n     <http://example.com/記念>;\\n   <http://example.com/isA> <http://example.com/センター>;\\n   <http://example.com/isRelatedIn> <http://example.com/国際交流> .\\n\\n<http://example.com/夏井駅前> <http://example.com/a> <http://example.com/駅前>;\\n   <http://example.com/isA> <http://example.com/駅>;\\n   <http://example.com/isIn> <http://example.com/夏井> .\\n\\n<http://example.com/小中野中学校> <http://example.com/isA> <http://example.com/中学校>;\\n   <http://example.com/isIn> <http://example.com/小中野> .\\n\\n<http://example.com/普代村災対本部> <http://example.com/a> <http://example.com/対>;\\n   <http://example.com/isA> <http://example.com/本部>;\\n   <http://example.com/isIn> <http://example.com/普代村>;\\n   <http://example.com/isRelatedIn> <http://example.com/災> .\\n\\n<http://example.com/村産業まつり> <http://example.com/a> <http://example.com/村産業>;\\n   <http://example.com/isA> <http://example.com/まつり> .\\n\\n<http://example.com/港まつり復興市ichi> <http://example.com/a> <http://example.com/港>,\\n     <http://example.com/市ichi>;\\n   <http://example.com/isA> <http://example.com/まつり>;\\n   <http://example.com/isRelatedIn> <http://example.com/復興> .\\n\\n<http://example.com/第1回岩手県災害廃棄物処理対策協議会> <http://example.com/a> <http://example.com/対>,\\n     <http://example.com/県>,\\n     <http://example.com/対策>;\\n   <http://example.com/isA> <http://example.com/協議会>;\\n   <http://example.com/isIn> <http://example.com/岩手>;\\n   <http://example.com/isRelatedIn> <http://example.com/廃棄物>,\\n     <http://example.com/災害> .\\n\\n<http://example.com/野田まつり> <http://example.com/isA> <http://example.com/まつり>;\\n   <http://example.com/isIn> <http://example.com/野田> .\\n\\n<http://example.com/野田中学校体育祭> <http://example.com/isHeldIn> <http://example.com/野田中学校>,\\n     <http://example.com/体育祭> .\\n\\n<http://example.com/野田村生涯学習センター> <http://example.com/isA> <http://example.com/センター>;\\n   <http://example.com/isIn> <http://example.com/野田村>;\\n   <http://example.com/isRelatedIn> <http://example.com/生涯学習> .\\n\\n<http://example.com/野田駅> <http://example.com/isA> <http://example.com/駅>;\\n   <http://example.com/isIn> <http://example.com/野田> .\\n\\n<http://example.com/野田中学校> <http://example.com/isA> <http://example.com/中学校>;\\n   <http://example.com/isIn> <http://example.com/野田> .\\n\""
      ]
     },
     "execution_count": 15,
     "metadata": {},
     "output_type": "execute_result"
    }
   ],
   "source": [
    "graph.to_ttl"
   ]
  },
  {
   "cell_type": "code",
   "execution_count": 16,
   "metadata": {
    "collapsed": true
   },
   "outputs": [
    {
     "name": "stderr",
     "output_type": "stream",
     "text": [
      "ERROR Getting CURIE for #<RDF::Query::Variable:0x3fe4fc1538c8(?s)>, which must be a resource\n"
     ]
    },
    {
     "ename": "RDF::WriterError",
     "evalue": "Errors found during processing",
     "output_type": "error",
     "traceback": [
      "\u001b[31mRDF::WriterError\u001b[0m: Errors found during processing",
      "\u001b[37m/Users/runa/.rbenv/versions/2.1.2/lib/ruby/gems/2.1.0/gems/rdf-2.0.0/lib/rdf/writer.rb:398:in `write_epilogue'\u001b[0m",
      "\u001b[37m/Users/runa/.rbenv/versions/2.1.2/lib/ruby/gems/2.1.0/gems/rdf-rdfa-2.0.0/lib/rdf/rdfa/writer.rb:195:in `write_epilogue'\u001b[0m",
      "\u001b[37m/Users/runa/.rbenv/versions/2.1.2/lib/ruby/gems/2.1.0/gems/rdf-2.0.0/lib/rdf/writer.rb:269:in `initialize'\u001b[0m",
      "\u001b[37m/Users/runa/.rbenv/versions/2.1.2/lib/ruby/gems/2.1.0/gems/rdf-rdfa-2.0.0/lib/rdf/rdfa/writer.rb:120:in `initialize'\u001b[0m",
      "\u001b[37m/Users/runa/.rbenv/versions/2.1.2/lib/ruby/gems/2.1.0/gems/rdf-2.0.0/lib/rdf/writer.rb:199:in `new'\u001b[0m",
      "\u001b[37m/Users/runa/.rbenv/versions/2.1.2/lib/ruby/gems/2.1.0/gems/rdf-2.0.0/lib/rdf/writer.rb:199:in `block in buffer'\u001b[0m",
      "\u001b[37m/Users/runa/.rbenv/versions/2.1.2/lib/ruby/gems/2.1.0/gems/rdf-2.0.0/lib/rdf/writer.rb:197:in `open'\u001b[0m",
      "\u001b[37m/Users/runa/.rbenv/versions/2.1.2/lib/ruby/gems/2.1.0/gems/rdf-2.0.0/lib/rdf/writer.rb:197:in `buffer'\u001b[0m",
      "\u001b[37m/Users/runa/.rbenv/versions/2.1.2/lib/ruby/gems/2.1.0/gems/rdf-2.0.0/lib/rdf/mixin/enumerable.rb:758:in `method_missing'\u001b[0m",
      "\u001b[37m/Users/runa/.rbenv/versions/2.1.2/lib/ruby/gems/2.1.0/gems/iruby-0.2.9/lib/iruby/display.rb:248:in `block in <module:Registry>'\u001b[0m",
      "\u001b[37m/Users/runa/.rbenv/versions/2.1.2/lib/ruby/gems/2.1.0/gems/iruby-0.2.9/lib/iruby/display.rb:105:in `call'\u001b[0m",
      "\u001b[37m/Users/runa/.rbenv/versions/2.1.2/lib/ruby/gems/2.1.0/gems/iruby-0.2.9/lib/iruby/display.rb:105:in `render'\u001b[0m",
      "\u001b[37m/Users/runa/.rbenv/versions/2.1.2/lib/ruby/gems/2.1.0/gems/iruby-0.2.9/lib/iruby/display.rb:61:in `block in render'\u001b[0m",
      "\u001b[37m/Users/runa/.rbenv/versions/2.1.2/lib/ruby/gems/2.1.0/gems/iruby-0.2.9/lib/iruby/display.rb:60:in `each'\u001b[0m",
      "\u001b[37m/Users/runa/.rbenv/versions/2.1.2/lib/ruby/gems/2.1.0/gems/iruby-0.2.9/lib/iruby/display.rb:60:in `render'\u001b[0m",
      "\u001b[37m/Users/runa/.rbenv/versions/2.1.2/lib/ruby/gems/2.1.0/gems/iruby-0.2.9/lib/iruby/display.rb:23:in `display'\u001b[0m",
      "\u001b[37m/Users/runa/.rbenv/versions/2.1.2/lib/ruby/gems/2.1.0/gems/iruby-0.2.9/lib/iruby/kernel.rb:96:in `execute_request'\u001b[0m",
      "\u001b[37m/Users/runa/.rbenv/versions/2.1.2/lib/ruby/gems/2.1.0/gems/iruby-0.2.9/lib/iruby/kernel.rb:47:in `dispatch'\u001b[0m",
      "\u001b[37m/Users/runa/.rbenv/versions/2.1.2/lib/ruby/gems/2.1.0/gems/iruby-0.2.9/lib/iruby/kernel.rb:37:in `run'\u001b[0m",
      "\u001b[37m/Users/runa/.rbenv/versions/2.1.2/lib/ruby/gems/2.1.0/gems/iruby-0.2.9/lib/iruby/command.rb:70:in `run_kernel'\u001b[0m",
      "\u001b[37m/Users/runa/.rbenv/versions/2.1.2/lib/ruby/gems/2.1.0/gems/iruby-0.2.9/lib/iruby/command.rb:34:in `run'\u001b[0m",
      "\u001b[37m/Users/runa/.rbenv/versions/2.1.2/lib/ruby/gems/2.1.0/gems/iruby-0.2.9/bin/iruby:5:in `<top (required)>'\u001b[0m",
      "\u001b[37m/Users/runa/.rbenv/versions/2.1.2/bin/iruby:23:in `load'\u001b[0m",
      "\u001b[37m/Users/runa/.rbenv/versions/2.1.2/bin/iruby:23:in `<main>'\u001b[0m"
     ]
    }
   ],
   "source": [
    "query = RDF::Query.new({\n",
    "  :s => {\n",
    "    ex.is_held_in => ex.野田中学校\n",
    "  }\n",
    "})"
   ]
  },
  {
   "cell_type": "code",
   "execution_count": 17,
   "metadata": {
    "collapsed": false
   },
   "outputs": [
    {
     "name": "stdout",
     "output_type": "stream",
     "text": [
      "http://example.com/野田中学校体育祭\n"
     ]
    },
    {
     "data": {
      "text/plain": [
       "[#<RDF::Query::Solution:0x3fe4fc172318({:s=>#<RDF::Vocabulary::Term:0x3fe4fa5e55f0 URI:http://example.com/野田中学校体育祭>})>]"
      ]
     },
     "execution_count": 17,
     "metadata": {},
     "output_type": "execute_result"
    }
   ],
   "source": [
    "query.execute(graph).each do |solution|\n",
    "  puts \"#{solution.s}\"\n",
    "end"
   ]
  },
  {
   "cell_type": "code",
   "execution_count": null,
   "metadata": {
    "collapsed": true
   },
   "outputs": [],
   "source": []
  },
  {
   "cell_type": "code",
   "execution_count": null,
   "metadata": {
    "collapsed": true
   },
   "outputs": [],
   "source": []
  },
  {
   "cell_type": "code",
   "execution_count": null,
   "metadata": {
    "collapsed": true
   },
   "outputs": [],
   "source": [
    "query = RDF::Query.new({\n",
    "  :s => {\n",
    "    ex.is_held_in => ex.野田中学校\n",
    "  }\n",
    "})"
   ]
  },
  {
   "cell_type": "code",
   "execution_count": null,
   "metadata": {
    "collapsed": true
   },
   "outputs": [],
   "source": []
  }
 ],
 "metadata": {
  "kernelspec": {
   "display_name": "Ruby 2.1.2",
   "language": "ruby",
   "name": "ruby"
  },
  "language_info": {
   "file_extension": ".rb",
   "mimetype": "application/x-ruby",
   "name": "ruby",
   "version": "2.1.2"
  }
 },
 "nbformat": 4,
 "nbformat_minor": 0
}
