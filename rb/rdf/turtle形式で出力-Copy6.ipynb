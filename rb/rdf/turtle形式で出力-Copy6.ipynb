{
 "cells": [
  {
   "cell_type": "code",
   "execution_count": 19,
   "metadata": {
    "collapsed": false
   },
   "outputs": [
    {
     "data": {
      "text/plain": [
       "false"
      ]
     },
     "execution_count": 19,
     "metadata": {},
     "output_type": "execute_result"
    }
   ],
   "source": [
    "require 'rdf' #RDF.rbの読み込み\n",
    "require 'rdf/rdfxml'  #rdf-rdfxmlの読み込み"
   ]
  },
  {
   "cell_type": "code",
   "execution_count": 20,
   "metadata": {
    "collapsed": false
   },
   "outputs": [
    {
     "data": {
      "text/plain": [
       "false"
      ]
     },
     "execution_count": 20,
     "metadata": {},
     "output_type": "execute_result"
    }
   ],
   "source": [
    "#https://github.com/ruby-rdf/rdf-vocab\n",
    "require 'rdf/vocab'"
   ]
  },
  {
   "cell_type": "code",
   "execution_count": 21,
   "metadata": {
    "collapsed": false
   },
   "outputs": [
    {
     "data": {
      "text/plain": [
       "false"
      ]
     },
     "execution_count": 21,
     "metadata": {},
     "output_type": "execute_result"
    }
   ],
   "source": [
    "require 'rdf/turtle'"
   ]
  },
  {
   "cell_type": "code",
   "execution_count": null,
   "metadata": {
    "collapsed": true
   },
   "outputs": [],
   "source": []
  },
  {
   "cell_type": "code",
   "execution_count": 22,
   "metadata": {
    "collapsed": false
   },
   "outputs": [
    {
     "data": {
      "text/plain": [
       "#<RDF::Vocabulary:0x3fe49b74ba0c(http://example.com/)>"
      ]
     },
     "execution_count": 22,
     "metadata": {},
     "output_type": "execute_result"
    }
   ],
   "source": [
    "ex = RDF::Vocabulary.new(\"http://example.com/\")"
   ]
  },
  {
   "cell_type": "code",
   "execution_count": 23,
   "metadata": {
    "collapsed": false
   },
   "outputs": [
    {
     "data": {
      "text/plain": [
       "#<RDF::Vocabulary:0x3fe49b753824(http://geonames.org/resource/)>"
      ]
     },
     "execution_count": 23,
     "metadata": {},
     "output_type": "execute_result"
    }
   ],
   "source": [
    "gn = RDF::Vocabulary.new(\"http://geonames.org/resource/\")"
   ]
  },
  {
   "cell_type": "code",
   "execution_count": 24,
   "metadata": {
    "collapsed": false
   },
   "outputs": [
    {
     "data": {
      "text/html": [
       "<!DOCTYPE html>\n",
       "<html xmlns='http://www.w3.org/1999/xhtml'>\n",
       "  <body>\n",
       "  </body>\n",
       "</html>\n"
      ],
      "text/plain": [
       "#<RDF::Graph:0x3fe49998b6e8(default)>"
      ]
     },
     "execution_count": 24,
     "metadata": {},
     "output_type": "execute_result"
    }
   ],
   "source": [
    "# RDFグラフオブジェクトの作成\n",
    "graph = RDF::Graph.new"
   ]
  },
  {
   "cell_type": "code",
   "execution_count": 25,
   "metadata": {
    "collapsed": false
   },
   "outputs": [
    {
     "data": {
      "text/plain": [
       "[#<RDF::Statement:0x3fe49b7a9210(<http://example.com/村産業まつり> <http://example.com/a> <http://example.com/村産業> .)>, #<RDF::Statement:0x3fe49b7a8db0(<http://example.com/村産業まつり> <http://example.com/isA> <http://example.com/まつり> .)>, #<RDF::Statement:0x3fe49b7a8978(<http://example.com/すわ神社> <http://example.com/a> <http://example.com/すわ> .)>, #<RDF::Statement:0x3fe49b7a8518(<http://example.com/すわ神社> <http://example.com/isA> <http://example.com/神社> .)>, #<RDF::Statement:0x3fe49b7a80e0(<http://example.com/さくらまつり> <http://example.com/a> <http://example.com/さくら> .)>, #<RDF::Statement:0x3fe49b7abc68(<http://example.com/さくらまつり> <http://example.com/isA> <http://example.com/まつり> .)>, #<RDF::Statement:0x3fe49b7ab808(<http://example.com/野田まつり> <http://example.com/isA> <http://example.com/まつり> .)>, #<RDF::Statement:0x3fe49b7ab3a8(<http://example.com/野田まつり> <http://example.com/isIn> <http://example.com/野田> .)>, #<RDF::Statement:0x3fe49b7aaf48(<http://example.com/北日本造船工場> <http://example.com/isIn> <http://example.com/北日本> .)>, #<RDF::Statement:0x3fe49b7aaae8(<http://example.com/北日本造船工場> <http://example.com/isA> <http://example.com/工場> .)>, #<RDF::Statement:0x3fe49b7aa660(<http://example.com/北日本造船工場> <http://example.com/isRelatedIn> <http://example.com/造船> .)>, #<RDF::Statement:0x3fe49b7aa200(<http://example.com/国立オリンピック記念青少年総合センター国際交流棟> <http://example.com/isA> <http://example.com/センター> .)>, #<RDF::Statement:0x3fe49b7afda4(<http://example.com/国立オリンピック記念青少年総合センター国際交流棟> <http://example.com/a> <http://example.com/オリンピック> .)>, #<RDF::Statement:0x3fe49b7af91c(<http://example.com/国立オリンピック記念青少年総合センター国際交流棟> <http://example.com/isRelatedIn> <http://example.com/国際交流> .)>, #<RDF::Statement:0x3fe49b7af4e4(<http://example.com/国立オリンピック記念青少年総合センター国際交流棟> <http://example.com/a> <http://example.com/記念> .)>, #<RDF::Statement:0x3fe49b7af0ac(<http://example.com/国立オリンピック記念青少年総合センター国際交流棟> <http://example.com/a> <http://example.com/総合> .)>, #<RDF::Statement:0x3fe49b7aec74(<http://example.com/国立オリンピック記念青少年総合センター国際交流棟> <http://example.com/a> <http://example.com/棟> .)>, #<RDF::Statement:0x3fe49b7ae83c(<http://example.com/国立オリンピック記念青少年総合センター国際交流棟> <http://example.com/a> <http://example.com/青少年> .)>, #<RDF::Statement:0x3fe49b7ae404(<http://example.com/国立オリンピック記念青少年総合センター国際交流棟> <http://example.com/a> <http://example.com/国立> .)>, #<RDF::Statement:0x3fe49b7b3f80(<http://example.com/野田駅> <http://example.com/isA> <http://example.com/駅> .)>, #<RDF::Statement:0x3fe49b7b3b20(<http://example.com/野田駅> <http://example.com/isIn> <http://example.com/野田> .)>, #<RDF::Statement:0x3fe49b7b3698(<http://example.com/野田中学校体育祭> <http://example.com/isHeldIn> <http://example.com/野田中学校> .)>, #<RDF::Statement:0x3fe49b7b3238(<http://example.com/野田中学校体育祭> <http://example.com/isA> <http://example.com/体育祭> .)>, #<RDF::Statement:0x3fe49b7b2db0(<http://example.com/普代村災対本部> <http://example.com/isRelatedIn> <http://example.com/災> .)>, #<RDF::Statement:0x3fe49b7b2950(<http://example.com/普代村災対本部> <http://example.com/isIn> <http://example.com/普代村> .)>, #<RDF::Statement:0x3fe49b7b24f0(<http://example.com/普代村災対本部> <http://example.com/isA> <http://example.com/本部> .)>, #<RDF::Statement:0x3fe49b7b20b8(<http://example.com/普代村災対本部> <http://example.com/a> <http://example.com/対> .)>, #<RDF::Statement:0x3fe49b7bfc40(<http://example.com/夏井駅前> <http://example.com/isA> <http://example.com/駅> .)>, #<RDF::Statement:0x3fe49b7bf808(<http://example.com/夏井駅前> <http://example.com/a> <http://example.com/駅前> .)>, #<RDF::Statement:0x3fe49b7bf3a8(<http://example.com/夏井駅前> <http://example.com/isIn> <http://example.com/夏井> .)>, #<RDF::Statement:0x3fe49b7bef20(<http://example.com/第1回岩手県災害廃棄物処理対策協議会> <http://example.com/isRelatedIn> <http://example.com/災害> .)>, #<RDF::Statement:0x3fe49b7beae8(<http://example.com/第1回岩手県災害廃棄物処理対策協議会> <http://example.com/a> <http://example.com/対策> .)>, #<RDF::Statement:0x3fe49b7be6b0(<http://example.com/第1回岩手県災害廃棄物処理対策協議会> <http://example.com/a> <http://example.com/県> .)>, #<RDF::Statement:0x3fe49b7be250(<http://example.com/第1回岩手県災害廃棄物処理対策協議会> <http://example.com/isA> <http://example.com/協議会> .)>, #<RDF::Statement:0x3fe49b7c3da4(<http://example.com/第1回岩手県災害廃棄物処理対策協議会> <http://example.com/isRelatedIn> <http://example.com/廃棄物> .)>, #<RDF::Statement:0x3fe49b7c3944(<http://example.com/第1回岩手県災害廃棄物処理対策協議会> <http://example.com/isIn> <http://example.com/岩手> .)>, #<RDF::Statement:0x3fe49b7c350c(<http://example.com/第1回岩手県災害廃棄物処理対策協議会> <http://example.com/a> <http://example.com/対> .)>, #<RDF::Statement:0x3fe49b7c30ac(<http://example.com/野田中学校> <http://example.com/isA> <http://example.com/中学校> .)>, #<RDF::Statement:0x3fe49b7c2c4c(<http://example.com/野田中学校> <http://example.com/isIn> <http://example.com/野田> .)>, #<RDF::Statement:0x3fe49b7c27c4(<http://example.com/八戸市shi災害ボランティアセンター> <http://example.com/isRelatedIn> <http://example.com/災> .)>, #<RDF::Statement:0x3fe49b7c233c(<http://example.com/八戸市shi災害ボランティアセンター> <http://example.com/isRelatedIn> <http://example.com/ボランティア> .)>, #<RDF::Statement:0x3fe49b7c7eb8(<http://example.com/八戸市shi災害ボランティアセンター> <http://example.com/isA> <http://example.com/センター> .)>, #<RDF::Statement:0x3fe49b7c7a30(<http://example.com/八戸市shi災害ボランティアセンター> <http://example.com/isRelatedIn> <http://example.com/災害> .)>, #<RDF::Statement:0x3fe49b7c75f8(<http://example.com/八戸市shi災害ボランティアセンター> <http://example.com/a> <http://example.com/市> .)>, #<RDF::Statement:0x3fe49b7c7198(<http://example.com/八戸市shi災害ボランティアセンター> <http://example.com/isIn> <http://example.com/八戸> .)>, #<RDF::Statement:0x3fe49b7c6d38(<http://example.com/小中野中学校> <http://example.com/isIn> <http://example.com/小中野> .)>, #<RDF::Statement:0x3fe49b7c68d8(<http://example.com/小中野中学校> <http://example.com/isA> <http://example.com/中学校> .)>, #<RDF::Statement:0x3fe49b7c6478(<http://example.com/久慈秋祭り> <http://example.com/isIn> <http://example.com/久慈> .)>, #<RDF::Statement:0x3fe49b7c6040(<http://example.com/久慈秋祭り> <http://example.com/a> <http://example.com/秋> .)>, #<RDF::Statement:0x3fe49b7cbbbc(<http://example.com/久慈秋祭り> <http://example.com/isA> <http://example.com/祭り> .)>, #<RDF::Statement:0x3fe49b7cb784(<http://example.com/港まつり復興市ichi> <http://example.com/a> <http://example.com/港> .)>, #<RDF::Statement:0x3fe49b7cb34c(<http://example.com/港まつり復興市ichi> <http://example.com/a> <http://example.com/市ichi> .)>, #<RDF::Statement:0x3fe49b7caeec(<http://example.com/港まつり復興市ichi> <http://example.com/isA> <http://example.com/まつり> .)>, #<RDF::Statement:0x3fe49b7caa64(<http://example.com/港まつり復興市ichi> <http://example.com/isRelatedIn> <http://example.com/復興> .)>, #<RDF::Statement:0x3fe49b7ca604(<http://example.com/野田村生涯学習センター> <http://example.com/isA> <http://example.com/センター> .)>, #<RDF::Statement:0x3fe49b7ca1a4(<http://example.com/野田村生涯学習センター> <http://example.com/isIn> <http://example.com/野田村> .)>, #<RDF::Statement:0x3fe49b7cfce4(<http://example.com/野田村生涯学習センター> <http://example.com/isRelatedIn> <http://example.com/生涯学習> .)>, #<RDF::Statement:0x3fe49b7cf884(<http://example.com/下安家地区集会所> <http://example.com/isA> <http://example.com/集会所> .)>, #<RDF::Statement:0x3fe49b7cf44c(<http://example.com/下安家地区集会所> <http://example.com/a> <http://example.com/地区> .)>, #<RDF::Statement:0x3fe49b7cefec(<http://example.com/下安家地区集会所> <http://example.com/isIn> <http://example.com/下安家> .)>, #<RDF::Statement:0x3fe49b7cee20(<http://example.com/病院> <http://www.w3.org/1999/02/22-rdf-syntax-ns#type> <http://schema.org/Hospital> .)>, #<RDF::Statement:0x3fe49b7cec54(<http://example.com/センター> <http://www.w3.org/1999/02/22-rdf-syntax-ns#type> <http://schema.org/Organization> .)>, #<RDF::Statement:0x3fe49b7cea88(<http://example.com/庁舎> <http://www.w3.org/1999/02/22-rdf-syntax-ns#type> <http://schema.org/CivicStructure> .)>, #<RDF::Statement:0x3fe49b7ce8bc(<http://example.com/高校> <http://www.w3.org/1999/02/22-rdf-syntax-ns#type> <http://schema.org/HighSchool> .)>, #<RDF::Statement:0x3fe49b7ce6f0(<http://example.com/中学> <http://www.w3.org/1999/02/22-rdf-syntax-ns#type> <http://schema.org/MiddleSchool> .)>, #<RDF::Statement:0x3fe49b7ce524(<http://example.com/駅> <http://www.w3.org/1999/02/22-rdf-syntax-ns#type> <http://schema.org/TrainStation> .)>, #<RDF::Statement:0x3fe49b7ce358(<http://example.com/高等学校> <http://www.w3.org/1999/02/22-rdf-syntax-ns#type> <http://schema.org/HighSchool> .)>, #<RDF::Statement:0x3fe49b7ce18c(<http://example.com/中学校> <http://www.w3.org/1999/02/22-rdf-syntax-ns#type> <http://schema.org/MiddleSchool> .)>, #<RDF::Statement:0x3fe49b7d3f9c(<http://example.com/駅舎> <http://www.w3.org/1999/02/22-rdf-syntax-ns#type> <http://schema.org/CivicStructure> .)>, #<RDF::Statement:0x3fe49b7d3dd0(<http://example.com/株式会社> <http://www.w3.org/1999/02/22-rdf-syntax-ns#type> <http://schema.org/Organization> .)>, #<RDF::Statement:0x3fe49b7d3c04(<http://example.com/詰所> <http://www.w3.org/1999/02/22-rdf-syntax-ns#type> <http://schema.org/Hotel> .)>, #<RDF::Statement:0x3fe49b7d3a38(<http://example.com/自動車道> <http://www.w3.org/1999/02/22-rdf-syntax-ns#type> <http://schema.org/Place> .)>, #<RDF::Statement:0x3fe49b7d386c(<http://example.com/郵便局> <http://www.w3.org/1999/02/22-rdf-syntax-ns#type> <http://schema.org/PostOffice> .)>, #<RDF::Statement:0x3fe49b7d36a0(<http://example.com/寺> <http://www.w3.org/1999/02/22-rdf-syntax-ns#type> <http://schema.org/BuddhistTemple> .)>, #<RDF::Statement:0x3fe49b7d34d4(<http://example.com/神社> <http://www.w3.org/1999/02/22-rdf-syntax-ns#type> <http://schema.org/Place> .)>, #<RDF::Statement:0x3fe49b7d3308(<http://example.com/組合> <http://www.w3.org/1999/02/22-rdf-syntax-ns#type> <http://schema.org/Organization> .)>, #<RDF::Statement:0x3fe49b7d313c(<http://example.com/分譲地> <http://www.w3.org/1999/02/22-rdf-syntax-ns#type> <http://schema.org/Place> .)>, #<RDF::Statement:0x3fe49b7d2f70(<http://example.com/変電所> <http://www.w3.org/1999/02/22-rdf-syntax-ns#type> <http://schema.org/Place> .)>, #<RDF::Statement:0x3fe49b7d2da4(<http://example.com/老人ホーム> <http://www.w3.org/1999/02/22-rdf-syntax-ns#type> <http://schema.org/CivicStructure> .)>, #<RDF::Statement:0x3fe49b7d2bd8(<http://example.com/商店街> <http://www.w3.org/1999/02/22-rdf-syntax-ns#type> <http://schema.org/LocalBusiness> .)>, #<RDF::Statement:0x3fe49b7d2a0c(<http://example.com/集会所> <http://www.w3.org/1999/02/22-rdf-syntax-ns#type> <http://schema.org/CivicStructure> .)>, #<RDF::Statement:0x3fe49b7d2840(<http://example.com/物産館> <http://www.w3.org/1999/02/22-rdf-syntax-ns#type> <http://schema.org/CivicStructure> .)>, #<RDF::Statement:0x3fe49b7d2674(<http://example.com/プロジェクト> <http://www.w3.org/1999/02/22-rdf-syntax-ns#type> <http://schema.org/Organization> .)>, #<RDF::Statement:0x3fe49b7d24a8(<http://example.com/協会> <http://www.w3.org/1999/02/22-rdf-syntax-ns#type> <http://schema.org/Organization> .)>, #<RDF::Statement:0x3fe49b7d22dc(<http://example.com/史料館> <http://www.w3.org/1999/02/22-rdf-syntax-ns#type> <http://schema.org/CivicStructure> .)>, #<RDF::Statement:0x3fe49b7d2110(<http://example.com/選手権> <http://www.w3.org/1999/02/22-rdf-syntax-ns#type> <http://schema.org/Event> .)>, #<RDF::Statement:0x3fe499691f14(<http://example.com/祭り> <http://www.w3.org/1999/02/22-rdf-syntax-ns#type> <http://schema.org/Festival> .)>, #<RDF::Statement:0x3fe499691d48(<http://example.com/本部> <http://www.w3.org/1999/02/22-rdf-syntax-ns#type> <http://schema.org/Organization> .)>, #<RDF::Statement:0x3fe499691b7c(<http://example.com/財団> <http://www.w3.org/1999/02/22-rdf-syntax-ns#type> <http://schema.org/Organization> .)>, #<RDF::Statement:0x3fe4996919b0(<http://example.com/記念館> <http://www.w3.org/1999/02/22-rdf-syntax-ns#type> <http://schema.org/CivicStructure> .)>, #<RDF::Statement:0x3fe4996917e4(<http://example.com/信用金庫> <http://www.w3.org/1999/02/22-rdf-syntax-ns#type> <http://schema.org/BankOrCreditUnion> .)>, #<RDF::Statement:0x3fe499691618(<http://example.com/銀行> <http://www.w3.org/1999/02/22-rdf-syntax-ns#type> <http://schema.org/BankOrCreditUnion> .)>, #<RDF::Statement:0x3fe49969144c(<http://example.com/まつり> <http://www.w3.org/1999/02/22-rdf-syntax-ns#type> <http://schema.org/Festival> .)>, #<RDF::Statement:0x3fe499691280(<http://example.com/会議所> <http://www.w3.org/1999/02/22-rdf-syntax-ns#type> <http://schema.org/Organization> .)>, #<RDF::Statement:0x3fe4996910b4(<http://example.com/保養園> <http://www.w3.org/1999/02/22-rdf-syntax-ns#type> <http://schema.org/CivicStructure> .)>, #<RDF::Statement:0x3fe499690ee8(<http://example.com/公民館> <http://www.w3.org/1999/02/22-rdf-syntax-ns#type> <http://schema.org/CivicStructure> .)>, #<RDF::Statement:0x3fe499690d1c(<http://example.com/体育館> <http://www.w3.org/1999/02/22-rdf-syntax-ns#type> <http://schema.org/ExerciseGym> .)>, #<RDF::Statement:0x3fe499690b50(<http://example.com/企業体> <http://www.w3.org/1999/02/22-rdf-syntax-ns#type> <http://schema.org/Organization> .)>, #<RDF::Statement:0x3fe499690984(<http://example.com/社団法人> <http://www.w3.org/1999/02/22-rdf-syntax-ns#type> <http://schema.org/Organization> .)>, #<RDF::Statement:0x3fe4996907b8(<http://example.com/有限会社> <http://www.w3.org/1999/02/22-rdf-syntax-ns#type> <http://schema.org/Organization> .)>, #<RDF::Statement:0x3fe4996905ec(<http://example.com/八戸> <http://www.w3.org/1999/02/22-rdf-syntax-ns#type> <http://schema.org/Place> .)>, #<RDF::Statement:0x3fe499690420(<http://example.com/野田村> <http://www.w3.org/1999/02/22-rdf-syntax-ns#type> <http://schema.org/Place> .)>, #<RDF::Statement:0x3fe499690254(<http://example.com/北日本> <http://www.w3.org/1999/02/22-rdf-syntax-ns#type> <http://schema.org/Place> .)>, #<RDF::Statement:0x3fe499690088(<http://example.com/小中野> <http://www.w3.org/1999/02/22-rdf-syntax-ns#type> <http://schema.org/Place> .)>, #<RDF::Statement:0x3fe49969be88(<http://example.com/野田> <http://www.w3.org/1999/02/22-rdf-syntax-ns#type> <http://schema.org/Place> .)>, #<RDF::Statement:0x3fe49969bcbc(<http://example.com/久慈> <http://www.w3.org/1999/02/22-rdf-syntax-ns#type> <http://schema.org/Place> .)>, #<RDF::Statement:0x3fe49969baf0(<http://example.com/夏井> <http://www.w3.org/1999/02/22-rdf-syntax-ns#type> <http://schema.org/Place> .)>, #<RDF::Statement:0x3fe49969b924(<http://example.com/岩手> <http://www.w3.org/1999/02/22-rdf-syntax-ns#type> <http://schema.org/Place> .)>, #<RDF::Statement:0x3fe49969b758(<http://example.com/普代村> <http://www.w3.org/1999/02/22-rdf-syntax-ns#type> <http://schema.org/Place> .)>, #<RDF::Statement:0x3fe49969b58c(<http://example.com/下安家> <http://www.w3.org/1999/02/22-rdf-syntax-ns#type> <http://schema.org/Place> .)>, #<RDF::Statement:0x3fe49969b2a8(<http://example.com/八戸> <http://www.w3.org/2006/vcard/ns#hasURL> <http://geonames.org/resource/青森県八戸市> .)>, #<RDF::Statement:0x3fe49969afc4(<http://example.com/野田村> <http://www.w3.org/2006/vcard/ns#hasURL> <http://geonames.org/resource/岩手県九戸郡野田村> .)>, #<RDF::Statement:0x3fe49969ace0(<http://example.com/北日本> <http://www.w3.org/2006/vcard/ns#hasURL> <http://geonames.org/resource/なし> .)>, #<RDF::Statement:0x3fe49969a9fc(<http://example.com/小中野> <http://www.w3.org/2006/vcard/ns#hasURL> <http://geonames.org/resource/青森県八戸市小中野> .)>, #<RDF::Statement:0x3fe49969a718(<http://example.com/野田> <http://www.w3.org/2006/vcard/ns#hasURL> <http://geonames.org/resource/宮城県塩竈市野田> .)>, #<RDF::Statement:0x3fe49969a434(<http://example.com/久慈> <http://www.w3.org/2006/vcard/ns#hasURL> <http://geonames.org/resource/岩手県久慈市> .)>, #<RDF::Statement:0x3fe49969a150(<http://example.com/夏井> <http://www.w3.org/2006/vcard/ns#hasURL> <http://geonames.org/resource/新潟県新潟市西蒲区夏井> .)>, #<RDF::Statement:0x3fe499693e40(<http://example.com/岩手> <http://www.w3.org/2006/vcard/ns#hasURL> <http://geonames.org/resource/岩手県> .)>, #<RDF::Statement:0x3fe499693b5c(<http://example.com/普代村> <http://www.w3.org/2006/vcard/ns#hasURL> <http://geonames.org/resource/岩手県下閉伊郡普代村> .)>, #<RDF::Statement:0x3fe499693878(<http://example.com/下安家> <http://www.w3.org/2006/vcard/ns#hasURL> <http://geonames.org/resource/なし> .)>]"
      ]
     },
     "execution_count": 25,
     "metadata": {},
     "output_type": "execute_result"
    }
   ],
   "source": [
    "# RDF:Statement.newにトリプルとなる値を代入（主語、述語、目的語）\n",
    "statements = [\n",
    "RDF::Statement.new(ex.村産業まつり, ex.a, ex.村産業), \n",
    "RDF::Statement.new(ex.村産業まつり, ex.is_a, ex.まつり), \n",
    "RDF::Statement.new(ex.すわ神社, ex.a, ex.すわ), \n",
    "RDF::Statement.new(ex.すわ神社, ex.is_a, ex.神社), \n",
    "RDF::Statement.new(ex.さくらまつり, ex.a, ex.さくら), \n",
    "RDF::Statement.new(ex.さくらまつり, ex.is_a, ex.まつり), \n",
    "RDF::Statement.new(ex.野田まつり, ex.is_a, ex.まつり), \n",
    "RDF::Statement.new(ex.野田まつり, ex.is_in, ex.野田), \n",
    "RDF::Statement.new(ex.北日本造船工場, ex.is_in, ex.北日本), \n",
    "RDF::Statement.new(ex.北日本造船工場, ex.is_a, ex.工場), \n",
    "RDF::Statement.new(ex.北日本造船工場, ex.is_related_in, ex.造船), \n",
    "RDF::Statement.new(ex.国立オリンピック記念青少年総合センター国際交流棟, ex.is_a, ex.センター), \n",
    "RDF::Statement.new(ex.国立オリンピック記念青少年総合センター国際交流棟, ex.a, ex.オリンピック), \n",
    "RDF::Statement.new(ex.国立オリンピック記念青少年総合センター国際交流棟, ex.is_related_in, ex.国際交流), \n",
    "RDF::Statement.new(ex.国立オリンピック記念青少年総合センター国際交流棟, ex.a, ex.記念), \n",
    "RDF::Statement.new(ex.国立オリンピック記念青少年総合センター国際交流棟, ex.a, ex.総合), \n",
    "RDF::Statement.new(ex.国立オリンピック記念青少年総合センター国際交流棟, ex.a, ex.棟), \n",
    "RDF::Statement.new(ex.国立オリンピック記念青少年総合センター国際交流棟, ex.a, ex.青少年), \n",
    "RDF::Statement.new(ex.国立オリンピック記念青少年総合センター国際交流棟, ex.a, ex.国立), \n",
    "RDF::Statement.new(ex.野田駅, ex.is_a, ex.駅), \n",
    "RDF::Statement.new(ex.野田駅, ex.is_in, ex.野田), \n",
    "RDF::Statement.new(ex.野田中学校体育祭, ex.is_held_in, ex.野田中学校), \n",
    "RDF::Statement.new(ex.野田中学校体育祭, ex.is_a, ex.体育祭), \n",
    "RDF::Statement.new(ex.普代村災対本部, ex.is_related_in, ex.災), \n",
    "RDF::Statement.new(ex.普代村災対本部, ex.is_in, ex.普代村), \n",
    "RDF::Statement.new(ex.普代村災対本部, ex.is_a, ex.本部), \n",
    "RDF::Statement.new(ex.普代村災対本部, ex.a, ex.対), \n",
    "RDF::Statement.new(ex.夏井駅前, ex.is_a, ex.駅), \n",
    "RDF::Statement.new(ex.夏井駅前, ex.a, ex.駅前), \n",
    "RDF::Statement.new(ex.夏井駅前, ex.is_in, ex.夏井), \n",
    "RDF::Statement.new(ex.第1回岩手県災害廃棄物処理対策協議会, ex.is_related_in, ex.災害), \n",
    "RDF::Statement.new(ex.第1回岩手県災害廃棄物処理対策協議会, ex.a, ex.対策), \n",
    "RDF::Statement.new(ex.第1回岩手県災害廃棄物処理対策協議会, ex.a, ex.県), \n",
    "RDF::Statement.new(ex.第1回岩手県災害廃棄物処理対策協議会, ex.is_a, ex.協議会), \n",
    "RDF::Statement.new(ex.第1回岩手県災害廃棄物処理対策協議会, ex.is_related_in, ex.廃棄物), \n",
    "RDF::Statement.new(ex.第1回岩手県災害廃棄物処理対策協議会, ex.is_in, ex.岩手), \n",
    "RDF::Statement.new(ex.第1回岩手県災害廃棄物処理対策協議会, ex.a, ex.対), \n",
    "RDF::Statement.new(ex.野田中学校, ex.is_a, ex.中学校), \n",
    "RDF::Statement.new(ex.野田中学校, ex.is_in, ex.野田), \n",
    "RDF::Statement.new(ex.八戸市shi災害ボランティアセンター, ex.is_related_in, ex.災), \n",
    "RDF::Statement.new(ex.八戸市shi災害ボランティアセンター, ex.is_related_in, ex.ボランティア), \n",
    "RDF::Statement.new(ex.八戸市shi災害ボランティアセンター, ex.is_a, ex.センター), \n",
    "RDF::Statement.new(ex.八戸市shi災害ボランティアセンター, ex.is_related_in, ex.災害), \n",
    "RDF::Statement.new(ex.八戸市shi災害ボランティアセンター, ex.a, ex.市), \n",
    "RDF::Statement.new(ex.八戸市shi災害ボランティアセンター, ex.is_in, ex.八戸), \n",
    "RDF::Statement.new(ex.小中野中学校, ex.is_in, ex.小中野), \n",
    "RDF::Statement.new(ex.小中野中学校, ex.is_a, ex.中学校), \n",
    "RDF::Statement.new(ex.久慈秋祭り, ex.is_in, ex.久慈), \n",
    "RDF::Statement.new(ex.久慈秋祭り, ex.a, ex.秋), \n",
    "RDF::Statement.new(ex.久慈秋祭り, ex.is_a, ex.祭り), \n",
    "RDF::Statement.new(ex.港まつり復興市ichi, ex.a, ex.港), \n",
    "RDF::Statement.new(ex.港まつり復興市ichi, ex.a, ex.市ichi), \n",
    "RDF::Statement.new(ex.港まつり復興市ichi, ex.is_a, ex.まつり), \n",
    "RDF::Statement.new(ex.港まつり復興市ichi, ex.is_related_in, ex.復興), \n",
    "RDF::Statement.new(ex.野田村生涯学習センター, ex.is_a, ex.センター), \n",
    "RDF::Statement.new(ex.野田村生涯学習センター, ex.is_in, ex.野田村), \n",
    "RDF::Statement.new(ex.野田村生涯学習センター, ex.is_related_in, ex.生涯学習), \n",
    "RDF::Statement.new(ex.下安家地区集会所, ex.is_a, ex.集会所), \n",
    "RDF::Statement.new(ex.下安家地区集会所, ex.a, ex.地区), \n",
    "RDF::Statement.new(ex.下安家地区集会所, ex.is_in, ex.下安家),\n",
    "  RDF::Statement.new(ex.病院,RDF.type,RDF::Vocab::SCHEMA.Hospital),\n",
    "RDF::Statement.new(ex.センター,RDF.type,RDF::Vocab::SCHEMA.Organization),\n",
    "#RDF::Statement.new(ex.幼稚園,RDF.type,RDF::Vocab::SCHEMA.PreSchool),\n",
    "RDF::Statement.new(ex.庁舎,RDF.type,RDF::Vocab::SCHEMA.CivicStructure),\n",
    "#RDF::Statement.new(ex.工場,RDF.type,RDF::Vocab::SCHEMA.Agent),\n",
    "RDF::Statement.new(ex.高校,RDF.type,RDF::Vocab::SCHEMA.HighSchool),\n",
    "RDF::Statement.new(ex.中学,RDF.type,RDF::Vocab::SCHEMA.MiddleSchool),\n",
    "RDF::Statement.new(ex.駅,RDF.type,RDF::Vocab::SCHEMA.TrainStation),\n",
    "#RDF::Statement.new(ex.協議会,RDF.type,RDF::Vocab::SCHEMA.Agent),\n",
    "#RDF::Statement.new(ex.販売所,RDF.type,RDF::Vocab::SCHEMA.Agent),\n",
    "RDF::Statement.new(ex.高等学校,RDF.type,RDF::Vocab::SCHEMA.HighSchool),\n",
    "RDF::Statement.new(ex.中学校,RDF.type,RDF::Vocab::SCHEMA.MiddleSchool),\n",
    "RDF::Statement.new(ex.駅舎,RDF.type,RDF::Vocab::SCHEMA.CivicStructure),\n",
    "#RDF::Statement.new(ex.案内所,RDF.type,RDF::Vocab::SCHEMA.Agent),\n",
    "RDF::Statement.new(ex.株式会社,RDF.type,RDF::Vocab::SCHEMA.Organization),\n",
    "#RDF::Statement.new(ex.公営住宅,RDF.type,RDF::Vocab::SCHEMA.Apartment),\n",
    "#RDF::Statement.new(ex.管理所,RDF.type,RDF::Vocab::SCHEMA.Agent),\n",
    "#RDF::Statement.new(ex.事務所,RDF.type,RDF::Vocab::SCHEMA.Agent),\n",
    "#RDF::Statement.new(ex.本店,RDF.type,RDF::Vocab::SCHEMA.Agent),\n",
    "#RDF::Statement.new(ex.整備室,RDF.type,RDF::Vocab::SCHEMA.Agent),\n",
    "RDF::Statement.new(ex.詰所,RDF.type,RDF::Vocab::SCHEMA.Hotel),\n",
    "RDF::Statement.new(ex.自動車道,RDF.type,RDF::Vocab::SCHEMA.Place),\n",
    "#RDF::Statement.new(ex.事業局,RDF.type,RDF::Vocab::SCHEMA.Agent),\n",
    "#RDF::Statement.new(ex.復興局,RDF.type,RDF::Vocab::SCHEMA.Agent),\n",
    "RDF::Statement.new(ex.郵便局,RDF.type,RDF::Vocab::SCHEMA.PostOffice),\n",
    "#RDF::Statement.new(ex.農政局,RDF.type,RDF::Vocab::SCHEMA.Agent),\n",
    "RDF::Statement.new(ex.寺,RDF.type,RDF::Vocab::SCHEMA.BuddhistTemple),\n",
    "RDF::Statement.new(ex.神社,RDF.type,RDF::Vocab::SCHEMA.Place),\n",
    "#RDF::Statement.new(ex.支店,RDF.type,RDF::Vocab::SCHEMA.Agent),\n",
    "RDF::Statement.new(ex.組合,RDF.type,RDF::Vocab::SCHEMA.Organization),\n",
    "#RDF::Statement.new(ex.作業所,RDF.type,RDF::Vocab::SCHEMA.Agent),\n",
    "RDF::Statement.new(ex.分譲地,RDF.type,RDF::Vocab::SCHEMA.Place),\n",
    "RDF::Statement.new(ex.変電所,RDF.type,RDF::Vocab::SCHEMA.Place),\n",
    "RDF::Statement.new(ex.老人ホーム,RDF.type,RDF::Vocab::SCHEMA.CivicStructure),\n",
    "RDF::Statement.new(ex.商店街,RDF.type,RDF::Vocab::SCHEMA.LocalBusiness),\n",
    "RDF::Statement.new(ex.集会所,RDF.type,RDF::Vocab::SCHEMA.CivicStructure),\n",
    "#RDF::Statement.new(ex.(株),RDF.type,RDF::Vocab::SCHEMA.Organization),\n",
    "#RDF::Statement.new(ex.球場,RDF.type,RDF::Vocab::SCHEMA.StadiumOrArea),\n",
    "RDF::Statement.new(ex.物産館,RDF.type,RDF::Vocab::SCHEMA.CivicStructure),\n",
    "#RDF::Statement.new(ex.(仮称),RDF.type,RDF::Vocab::SCHEMA.Organization),\n",
    "#RDF::Statement.new(ex.(仮称)組合,RDF.type,RDF::Vocab::SCHEMA.Organization),\n",
    "RDF::Statement.new(ex.プロジェクト,RDF.type,RDF::Vocab::SCHEMA.Organization),\n",
    "#RDF::Statement.new(ex.製造所,RDF.type,RDF::Vocab::SCHEMA.Agent),\n",
    "RDF::Statement.new(ex.協会,RDF.type,RDF::Vocab::SCHEMA.Organization),\n",
    "RDF::Statement.new(ex.史料館,RDF.type,RDF::Vocab::SCHEMA.CivicStructure),\n",
    "RDF::Statement.new(ex.選手権,RDF.type,RDF::Vocab::SCHEMA.Event),\n",
    "RDF::Statement.new(ex.祭り,RDF.type,RDF::Vocab::SCHEMA.Festival),\n",
    "RDF::Statement.new(ex.本部,RDF.type,RDF::Vocab::SCHEMA.Organization),\n",
    "RDF::Statement.new(ex.財団,RDF.type,RDF::Vocab::SCHEMA.Organization),\n",
    "RDF::Statement.new(ex.記念館,RDF.type,RDF::Vocab::SCHEMA.CivicStructure),\n",
    "RDF::Statement.new(ex.信用金庫,RDF.type,RDF::Vocab::SCHEMA.BankOrCreditUnion),\n",
    "RDF::Statement.new(ex.銀行,RDF.type,RDF::Vocab::SCHEMA.BankOrCreditUnion),\n",
    "RDF::Statement.new(ex.まつり,RDF.type,RDF::Vocab::SCHEMA.Festival),\n",
    "RDF::Statement.new(ex.会議所,RDF.type,RDF::Vocab::SCHEMA.Organization),\n",
    "RDF::Statement.new(ex.保養園,RDF.type,RDF::Vocab::SCHEMA.CivicStructure),\n",
    "RDF::Statement.new(ex.公民館,RDF.type,RDF::Vocab::SCHEMA.CivicStructure),\n",
    "RDF::Statement.new(ex.体育館,RDF.type,RDF::Vocab::SCHEMA.ExerciseGym),\n",
    "#RDF::Statement.new(ex.設計室,RDF.type,RDF::Vocab::SCHEMA.Agent),\n",
    "#RDF::Statement.new(ex.公務室,RDF.type,RDF::Vocab::SCHEMA.Agent),\n",
    "#RDF::Statement.new(ex.工務店,RDF.type,RDF::Vocab::SCHEMA.Agent),\n",
    "RDF::Statement.new(ex.企業体,RDF.type,RDF::Vocab::SCHEMA.Organization),\n",
    "#RDF::Statement.new(ex.管理局,RDF.type,RDF::Vocab::SCHEMA.Agent),\n",
    "RDF::Statement.new(ex.社団法人,RDF.type,RDF::Vocab::SCHEMA.Organization),\n",
    "RDF::Statement.new(ex.有限会社,RDF.type,RDF::Vocab::SCHEMA.Organization),\n",
    "#RDF::Statement.new(ex.(有),RDF.type,RDF::Vocab::SCHEMA.Organization),\n",
    "  RDF::Statement.new(ex.八戸, RDF.type, RDF::Vocab::SCHEMA.Place),\n",
    "RDF::Statement.new(ex.野田村, RDF.type, RDF::Vocab::SCHEMA.Place),\n",
    "RDF::Statement.new(ex.北日本, RDF.type, RDF::Vocab::SCHEMA.Place),\n",
    "RDF::Statement.new(ex.小中野, RDF.type, RDF::Vocab::SCHEMA.Place),\n",
    "RDF::Statement.new(ex.野田, RDF.type, RDF::Vocab::SCHEMA.Place),\n",
    "RDF::Statement.new(ex.久慈, RDF.type, RDF::Vocab::SCHEMA.Place),\n",
    "RDF::Statement.new(ex.夏井, RDF.type, RDF::Vocab::SCHEMA.Place),\n",
    "RDF::Statement.new(ex.岩手, RDF.type, RDF::Vocab::SCHEMA.Place),\n",
    "RDF::Statement.new(ex.普代村, RDF.type, RDF::Vocab::SCHEMA.Place),\n",
    "RDF::Statement.new(ex.下安家, RDF.type, RDF::Vocab::SCHEMA.Place),\n",
    "RDF::Statement.new(ex.八戸, RDF::Vocab::VCARD.hasURL, gn.青森県八戸市),\n",
    "RDF::Statement.new(ex.野田村, RDF::Vocab::VCARD.hasURL, gn.岩手県九戸郡野田村),\n",
    "RDF::Statement.new(ex.北日本, RDF::Vocab::VCARD.hasURL, gn.なし),\n",
    "RDF::Statement.new(ex.小中野, RDF::Vocab::VCARD.hasURL, gn.青森県八戸市小中野),\n",
    "RDF::Statement.new(ex.野田, RDF::Vocab::VCARD.hasURL, gn.宮城県塩竈市野田),\n",
    "RDF::Statement.new(ex.久慈, RDF::Vocab::VCARD.hasURL, gn.岩手県久慈市),\n",
    "RDF::Statement.new(ex.夏井, RDF::Vocab::VCARD.hasURL, gn.新潟県新潟市西蒲区夏井),\n",
    "RDF::Statement.new(ex.岩手, RDF::Vocab::VCARD.hasURL, gn.岩手県),\n",
    "RDF::Statement.new(ex.普代村, RDF::Vocab::VCARD.hasURL, gn.岩手県下閉伊郡普代村),\n",
    "RDF::Statement.new(ex.下安家, RDF::Vocab::VCARD.hasURL, gn.なし)\n",
    "]"
   ]
  },
  {
   "cell_type": "code",
   "execution_count": 26,
   "metadata": {
    "collapsed": false
   },
   "outputs": [
    {
     "data": {
      "text/plain": [
       "[#<RDF::Statement:0x3fe49b7a9210(<http://example.com/村産業まつり> <http://example.com/a> <http://example.com/村産業> .)>, #<RDF::Statement:0x3fe49b7a8db0(<http://example.com/村産業まつり> <http://example.com/isA> <http://example.com/まつり> .)>, #<RDF::Statement:0x3fe49b7a8978(<http://example.com/すわ神社> <http://example.com/a> <http://example.com/すわ> .)>, #<RDF::Statement:0x3fe49b7a8518(<http://example.com/すわ神社> <http://example.com/isA> <http://example.com/神社> .)>, #<RDF::Statement:0x3fe49b7a80e0(<http://example.com/さくらまつり> <http://example.com/a> <http://example.com/さくら> .)>, #<RDF::Statement:0x3fe49b7abc68(<http://example.com/さくらまつり> <http://example.com/isA> <http://example.com/まつり> .)>, #<RDF::Statement:0x3fe49b7ab808(<http://example.com/野田まつり> <http://example.com/isA> <http://example.com/まつり> .)>, #<RDF::Statement:0x3fe49b7ab3a8(<http://example.com/野田まつり> <http://example.com/isIn> <http://example.com/野田> .)>, #<RDF::Statement:0x3fe49b7aaf48(<http://example.com/北日本造船工場> <http://example.com/isIn> <http://example.com/北日本> .)>, #<RDF::Statement:0x3fe49b7aaae8(<http://example.com/北日本造船工場> <http://example.com/isA> <http://example.com/工場> .)>, #<RDF::Statement:0x3fe49b7aa660(<http://example.com/北日本造船工場> <http://example.com/isRelatedIn> <http://example.com/造船> .)>, #<RDF::Statement:0x3fe49b7aa200(<http://example.com/国立オリンピック記念青少年総合センター国際交流棟> <http://example.com/isA> <http://example.com/センター> .)>, #<RDF::Statement:0x3fe49b7afda4(<http://example.com/国立オリンピック記念青少年総合センター国際交流棟> <http://example.com/a> <http://example.com/オリンピック> .)>, #<RDF::Statement:0x3fe49b7af91c(<http://example.com/国立オリンピック記念青少年総合センター国際交流棟> <http://example.com/isRelatedIn> <http://example.com/国際交流> .)>, #<RDF::Statement:0x3fe49b7af4e4(<http://example.com/国立オリンピック記念青少年総合センター国際交流棟> <http://example.com/a> <http://example.com/記念> .)>, #<RDF::Statement:0x3fe49b7af0ac(<http://example.com/国立オリンピック記念青少年総合センター国際交流棟> <http://example.com/a> <http://example.com/総合> .)>, #<RDF::Statement:0x3fe49b7aec74(<http://example.com/国立オリンピック記念青少年総合センター国際交流棟> <http://example.com/a> <http://example.com/棟> .)>, #<RDF::Statement:0x3fe49b7ae83c(<http://example.com/国立オリンピック記念青少年総合センター国際交流棟> <http://example.com/a> <http://example.com/青少年> .)>, #<RDF::Statement:0x3fe49b7ae404(<http://example.com/国立オリンピック記念青少年総合センター国際交流棟> <http://example.com/a> <http://example.com/国立> .)>, #<RDF::Statement:0x3fe49b7b3f80(<http://example.com/野田駅> <http://example.com/isA> <http://example.com/駅> .)>, #<RDF::Statement:0x3fe49b7b3b20(<http://example.com/野田駅> <http://example.com/isIn> <http://example.com/野田> .)>, #<RDF::Statement:0x3fe49b7b3698(<http://example.com/野田中学校体育祭> <http://example.com/isHeldIn> <http://example.com/野田中学校> .)>, #<RDF::Statement:0x3fe49b7b3238(<http://example.com/野田中学校体育祭> <http://example.com/isA> <http://example.com/体育祭> .)>, #<RDF::Statement:0x3fe49b7b2db0(<http://example.com/普代村災対本部> <http://example.com/isRelatedIn> <http://example.com/災> .)>, #<RDF::Statement:0x3fe49b7b2950(<http://example.com/普代村災対本部> <http://example.com/isIn> <http://example.com/普代村> .)>, #<RDF::Statement:0x3fe49b7b24f0(<http://example.com/普代村災対本部> <http://example.com/isA> <http://example.com/本部> .)>, #<RDF::Statement:0x3fe49b7b20b8(<http://example.com/普代村災対本部> <http://example.com/a> <http://example.com/対> .)>, #<RDF::Statement:0x3fe49b7bfc40(<http://example.com/夏井駅前> <http://example.com/isA> <http://example.com/駅> .)>, #<RDF::Statement:0x3fe49b7bf808(<http://example.com/夏井駅前> <http://example.com/a> <http://example.com/駅前> .)>, #<RDF::Statement:0x3fe49b7bf3a8(<http://example.com/夏井駅前> <http://example.com/isIn> <http://example.com/夏井> .)>, #<RDF::Statement:0x3fe49b7bef20(<http://example.com/第1回岩手県災害廃棄物処理対策協議会> <http://example.com/isRelatedIn> <http://example.com/災害> .)>, #<RDF::Statement:0x3fe49b7beae8(<http://example.com/第1回岩手県災害廃棄物処理対策協議会> <http://example.com/a> <http://example.com/対策> .)>, #<RDF::Statement:0x3fe49b7be6b0(<http://example.com/第1回岩手県災害廃棄物処理対策協議会> <http://example.com/a> <http://example.com/県> .)>, #<RDF::Statement:0x3fe49b7be250(<http://example.com/第1回岩手県災害廃棄物処理対策協議会> <http://example.com/isA> <http://example.com/協議会> .)>, #<RDF::Statement:0x3fe49b7c3da4(<http://example.com/第1回岩手県災害廃棄物処理対策協議会> <http://example.com/isRelatedIn> <http://example.com/廃棄物> .)>, #<RDF::Statement:0x3fe49b7c3944(<http://example.com/第1回岩手県災害廃棄物処理対策協議会> <http://example.com/isIn> <http://example.com/岩手> .)>, #<RDF::Statement:0x3fe49b7c350c(<http://example.com/第1回岩手県災害廃棄物処理対策協議会> <http://example.com/a> <http://example.com/対> .)>, #<RDF::Statement:0x3fe49b7c30ac(<http://example.com/野田中学校> <http://example.com/isA> <http://example.com/中学校> .)>, #<RDF::Statement:0x3fe49b7c2c4c(<http://example.com/野田中学校> <http://example.com/isIn> <http://example.com/野田> .)>, #<RDF::Statement:0x3fe49b7c27c4(<http://example.com/八戸市shi災害ボランティアセンター> <http://example.com/isRelatedIn> <http://example.com/災> .)>, #<RDF::Statement:0x3fe49b7c233c(<http://example.com/八戸市shi災害ボランティアセンター> <http://example.com/isRelatedIn> <http://example.com/ボランティア> .)>, #<RDF::Statement:0x3fe49b7c7eb8(<http://example.com/八戸市shi災害ボランティアセンター> <http://example.com/isA> <http://example.com/センター> .)>, #<RDF::Statement:0x3fe49b7c7a30(<http://example.com/八戸市shi災害ボランティアセンター> <http://example.com/isRelatedIn> <http://example.com/災害> .)>, #<RDF::Statement:0x3fe49b7c75f8(<http://example.com/八戸市shi災害ボランティアセンター> <http://example.com/a> <http://example.com/市> .)>, #<RDF::Statement:0x3fe49b7c7198(<http://example.com/八戸市shi災害ボランティアセンター> <http://example.com/isIn> <http://example.com/八戸> .)>, #<RDF::Statement:0x3fe49b7c6d38(<http://example.com/小中野中学校> <http://example.com/isIn> <http://example.com/小中野> .)>, #<RDF::Statement:0x3fe49b7c68d8(<http://example.com/小中野中学校> <http://example.com/isA> <http://example.com/中学校> .)>, #<RDF::Statement:0x3fe49b7c6478(<http://example.com/久慈秋祭り> <http://example.com/isIn> <http://example.com/久慈> .)>, #<RDF::Statement:0x3fe49b7c6040(<http://example.com/久慈秋祭り> <http://example.com/a> <http://example.com/秋> .)>, #<RDF::Statement:0x3fe49b7cbbbc(<http://example.com/久慈秋祭り> <http://example.com/isA> <http://example.com/祭り> .)>, #<RDF::Statement:0x3fe49b7cb784(<http://example.com/港まつり復興市ichi> <http://example.com/a> <http://example.com/港> .)>, #<RDF::Statement:0x3fe49b7cb34c(<http://example.com/港まつり復興市ichi> <http://example.com/a> <http://example.com/市ichi> .)>, #<RDF::Statement:0x3fe49b7caeec(<http://example.com/港まつり復興市ichi> <http://example.com/isA> <http://example.com/まつり> .)>, #<RDF::Statement:0x3fe49b7caa64(<http://example.com/港まつり復興市ichi> <http://example.com/isRelatedIn> <http://example.com/復興> .)>, #<RDF::Statement:0x3fe49b7ca604(<http://example.com/野田村生涯学習センター> <http://example.com/isA> <http://example.com/センター> .)>, #<RDF::Statement:0x3fe49b7ca1a4(<http://example.com/野田村生涯学習センター> <http://example.com/isIn> <http://example.com/野田村> .)>, #<RDF::Statement:0x3fe49b7cfce4(<http://example.com/野田村生涯学習センター> <http://example.com/isRelatedIn> <http://example.com/生涯学習> .)>, #<RDF::Statement:0x3fe49b7cf884(<http://example.com/下安家地区集会所> <http://example.com/isA> <http://example.com/集会所> .)>, #<RDF::Statement:0x3fe49b7cf44c(<http://example.com/下安家地区集会所> <http://example.com/a> <http://example.com/地区> .)>, #<RDF::Statement:0x3fe49b7cefec(<http://example.com/下安家地区集会所> <http://example.com/isIn> <http://example.com/下安家> .)>, #<RDF::Statement:0x3fe49b7cee20(<http://example.com/病院> <http://www.w3.org/1999/02/22-rdf-syntax-ns#type> <http://schema.org/Hospital> .)>, #<RDF::Statement:0x3fe49b7cec54(<http://example.com/センター> <http://www.w3.org/1999/02/22-rdf-syntax-ns#type> <http://schema.org/Organization> .)>, #<RDF::Statement:0x3fe49b7cea88(<http://example.com/庁舎> <http://www.w3.org/1999/02/22-rdf-syntax-ns#type> <http://schema.org/CivicStructure> .)>, #<RDF::Statement:0x3fe49b7ce8bc(<http://example.com/高校> <http://www.w3.org/1999/02/22-rdf-syntax-ns#type> <http://schema.org/HighSchool> .)>, #<RDF::Statement:0x3fe49b7ce6f0(<http://example.com/中学> <http://www.w3.org/1999/02/22-rdf-syntax-ns#type> <http://schema.org/MiddleSchool> .)>, #<RDF::Statement:0x3fe49b7ce524(<http://example.com/駅> <http://www.w3.org/1999/02/22-rdf-syntax-ns#type> <http://schema.org/TrainStation> .)>, #<RDF::Statement:0x3fe49b7ce358(<http://example.com/高等学校> <http://www.w3.org/1999/02/22-rdf-syntax-ns#type> <http://schema.org/HighSchool> .)>, #<RDF::Statement:0x3fe49b7ce18c(<http://example.com/中学校> <http://www.w3.org/1999/02/22-rdf-syntax-ns#type> <http://schema.org/MiddleSchool> .)>, #<RDF::Statement:0x3fe49b7d3f9c(<http://example.com/駅舎> <http://www.w3.org/1999/02/22-rdf-syntax-ns#type> <http://schema.org/CivicStructure> .)>, #<RDF::Statement:0x3fe49b7d3dd0(<http://example.com/株式会社> <http://www.w3.org/1999/02/22-rdf-syntax-ns#type> <http://schema.org/Organization> .)>, #<RDF::Statement:0x3fe49b7d3c04(<http://example.com/詰所> <http://www.w3.org/1999/02/22-rdf-syntax-ns#type> <http://schema.org/Hotel> .)>, #<RDF::Statement:0x3fe49b7d3a38(<http://example.com/自動車道> <http://www.w3.org/1999/02/22-rdf-syntax-ns#type> <http://schema.org/Place> .)>, #<RDF::Statement:0x3fe49b7d386c(<http://example.com/郵便局> <http://www.w3.org/1999/02/22-rdf-syntax-ns#type> <http://schema.org/PostOffice> .)>, #<RDF::Statement:0x3fe49b7d36a0(<http://example.com/寺> <http://www.w3.org/1999/02/22-rdf-syntax-ns#type> <http://schema.org/BuddhistTemple> .)>, #<RDF::Statement:0x3fe49b7d34d4(<http://example.com/神社> <http://www.w3.org/1999/02/22-rdf-syntax-ns#type> <http://schema.org/Place> .)>, #<RDF::Statement:0x3fe49b7d3308(<http://example.com/組合> <http://www.w3.org/1999/02/22-rdf-syntax-ns#type> <http://schema.org/Organization> .)>, #<RDF::Statement:0x3fe49b7d313c(<http://example.com/分譲地> <http://www.w3.org/1999/02/22-rdf-syntax-ns#type> <http://schema.org/Place> .)>, #<RDF::Statement:0x3fe49b7d2f70(<http://example.com/変電所> <http://www.w3.org/1999/02/22-rdf-syntax-ns#type> <http://schema.org/Place> .)>, #<RDF::Statement:0x3fe49b7d2da4(<http://example.com/老人ホーム> <http://www.w3.org/1999/02/22-rdf-syntax-ns#type> <http://schema.org/CivicStructure> .)>, #<RDF::Statement:0x3fe49b7d2bd8(<http://example.com/商店街> <http://www.w3.org/1999/02/22-rdf-syntax-ns#type> <http://schema.org/LocalBusiness> .)>, #<RDF::Statement:0x3fe49b7d2a0c(<http://example.com/集会所> <http://www.w3.org/1999/02/22-rdf-syntax-ns#type> <http://schema.org/CivicStructure> .)>, #<RDF::Statement:0x3fe49b7d2840(<http://example.com/物産館> <http://www.w3.org/1999/02/22-rdf-syntax-ns#type> <http://schema.org/CivicStructure> .)>, #<RDF::Statement:0x3fe49b7d2674(<http://example.com/プロジェクト> <http://www.w3.org/1999/02/22-rdf-syntax-ns#type> <http://schema.org/Organization> .)>, #<RDF::Statement:0x3fe49b7d24a8(<http://example.com/協会> <http://www.w3.org/1999/02/22-rdf-syntax-ns#type> <http://schema.org/Organization> .)>, #<RDF::Statement:0x3fe49b7d22dc(<http://example.com/史料館> <http://www.w3.org/1999/02/22-rdf-syntax-ns#type> <http://schema.org/CivicStructure> .)>, #<RDF::Statement:0x3fe49b7d2110(<http://example.com/選手権> <http://www.w3.org/1999/02/22-rdf-syntax-ns#type> <http://schema.org/Event> .)>, #<RDF::Statement:0x3fe499691f14(<http://example.com/祭り> <http://www.w3.org/1999/02/22-rdf-syntax-ns#type> <http://schema.org/Festival> .)>, #<RDF::Statement:0x3fe499691d48(<http://example.com/本部> <http://www.w3.org/1999/02/22-rdf-syntax-ns#type> <http://schema.org/Organization> .)>, #<RDF::Statement:0x3fe499691b7c(<http://example.com/財団> <http://www.w3.org/1999/02/22-rdf-syntax-ns#type> <http://schema.org/Organization> .)>, #<RDF::Statement:0x3fe4996919b0(<http://example.com/記念館> <http://www.w3.org/1999/02/22-rdf-syntax-ns#type> <http://schema.org/CivicStructure> .)>, #<RDF::Statement:0x3fe4996917e4(<http://example.com/信用金庫> <http://www.w3.org/1999/02/22-rdf-syntax-ns#type> <http://schema.org/BankOrCreditUnion> .)>, #<RDF::Statement:0x3fe499691618(<http://example.com/銀行> <http://www.w3.org/1999/02/22-rdf-syntax-ns#type> <http://schema.org/BankOrCreditUnion> .)>, #<RDF::Statement:0x3fe49969144c(<http://example.com/まつり> <http://www.w3.org/1999/02/22-rdf-syntax-ns#type> <http://schema.org/Festival> .)>, #<RDF::Statement:0x3fe499691280(<http://example.com/会議所> <http://www.w3.org/1999/02/22-rdf-syntax-ns#type> <http://schema.org/Organization> .)>, #<RDF::Statement:0x3fe4996910b4(<http://example.com/保養園> <http://www.w3.org/1999/02/22-rdf-syntax-ns#type> <http://schema.org/CivicStructure> .)>, #<RDF::Statement:0x3fe499690ee8(<http://example.com/公民館> <http://www.w3.org/1999/02/22-rdf-syntax-ns#type> <http://schema.org/CivicStructure> .)>, #<RDF::Statement:0x3fe499690d1c(<http://example.com/体育館> <http://www.w3.org/1999/02/22-rdf-syntax-ns#type> <http://schema.org/ExerciseGym> .)>, #<RDF::Statement:0x3fe499690b50(<http://example.com/企業体> <http://www.w3.org/1999/02/22-rdf-syntax-ns#type> <http://schema.org/Organization> .)>, #<RDF::Statement:0x3fe499690984(<http://example.com/社団法人> <http://www.w3.org/1999/02/22-rdf-syntax-ns#type> <http://schema.org/Organization> .)>, #<RDF::Statement:0x3fe4996907b8(<http://example.com/有限会社> <http://www.w3.org/1999/02/22-rdf-syntax-ns#type> <http://schema.org/Organization> .)>, #<RDF::Statement:0x3fe4996905ec(<http://example.com/八戸> <http://www.w3.org/1999/02/22-rdf-syntax-ns#type> <http://schema.org/Place> .)>, #<RDF::Statement:0x3fe499690420(<http://example.com/野田村> <http://www.w3.org/1999/02/22-rdf-syntax-ns#type> <http://schema.org/Place> .)>, #<RDF::Statement:0x3fe499690254(<http://example.com/北日本> <http://www.w3.org/1999/02/22-rdf-syntax-ns#type> <http://schema.org/Place> .)>, #<RDF::Statement:0x3fe499690088(<http://example.com/小中野> <http://www.w3.org/1999/02/22-rdf-syntax-ns#type> <http://schema.org/Place> .)>, #<RDF::Statement:0x3fe49969be88(<http://example.com/野田> <http://www.w3.org/1999/02/22-rdf-syntax-ns#type> <http://schema.org/Place> .)>, #<RDF::Statement:0x3fe49969bcbc(<http://example.com/久慈> <http://www.w3.org/1999/02/22-rdf-syntax-ns#type> <http://schema.org/Place> .)>, #<RDF::Statement:0x3fe49969baf0(<http://example.com/夏井> <http://www.w3.org/1999/02/22-rdf-syntax-ns#type> <http://schema.org/Place> .)>, #<RDF::Statement:0x3fe49969b924(<http://example.com/岩手> <http://www.w3.org/1999/02/22-rdf-syntax-ns#type> <http://schema.org/Place> .)>, #<RDF::Statement:0x3fe49969b758(<http://example.com/普代村> <http://www.w3.org/1999/02/22-rdf-syntax-ns#type> <http://schema.org/Place> .)>, #<RDF::Statement:0x3fe49969b58c(<http://example.com/下安家> <http://www.w3.org/1999/02/22-rdf-syntax-ns#type> <http://schema.org/Place> .)>, #<RDF::Statement:0x3fe49969b2a8(<http://example.com/八戸> <http://www.w3.org/2006/vcard/ns#hasURL> <http://geonames.org/resource/青森県八戸市> .)>, #<RDF::Statement:0x3fe49969afc4(<http://example.com/野田村> <http://www.w3.org/2006/vcard/ns#hasURL> <http://geonames.org/resource/岩手県九戸郡野田村> .)>, #<RDF::Statement:0x3fe49969ace0(<http://example.com/北日本> <http://www.w3.org/2006/vcard/ns#hasURL> <http://geonames.org/resource/なし> .)>, #<RDF::Statement:0x3fe49969a9fc(<http://example.com/小中野> <http://www.w3.org/2006/vcard/ns#hasURL> <http://geonames.org/resource/青森県八戸市小中野> .)>, #<RDF::Statement:0x3fe49969a718(<http://example.com/野田> <http://www.w3.org/2006/vcard/ns#hasURL> <http://geonames.org/resource/宮城県塩竈市野田> .)>, #<RDF::Statement:0x3fe49969a434(<http://example.com/久慈> <http://www.w3.org/2006/vcard/ns#hasURL> <http://geonames.org/resource/岩手県久慈市> .)>, #<RDF::Statement:0x3fe49969a150(<http://example.com/夏井> <http://www.w3.org/2006/vcard/ns#hasURL> <http://geonames.org/resource/新潟県新潟市西蒲区夏井> .)>, #<RDF::Statement:0x3fe499693e40(<http://example.com/岩手> <http://www.w3.org/2006/vcard/ns#hasURL> <http://geonames.org/resource/岩手県> .)>, #<RDF::Statement:0x3fe499693b5c(<http://example.com/普代村> <http://www.w3.org/2006/vcard/ns#hasURL> <http://geonames.org/resource/岩手県下閉伊郡普代村> .)>, #<RDF::Statement:0x3fe499693878(<http://example.com/下安家> <http://www.w3.org/2006/vcard/ns#hasURL> <http://geonames.org/resource/なし> .)>]"
      ]
     },
     "execution_count": 26,
     "metadata": {},
     "output_type": "execute_result"
    }
   ],
   "source": [
    "# トリプルを代入した配列をグラフオブジェクトへ\n",
    "statements.each do |statement|\n",
    "   graph << statement\n",
    "end"
   ]
  },
  {
   "cell_type": "code",
   "execution_count": 27,
   "metadata": {
    "collapsed": false
   },
   "outputs": [
    {
     "data": {
      "text/plain": [
       "\"@prefix rdf: <http://www.w3.org/1999/02/22-rdf-syntax-ns#> .\\n@prefix schema: <http://schema.org/> .\\n@prefix vcard: <http://www.w3.org/2006/vcard/ns#> .\\n\\n<http://example.com/さくらまつり> <http://example.com/a> <http://example.com/さくら>;\\n   <http://example.com/isA> <http://example.com/まつり> .\\n\\n<http://example.com/すわ神社> <http://example.com/a> <http://example.com/すわ>;\\n   <http://example.com/isA> <http://example.com/神社> .\\n\\n<http://example.com/プロジェクト> a schema:Organization .\\n\\n<http://example.com/下安家地区集会所> <http://example.com/a> <http://example.com/地区>;\\n   <http://example.com/isA> <http://example.com/集会所>;\\n   <http://example.com/isIn> <http://example.com/下安家> .\\n\\n<http://example.com/中学> a schema:MiddleSchool .\\n\\n<http://example.com/久慈秋祭り> <http://example.com/a> <http://example.com/秋>;\\n   <http://example.com/isA> <http://example.com/祭り>;\\n   <http://example.com/isIn> <http://example.com/久慈> .\\n\\n<http://example.com/企業体> a schema:Organization .\\n\\n<http://example.com/会議所> a schema:Organization .\\n\\n<http://example.com/体育館> a schema:ExerciseGym .\\n\\n<http://example.com/保養園> a schema:CivicStructure .\\n\\n<http://example.com/信用金庫> a schema:BankOrCreditUnion .\\n\\n<http://example.com/八戸市shi災害ボランティアセンター> <http://example.com/a> <http://example.com/市>;\\n   <http://example.com/isA> <http://example.com/センター>;\\n   <http://example.com/isIn> <http://example.com/八戸>;\\n   <http://example.com/isRelatedIn> <http://example.com/ボランティア>,\\n     <http://example.com/災害>,\\n     <http://example.com/災> .\\n\\n<http://example.com/公民館> a schema:CivicStructure .\\n\\n<http://example.com/分譲地> a schema:Place .\\n\\n<http://example.com/北日本造船工場> <http://example.com/isA> <http://example.com/工場>;\\n   <http://example.com/isIn> <http://example.com/北日本>;\\n   <http://example.com/isRelatedIn> <http://example.com/造船> .\\n\\n<http://example.com/協会> a schema:Organization .\\n\\n<http://example.com/史料館> a schema:CivicStructure .\\n\\n<http://example.com/商店街> a schema:LocalBusiness .\\n\\n<http://example.com/国立オリンピック記念青少年総合センター国際交流棟> <http://example.com/a> <http://example.com/総合>,\\n     <http://example.com/棟>,\\n     <http://example.com/オリンピック>,\\n     <http://example.com/青少年>,\\n     <http://example.com/国立>,\\n     <http://example.com/記念>;\\n   <http://example.com/isA> <http://example.com/センター>;\\n   <http://example.com/isRelatedIn> <http://example.com/国際交流> .\\n\\n<http://example.com/変電所> a schema:Place .\\n\\n<http://example.com/夏井駅前> <http://example.com/a> <http://example.com/駅前>;\\n   <http://example.com/isA> <http://example.com/駅>;\\n   <http://example.com/isIn> <http://example.com/夏井> .\\n\\n<http://example.com/寺> a schema:BuddhistTemple .\\n\\n<http://example.com/小中野中学校> <http://example.com/isA> <http://example.com/中学校>;\\n   <http://example.com/isIn> <http://example.com/小中野> .\\n\\n<http://example.com/庁舎> a schema:CivicStructure .\\n\\n<http://example.com/普代村災対本部> <http://example.com/a> <http://example.com/対>;\\n   <http://example.com/isA> <http://example.com/本部>;\\n   <http://example.com/isIn> <http://example.com/普代村>;\\n   <http://example.com/isRelatedIn> <http://example.com/災> .\\n\\n<http://example.com/有限会社> a schema:Organization .\\n\\n<http://example.com/村産業まつり> <http://example.com/a> <http://example.com/村産業>;\\n   <http://example.com/isA> <http://example.com/まつり> .\\n\\n<http://example.com/株式会社> a schema:Organization .\\n\\n<http://example.com/港まつり復興市ichi> <http://example.com/a> <http://example.com/市ichi>,\\n     <http://example.com/港>;\\n   <http://example.com/isA> <http://example.com/まつり>;\\n   <http://example.com/isRelatedIn> <http://example.com/復興> .\\n\\n<http://example.com/物産館> a schema:CivicStructure .\\n\\n<http://example.com/病院> a schema:Hospital .\\n\\n<http://example.com/社団法人> a schema:Organization .\\n\\n<http://example.com/第1回岩手県災害廃棄物処理対策協議会> <http://example.com/a> <http://example.com/県>,\\n     <http://example.com/対策>,\\n     <http://example.com/対>;\\n   <http://example.com/isA> <http://example.com/協議会>;\\n   <http://example.com/isIn> <http://example.com/岩手>;\\n   <http://example.com/isRelatedIn> <http://example.com/災害>,\\n     <http://example.com/廃棄物> .\\n\\n<http://example.com/組合> a schema:Organization .\\n\\n<http://example.com/老人ホーム> a schema:CivicStructure .\\n\\n<http://example.com/自動車道> a schema:Place .\\n\\n<http://example.com/記念館> a schema:CivicStructure .\\n\\n<http://example.com/詰所> a schema:Hotel .\\n\\n<http://example.com/財団> a schema:Organization .\\n\\n<http://example.com/選手権> a schema:Event .\\n\\n<http://example.com/郵便局> a schema:PostOffice .\\n\\n<http://example.com/野田まつり> <http://example.com/isA> <http://example.com/まつり>;\\n   <http://example.com/isIn> <http://example.com/野田> .\\n\\n<http://example.com/野田中学校体育祭> <http://example.com/isA> <http://example.com/体育祭>;\\n   <http://example.com/isHeldIn> <http://example.com/野田中学校> .\\n\\n<http://example.com/野田村生涯学習センター> <http://example.com/isA> <http://example.com/センター>;\\n   <http://example.com/isIn> <http://example.com/野田村>;\\n   <http://example.com/isRelatedIn> <http://example.com/生涯学習> .\\n\\n<http://example.com/野田駅> <http://example.com/isA> <http://example.com/駅>;\\n   <http://example.com/isIn> <http://example.com/野田> .\\n\\n<http://example.com/銀行> a schema:BankOrCreditUnion .\\n\\n<http://example.com/駅舎> a schema:CivicStructure .\\n\\n<http://example.com/高校> a schema:HighSchool .\\n\\n<http://example.com/高等学校> a schema:HighSchool .\\n\\n<http://example.com/下安家> a schema:Place;\\n   vcard:hasURL <http://geonames.org/resource/なし> .\\n\\n<http://example.com/久慈> a schema:Place;\\n   vcard:hasURL <http://geonames.org/resource/岩手県久慈市> .\\n\\n<http://example.com/八戸> a schema:Place;\\n   vcard:hasURL <http://geonames.org/resource/青森県八戸市> .\\n\\n<http://example.com/北日本> a schema:Place;\\n   vcard:hasURL <http://geonames.org/resource/なし> .\\n\\n<http://example.com/夏井> a schema:Place;\\n   vcard:hasURL <http://geonames.org/resource/新潟県新潟市西蒲区夏井> .\\n\\n<http://example.com/小中野> a schema:Place;\\n   vcard:hasURL <http://geonames.org/resource/青森県八戸市小中野> .\\n\\n<http://example.com/岩手> a schema:Place;\\n   vcard:hasURL <http://geonames.org/resource/岩手県> .\\n\\n<http://example.com/普代村> a schema:Place;\\n   vcard:hasURL <http://geonames.org/resource/岩手県下閉伊郡普代村> .\\n\\n<http://example.com/本部> a schema:Organization .\\n\\n<http://example.com/神社> a schema:Place .\\n\\n<http://example.com/祭り> a schema:Festival .\\n\\n<http://example.com/野田中学校> <http://example.com/isA> <http://example.com/中学校>;\\n   <http://example.com/isIn> <http://example.com/野田> .\\n\\n<http://example.com/野田村> a schema:Place;\\n   vcard:hasURL <http://geonames.org/resource/岩手県九戸郡野田村> .\\n\\n<http://example.com/集会所> a schema:CivicStructure .\\n\\n<http://example.com/中学校> a schema:MiddleSchool .\\n\\n<http://example.com/駅> a schema:TrainStation .\\n\\n<http://example.com/センター> a schema:Organization .\\n\\n<http://example.com/野田> a schema:Place;\\n   vcard:hasURL <http://geonames.org/resource/宮城県塩竈市野田> .\\n\\n<http://example.com/まつり> a schema:Festival .\\n\""
      ]
     },
     "execution_count": 27,
     "metadata": {},
     "output_type": "execute_result"
    }
   ],
   "source": [
    "graph.to_ttl"
   ]
  },
  {
   "cell_type": "code",
   "execution_count": 29,
   "metadata": {
    "collapsed": true
   },
   "outputs": [
    {
     "data": {
      "text/plain": [
       "\"@prefix rdf: <http://www.w3.org/1999/02/22-rdf-syntax-ns#> .\\n@prefix schema: <http://schema.org/> .\\n@prefix vcard: <http://www.w3.org/2006/vcard/ns#> .\\n\\n<http://example.com/さくらまつり> <http://example.com/a> <http://example.com/さくら>;\\n   <http://example.com/isA> <http://example.com/まつり> .\\n\\n<http://example.com/すわ神社> <http://example.com/a> <http://example.com/すわ>;\\n   <http://example.com/isA> <http://example.com/神社> .\\n\\n<http://example.com/プロジェクト> a schema:Organization .\\n\\n<http://example.com/下安家地区集会所> <http://example.com/a> <http://example.com/地区>;\\n   <http://example.com/isA> <http://example.com/集会所>;\\n   <http://example.com/isIn> <http://example.com/下安家> .\\n\\n<http://example.com/中学> a schema:MiddleSchool .\\n\\n<http://example.com/久慈秋祭り> <http://example.com/a> <http://example.com/秋>;\\n   <http://example.com/isA> <http://example.com/祭り>;\\n   <http://example.com/isIn> <http://example.com/久慈> .\\n\\n<http://example.com/企業体> a schema:Organization .\\n\\n<http://example.com/会議所> a schema:Organization .\\n\\n<http://example.com/体育館> a schema:ExerciseGym .\\n\\n<http://example.com/保養園> a schema:CivicStructure .\\n\\n<http://example.com/信用金庫> a schema:BankOrCreditUnion .\\n\\n<http://example.com/八戸市shi災害ボランティアセンター> <http://example.com/a> <http://example.com/市>;\\n   <http://example.com/isA> <http://example.com/センター>;\\n   <http://example.com/isIn> <http://example.com/八戸>;\\n   <http://example.com/isRelatedIn> <http://example.com/ボランティア>,\\n     <http://example.com/災害>,\\n     <http://example.com/災> .\\n\\n<http://example.com/公民館> a schema:CivicStructure .\\n\\n<http://example.com/分譲地> a schema:Place .\\n\\n<http://example.com/北日本造船工場> <http://example.com/isA> <http://example.com/工場>;\\n   <http://example.com/isIn> <http://example.com/北日本>;\\n   <http://example.com/isRelatedIn> <http://example.com/造船> .\\n\\n<http://example.com/協会> a schema:Organization .\\n\\n<http://example.com/史料館> a schema:CivicStructure .\\n\\n<http://example.com/商店街> a schema:LocalBusiness .\\n\\n<http://example.com/国立オリンピック記念青少年総合センター国際交流棟> <http://example.com/a> <http://example.com/総合>,\\n     <http://example.com/棟>,\\n     <http://example.com/オリンピック>,\\n     <http://example.com/青少年>,\\n     <http://example.com/国立>,\\n     <http://example.com/記念>;\\n   <http://example.com/isA> <http://example.com/センター>;\\n   <http://example.com/isRelatedIn> <http://example.com/国際交流> .\\n\\n<http://example.com/変電所> a schema:Place .\\n\\n<http://example.com/夏井駅前> <http://example.com/a> <http://example.com/駅前>;\\n   <http://example.com/isA> <http://example.com/駅>;\\n   <http://example.com/isIn> <http://example.com/夏井> .\\n\\n<http://example.com/寺> a schema:BuddhistTemple .\\n\\n<http://example.com/小中野中学校> <http://example.com/isA> <http://example.com/中学校>;\\n   <http://example.com/isIn> <http://example.com/小中野> .\\n\\n<http://example.com/庁舎> a schema:CivicStructure .\\n\\n<http://example.com/普代村災対本部> <http://example.com/a> <http://example.com/対>;\\n   <http://example.com/isA> <http://example.com/本部>;\\n   <http://example.com/isIn> <http://example.com/普代村>;\\n   <http://example.com/isRelatedIn> <http://example.com/災> .\\n\\n<http://example.com/有限会社> a schema:Organization .\\n\\n<http://example.com/村産業まつり> <http://example.com/a> <http://example.com/村産業>;\\n   <http://example.com/isA> <http://example.com/まつり> .\\n\\n<http://example.com/株式会社> a schema:Organization .\\n\\n<http://example.com/港まつり復興市ichi> <http://example.com/a> <http://example.com/市ichi>,\\n     <http://example.com/港>;\\n   <http://example.com/isA> <http://example.com/まつり>;\\n   <http://example.com/isRelatedIn> <http://example.com/復興> .\\n\\n<http://example.com/物産館> a schema:CivicStructure .\\n\\n<http://example.com/病院> a schema:Hospital .\\n\\n<http://example.com/社団法人> a schema:Organization .\\n\\n<http://example.com/第1回岩手県災害廃棄物処理対策協議会> <http://example.com/a> <http://example.com/県>,\\n     <http://example.com/対策>,\\n     <http://example.com/対>;\\n   <http://example.com/isA> <http://example.com/協議会>;\\n   <http://example.com/isIn> <http://example.com/岩手>;\\n   <http://example.com/isRelatedIn> <http://example.com/災害>,\\n     <http://example.com/廃棄物> .\\n\\n<http://example.com/組合> a schema:Organization .\\n\\n<http://example.com/老人ホーム> a schema:CivicStructure .\\n\\n<http://example.com/自動車道> a schema:Place .\\n\\n<http://example.com/記念館> a schema:CivicStructure .\\n\\n<http://example.com/詰所> a schema:Hotel .\\n\\n<http://example.com/財団> a schema:Organization .\\n\\n<http://example.com/選手権> a schema:Event .\\n\\n<http://example.com/郵便局> a schema:PostOffice .\\n\\n<http://example.com/野田まつり> <http://example.com/isA> <http://example.com/まつり>;\\n   <http://example.com/isIn> <http://example.com/野田> .\\n\\n<http://example.com/野田中学校体育祭> <http://example.com/isA> <http://example.com/体育祭>;\\n   <http://example.com/isHeldIn> <http://example.com/野田中学校> .\\n\\n<http://example.com/野田村生涯学習センター> <http://example.com/isA> <http://example.com/センター>;\\n   <http://example.com/isIn> <http://example.com/野田村>;\\n   <http://example.com/isRelatedIn> <http://example.com/生涯学習> .\\n\\n<http://example.com/野田駅> <http://example.com/isA> <http://example.com/駅>;\\n   <http://example.com/isIn> <http://example.com/野田> .\\n\\n<http://example.com/銀行> a schema:BankOrCreditUnion .\\n\\n<http://example.com/駅舎> a schema:CivicStructure .\\n\\n<http://example.com/高校> a schema:HighSchool .\\n\\n<http://example.com/高等学校> a schema:HighSchool .\\n\\n<http://example.com/下安家> a schema:Place;\\n   vcard:hasURL <http://geonames.org/resource/なし> .\\n\\n<http://example.com/久慈> a schema:Place;\\n   vcard:hasURL <http://geonames.org/resource/岩手県久慈市> .\\n\\n<http://example.com/八戸> a schema:Place;\\n   vcard:hasURL <http://geonames.org/resource/青森県八戸市> .\\n\\n<http://example.com/北日本> a schema:Place;\\n   vcard:hasURL <http://geonames.org/resource/なし> .\\n\\n<http://example.com/夏井> a schema:Place;\\n   vcard:hasURL <http://geonames.org/resource/新潟県新潟市西蒲区夏井> .\\n\\n<http://example.com/小中野> a schema:Place;\\n   vcard:hasURL <http://geonames.org/resource/青森県八戸市小中野> .\\n\\n<http://example.com/岩手> a schema:Place;\\n   vcard:hasURL <http://geonames.org/resource/岩手県> .\\n\\n<http://example.com/普代村> a schema:Place;\\n   vcard:hasURL <http://geonames.org/resource/岩手県下閉伊郡普代村> .\\n\\n<http://example.com/本部> a schema:Organization .\\n\\n<http://example.com/神社> a schema:Place .\\n\\n<http://example.com/祭り> a schema:Festival .\\n\\n<http://example.com/野田中学校> <http://example.com/isA> <http://example.com/中学校>;\\n   <http://example.com/isIn> <http://example.com/野田> .\\n\\n<http://example.com/野田村> a schema:Place;\\n   vcard:hasURL <http://geonames.org/resource/岩手県九戸郡野田村> .\\n\\n<http://example.com/集会所> a schema:CivicStructure .\\n\\n<http://example.com/中学校> a schema:MiddleSchool .\\n\\n<http://example.com/駅> a schema:TrainStation .\\n\\n<http://example.com/センター> a schema:Organization .\\n\\n<http://example.com/野田> a schema:Place;\\n   vcard:hasURL <http://geonames.org/resource/宮城県塩竈市野田> .\\n\\n<http://example.com/まつり> a schema:Festival .\\n\""
      ]
     },
     "execution_count": 29,
     "metadata": {},
     "output_type": "execute_result"
    }
   ],
   "source": [
    "ttl_graph = graph.to_ttl"
   ]
  },
  {
   "cell_type": "code",
   "execution_count": 30,
   "metadata": {
    "collapsed": false
   },
   "outputs": [
    {
     "data": {
      "text/plain": [
       "7643"
      ]
     },
     "execution_count": 30,
     "metadata": {},
     "output_type": "execute_result"
    }
   ],
   "source": [
    "file_name = \"g_t.ttl\"    #保存するファイル名\n",
    "\n",
    "File.open(file_name, 'w') {|file|\n",
    " file.write ttl_graph\n",
    "}"
   ]
  },
  {
   "cell_type": "code",
   "execution_count": 17,
   "metadata": {
    "collapsed": true
   },
   "outputs": [
    {
     "ename": "NoMethodError",
     "evalue": "undefined method `datatype' for #<RDF::Query::Variable:0x3fe4999342d0(?o)>",
     "output_type": "error",
     "traceback": [
      "\u001b[31mNoMethodError\u001b[0m: undefined method `datatype' for #<RDF::Query::Variable:0x3fe4999342d0(?o)>",
      "\u001b[37m(haml):15:in `block in render'\u001b[0m",
      "\u001b[37m/Users/runa/.rbenv/versions/2.1.2/lib/ruby/gems/2.1.0/gems/haml-4.1.0.beta.1/lib/haml/engine.rb:126:in `eval'\u001b[0m",
      "\u001b[37m/Users/runa/.rbenv/versions/2.1.2/lib/ruby/gems/2.1.0/gems/haml-4.1.0.beta.1/lib/haml/engine.rb:126:in `render'\u001b[0m",
      "\u001b[37m/Users/runa/.rbenv/versions/2.1.2/lib/ruby/gems/2.1.0/gems/rdf-rdfa-2.0.0/lib/rdf/rdfa/writer.rb:764:in `hamlify'\u001b[0m",
      "\u001b[37m/Users/runa/.rbenv/versions/2.1.2/lib/ruby/gems/2.1.0/gems/rdf-rdfa-2.0.0/lib/rdf/rdfa/writer.rb:358:in `render_property'\u001b[0m",
      "\u001b[37m/Users/runa/.rbenv/versions/2.1.2/lib/ruby/gems/2.1.0/gems/rdf-rdfa-2.0.0/lib/rdf/rdfa/writer.rb:583:in `predicate'\u001b[0m",
      "\u001b[37m/Users/runa/.rbenv/versions/2.1.2/lib/ruby/gems/2.1.0/gems/rdf-rdfa-2.0.0/lib/rdf/rdfa/writer.rb:563:in `block (3 levels) in render_subject_template'\u001b[0m",
      "\u001b[37m/Users/runa/.rbenv/versions/2.1.2/lib/ruby/gems/2.1.0/gems/rdf-2.0.0/lib/rdf/util/logger.rb:252:in `log_depth'\u001b[0m",
      "\u001b[37m/Users/runa/.rbenv/versions/2.1.2/lib/ruby/gems/2.1.0/gems/rdf-2.0.0/lib/rdf/util/logger.rb:192:in `log_depth'\u001b[0m",
      "\u001b[37m/Users/runa/.rbenv/versions/2.1.2/lib/ruby/gems/2.1.0/gems/rdf-rdfa-2.0.0/lib/rdf/rdfa/writer.rb:559:in `block (2 levels) in render_subject_template'\u001b[0m",
      "\u001b[37m/Users/runa/.rbenv/versions/2.1.2/lib/ruby/gems/2.1.0/gems/rdf-rdfa-2.0.0/lib/rdf/rdfa/writer.rb:282:in `block in render_subject'\u001b[0m",
      "\u001b[37m/Users/runa/.rbenv/versions/2.1.2/lib/ruby/gems/2.1.0/gems/rdf-rdfa-2.0.0/lib/rdf/rdfa/writer.rb:765:in `block in hamlify'\u001b[0m",
      "\u001b[37m(haml):12:in `block (2 levels) in render'\u001b[0m",
      "\u001b[37m(haml):11:in `each'\u001b[0m",
      "\u001b[37m(haml):11:in `block in render'\u001b[0m",
      "\u001b[37m/Users/runa/.rbenv/versions/2.1.2/lib/ruby/gems/2.1.0/gems/haml-4.1.0.beta.1/lib/haml/engine.rb:126:in `eval'\u001b[0m",
      "\u001b[37m/Users/runa/.rbenv/versions/2.1.2/lib/ruby/gems/2.1.0/gems/haml-4.1.0.beta.1/lib/haml/engine.rb:126:in `render'\u001b[0m",
      "\u001b[37m/Users/runa/.rbenv/versions/2.1.2/lib/ruby/gems/2.1.0/gems/rdf-rdfa-2.0.0/lib/rdf/rdfa/writer.rb:764:in `hamlify'\u001b[0m",
      "\u001b[37m/Users/runa/.rbenv/versions/2.1.2/lib/ruby/gems/2.1.0/gems/rdf-rdfa-2.0.0/lib/rdf/rdfa/writer.rb:281:in `render_subject'\u001b[0m",
      "\u001b[37m/Users/runa/.rbenv/versions/2.1.2/lib/ruby/gems/2.1.0/gems/rdf-rdfa-2.0.0/lib/rdf/rdfa/writer.rb:558:in `block in render_subject_template'\u001b[0m",
      "\u001b[37m/Users/runa/.rbenv/versions/2.1.2/lib/ruby/gems/2.1.0/gems/rdf-rdfa-2.0.0/lib/rdf/rdfa/writer.rb:743:in `with_template'\u001b[0m",
      "\u001b[37m/Users/runa/.rbenv/versions/2.1.2/lib/ruby/gems/2.1.0/gems/rdf-rdfa-2.0.0/lib/rdf/rdfa/writer.rb:557:in `render_subject_template'\u001b[0m",
      "\u001b[37m/Users/runa/.rbenv/versions/2.1.2/lib/ruby/gems/2.1.0/gems/rdf-rdfa-2.0.0/lib/rdf/rdfa/writer.rb:506:in `subject'\u001b[0m",
      "\u001b[37m/Users/runa/.rbenv/versions/2.1.2/lib/ruby/gems/2.1.0/gems/rdf-rdfa-2.0.0/lib/rdf/rdfa/writer.rb:191:in `block in write_epilogue'\u001b[0m",
      "\u001b[37m/Users/runa/.rbenv/versions/2.1.2/lib/ruby/gems/2.1.0/gems/rdf-rdfa-2.0.0/lib/rdf/rdfa/writer.rb:231:in `block in render_document'\u001b[0m",
      "\u001b[37m/Users/runa/.rbenv/versions/2.1.2/lib/ruby/gems/2.1.0/gems/rdf-rdfa-2.0.0/lib/rdf/rdfa/writer.rb:765:in `block in hamlify'\u001b[0m",
      "\u001b[37m(haml):12:in `block (2 levels) in render'\u001b[0m",
      "\u001b[37m(haml):11:in `map'\u001b[0m",
      "\u001b[37m(haml):11:in `block in render'\u001b[0m",
      "\u001b[37m/Users/runa/.rbenv/versions/2.1.2/lib/ruby/gems/2.1.0/gems/haml-4.1.0.beta.1/lib/haml/engine.rb:126:in `eval'\u001b[0m",
      "\u001b[37m/Users/runa/.rbenv/versions/2.1.2/lib/ruby/gems/2.1.0/gems/haml-4.1.0.beta.1/lib/haml/engine.rb:126:in `render'\u001b[0m",
      "\u001b[37m/Users/runa/.rbenv/versions/2.1.2/lib/ruby/gems/2.1.0/gems/rdf-rdfa-2.0.0/lib/rdf/rdfa/writer.rb:764:in `hamlify'\u001b[0m",
      "\u001b[37m/Users/runa/.rbenv/versions/2.1.2/lib/ruby/gems/2.1.0/gems/rdf-rdfa-2.0.0/lib/rdf/rdfa/writer.rb:230:in `render_document'\u001b[0m",
      "\u001b[37m/Users/runa/.rbenv/versions/2.1.2/lib/ruby/gems/2.1.0/gems/rdf-rdfa-2.0.0/lib/rdf/rdfa/writer.rb:186:in `write_epilogue'\u001b[0m",
      "\u001b[37m/Users/runa/.rbenv/versions/2.1.2/lib/ruby/gems/2.1.0/gems/rdf-2.0.0/lib/rdf/writer.rb:269:in `initialize'\u001b[0m",
      "\u001b[37m/Users/runa/.rbenv/versions/2.1.2/lib/ruby/gems/2.1.0/gems/rdf-rdfa-2.0.0/lib/rdf/rdfa/writer.rb:120:in `initialize'\u001b[0m",
      "\u001b[37m/Users/runa/.rbenv/versions/2.1.2/lib/ruby/gems/2.1.0/gems/rdf-2.0.0/lib/rdf/writer.rb:199:in `new'\u001b[0m",
      "\u001b[37m/Users/runa/.rbenv/versions/2.1.2/lib/ruby/gems/2.1.0/gems/rdf-2.0.0/lib/rdf/writer.rb:199:in `block in buffer'\u001b[0m",
      "\u001b[37m/Users/runa/.rbenv/versions/2.1.2/lib/ruby/gems/2.1.0/gems/rdf-2.0.0/lib/rdf/writer.rb:197:in `open'\u001b[0m",
      "\u001b[37m/Users/runa/.rbenv/versions/2.1.2/lib/ruby/gems/2.1.0/gems/rdf-2.0.0/lib/rdf/writer.rb:197:in `buffer'\u001b[0m",
      "\u001b[37m/Users/runa/.rbenv/versions/2.1.2/lib/ruby/gems/2.1.0/gems/rdf-2.0.0/lib/rdf/mixin/enumerable.rb:758:in `method_missing'\u001b[0m",
      "\u001b[37m/Users/runa/.rbenv/versions/2.1.2/lib/ruby/gems/2.1.0/gems/iruby-0.2.9/lib/iruby/display.rb:248:in `block in <module:Registry>'\u001b[0m",
      "\u001b[37m/Users/runa/.rbenv/versions/2.1.2/lib/ruby/gems/2.1.0/gems/iruby-0.2.9/lib/iruby/display.rb:105:in `call'\u001b[0m",
      "\u001b[37m/Users/runa/.rbenv/versions/2.1.2/lib/ruby/gems/2.1.0/gems/iruby-0.2.9/lib/iruby/display.rb:105:in `render'\u001b[0m",
      "\u001b[37m/Users/runa/.rbenv/versions/2.1.2/lib/ruby/gems/2.1.0/gems/iruby-0.2.9/lib/iruby/display.rb:61:in `block in render'\u001b[0m",
      "\u001b[37m/Users/runa/.rbenv/versions/2.1.2/lib/ruby/gems/2.1.0/gems/iruby-0.2.9/lib/iruby/display.rb:60:in `each'\u001b[0m",
      "\u001b[37m/Users/runa/.rbenv/versions/2.1.2/lib/ruby/gems/2.1.0/gems/iruby-0.2.9/lib/iruby/display.rb:60:in `render'\u001b[0m",
      "\u001b[37m/Users/runa/.rbenv/versions/2.1.2/lib/ruby/gems/2.1.0/gems/iruby-0.2.9/lib/iruby/display.rb:23:in `display'\u001b[0m",
      "\u001b[37m/Users/runa/.rbenv/versions/2.1.2/lib/ruby/gems/2.1.0/gems/iruby-0.2.9/lib/iruby/kernel.rb:96:in `execute_request'\u001b[0m",
      "\u001b[37m/Users/runa/.rbenv/versions/2.1.2/lib/ruby/gems/2.1.0/gems/iruby-0.2.9/lib/iruby/kernel.rb:47:in `dispatch'\u001b[0m",
      "\u001b[37m/Users/runa/.rbenv/versions/2.1.2/lib/ruby/gems/2.1.0/gems/iruby-0.2.9/lib/iruby/kernel.rb:37:in `run'\u001b[0m",
      "\u001b[37m/Users/runa/.rbenv/versions/2.1.2/lib/ruby/gems/2.1.0/gems/iruby-0.2.9/lib/iruby/command.rb:70:in `run_kernel'\u001b[0m",
      "\u001b[37m/Users/runa/.rbenv/versions/2.1.2/lib/ruby/gems/2.1.0/gems/iruby-0.2.9/lib/iruby/command.rb:34:in `run'\u001b[0m",
      "\u001b[37m/Users/runa/.rbenv/versions/2.1.2/lib/ruby/gems/2.1.0/gems/iruby-0.2.9/bin/iruby:5:in `<top (required)>'\u001b[0m",
      "\u001b[37m/Users/runa/.rbenv/versions/2.1.2/bin/iruby:23:in `load'\u001b[0m",
      "\u001b[37m/Users/runa/.rbenv/versions/2.1.2/bin/iruby:23:in `<main>'\u001b[0m"
     ]
    }
   ],
   "source": [
    "query = RDF::Query.new({\n",
    "  :s => {\n",
    "    ex.is_in => :o\n",
    "  }\n",
    "})"
   ]
  },
  {
   "cell_type": "code",
   "execution_count": 18,
   "metadata": {
    "collapsed": false
   },
   "outputs": [
    {
     "name": "stdout",
     "output_type": "stream",
     "text": [
      "http://example.com/北日本造船工場 は http://example.com/北日本 にある\n",
      "http://example.com/第1回岩手県災害廃棄物処理対策協議会 は http://example.com/岩手 にある\n",
      "http://example.com/普代村災対本部 は http://example.com/普代村 にある\n",
      "http://example.com/野田まつり は http://example.com/野田 にある\n",
      "http://example.com/野田中学校 は http://example.com/野田 にある\n",
      "http://example.com/小中野中学校 は http://example.com/小中野 にある\n",
      "http://example.com/久慈秋祭り は http://example.com/久慈 にある\n",
      "http://example.com/野田駅 は http://example.com/野田 にある\n",
      "http://example.com/夏井駅前 は http://example.com/夏井 にある\n",
      "http://example.com/下安家地区集会所 は http://example.com/下安家 にある\n",
      "http://example.com/野田村生涯学習センター は http://example.com/野田村 にある\n",
      "http://example.com/八戸市shi災害ボランティアセンター は http://example.com/八戸 にある\n"
     ]
    },
    {
     "data": {
      "text/plain": [
       "[#<RDF::Query::Solution:0x3fe4999633c8({:s=>#<RDF::Vocabulary::Term:0x3fe4998cb21c URI:http://example.com/北日本造船工場>, :o=>#<RDF::Vocabulary::Term:0x3fe4998cac68 URI:http://example.com/北日本>})>, #<RDF::Query::Solution:0x3fe499963274({:s=>#<RDF::Vocabulary::Term:0x3fe499f78164 URI:http://example.com/第1回岩手県災害廃棄物処理対策協議会>, :o=>#<RDF::Vocabulary::Term:0x3fe499f8173c URI:http://example.com/岩手>})>, #<RDF::Query::Solution:0x3fe499963058({:s=>#<RDF::Vocabulary::Term:0x3fe499f756e4 URI:http://example.com/普代村災対本部>, :o=>#<RDF::Vocabulary::Term:0x3fe499f749ec URI:http://example.com/普代村>})>, #<RDF::Query::Solution:0x3fe499962e8c({:s=>#<RDF::Vocabulary::Term:0x3fe4998c6398 URI:http://example.com/野田まつり>, :o=>#<RDF::Vocabulary::Term:0x3fe4998cb690 URI:http://example.com/野田>})>, #<RDF::Query::Solution:0x3fe499962ce8({:s=>#<RDF::Vocabulary::Term:0x3fe499f702c0 URI:http://example.com/野田中学校>, :o=>#<RDF::Vocabulary::Term:0x3fe4998cb690 URI:http://example.com/野田>})>, #<RDF::Query::Solution:0x3fe499962b58({:s=>#<RDF::Vocabulary::Term:0x3fe499f89cac URI:http://example.com/小中野中学校>, :o=>#<RDF::Vocabulary::Term:0x3fe499f896f8 URI:http://example.com/小中野>})>, #<RDF::Query::Solution:0x3fe499962978({:s=>#<RDF::Vocabulary::Term:0x3fe499f88e24 URI:http://example.com/久慈秋祭り>, :o=>#<RDF::Vocabulary::Term:0x3fe499f88870 URI:http://example.com/久慈>})>, #<RDF::Query::Solution:0x3fe499962734({:s=>#<RDF::Vocabulary::Term:0x3fe499f719e0 URI:http://example.com/野田駅>, :o=>#<RDF::Vocabulary::Term:0x3fe4998cb690 URI:http://example.com/野田>})>, #<RDF::Query::Solution:0x3fe499962568({:s=>#<RDF::Vocabulary::Term:0x3fe499f79708 URI:http://example.com/夏井駅前>, :o=>#<RDF::Vocabulary::Term:0x3fe499f785d8 URI:http://example.com/夏井>})>, #<RDF::Query::Solution:0x3fe499962414({:s=>#<RDF::Vocabulary::Term:0x3fe499f902b4 URI:http://example.com/下安家地区集会所>, :o=>#<RDF::Vocabulary::Term:0x3fe499f94e7c URI:http://example.com/下安家>})>, #<RDF::Query::Solution:0x3fe4999622c0({:s=>#<RDF::Vocabulary::Term:0x3fe499f918a8 URI:http://example.com/野田村生涯学習センター>, :o=>#<RDF::Vocabulary::Term:0x3fe499f90e94 URI:http://example.com/野田村>})>, #<RDF::Query::Solution:0x3fe4999620f4({:s=>#<RDF::Vocabulary::Term:0x3fe499f802ec URI:http://example.com/八戸市shi災害ボランティアセンター>, :o=>#<RDF::Vocabulary::Term:0x3fe499f84144 URI:http://example.com/八戸>})>]"
      ]
     },
     "execution_count": 18,
     "metadata": {},
     "output_type": "execute_result"
    }
   ],
   "source": [
    "query.execute(graph).each do |solution|\n",
    "  puts \"#{solution.s} は #{solution.o} にある\"\n",
    "end"
   ]
  },
  {
   "cell_type": "code",
   "execution_count": null,
   "metadata": {
    "collapsed": true
   },
   "outputs": [],
   "source": []
  },
  {
   "cell_type": "code",
   "execution_count": null,
   "metadata": {
    "collapsed": true
   },
   "outputs": [],
   "source": []
  },
  {
   "cell_type": "code",
   "execution_count": null,
   "metadata": {
    "collapsed": true
   },
   "outputs": [],
   "source": [
    "query = RDF::Query.new({\n",
    "  :s => {\n",
    "    ex.is_held_in => ex.野田中学校\n",
    "  }\n",
    "})"
   ]
  },
  {
   "cell_type": "code",
   "execution_count": null,
   "metadata": {
    "collapsed": true
   },
   "outputs": [],
   "source": []
  }
 ],
 "metadata": {
  "kernelspec": {
   "display_name": "Ruby 2.1.2",
   "language": "ruby",
   "name": "ruby"
  },
  "language_info": {
   "file_extension": ".rb",
   "mimetype": "application/x-ruby",
   "name": "ruby",
   "version": "2.1.2"
  }
 },
 "nbformat": 4,
 "nbformat_minor": 0
}
