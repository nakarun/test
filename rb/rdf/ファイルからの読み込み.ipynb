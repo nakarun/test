{
 "cells": [
  {
   "cell_type": "code",
   "execution_count": null,
   "metadata": {
    "collapsed": true
   },
   "outputs": [],
   "source": []
  },
  {
   "cell_type": "code",
   "execution_count": 1,
   "metadata": {
    "collapsed": false
   },
   "outputs": [
    {
     "data": {
      "text/plain": [
       "true"
      ]
     },
     "execution_count": 1,
     "metadata": {},
     "output_type": "execute_result"
    }
   ],
   "source": [
    "require 'rdf'\n",
    "require 'rdf/rdfxml'\n",
    "require 'rdf/vocab'"
   ]
  },
  {
   "cell_type": "code",
   "execution_count": 6,
   "metadata": {
    "collapsed": true
   },
   "outputs": [
    {
     "name": "stdout",
     "output_type": "stream",
     "text": [
      "\n",
      "\n",
      "ファイルからの読み込み-----------------------------\n",
      "#<RDF::Statement:0x3fe1babba16c(<http://ci.nii.ac.jp/naid/110008682472#article> <http://www.w3.org/1999/02/22-rdf-syntax-ns#type> <http://purl.org/ontology/bibo/Article> .)>\n",
      "#<RDF::Statement:0x3fe1babc3398(<http://ci.nii.ac.jp/naid/110008682472#article> <http://xmlns.com/foaf/0.1/isPrimaryTopicOf> <http://ci.nii.ac.jp/naid/110008682472.rdf> .)>\n",
      "#<RDF::Statement:0x3fe1babc7650(<http://ci.nii.ac.jp/naid/110008682472#article> <http://purl.org/dc/elements/1.1/title> \"非標準フォーマットを含む埋め込み型メタデータの抽出と統合によるメタデータ生成手法\" .)>\n",
      "#<RDF::Statement:0x3fe1babcb584(<http://ci.nii.ac.jp/naid/110008682472#article> <http://purl.org/dc/elements/1.1/creator> \"本間 維\" .)>\n",
      "#<RDF::Statement:0x3fe1babcf9b8(<http://ci.nii.ac.jp/naid/110008682472#article> <http://purl.org/dc/elements/1.1/creator> \"永森 光晴\" .)>\n",
      "#<RDF::Statement:0x3fe1babd3dd8(<http://ci.nii.ac.jp/naid/110008682472#article> <http://purl.org/dc/elements/1.1/creator> \"杉本 重雄\" .)>\n",
      "#<RDF::Statement:0x3fe1bb1cff84(<http://ci.nii.ac.jp/naid/110008682472#article> <http://prismstandard.org/namespaces/basic/2.0/publicationName> \"研究報告情報基礎とアクセス技術（IFAT）\" .)>\n",
      "#<RDF::Statement:0x3fe1b99d7f6c(<http://ci.nii.ac.jp/naid/110008682472#article> <http://prismstandard.org/namespaces/basic/2.0/volume> \"2011\" .)>\n",
      "#<RDF::Statement:0x3fe1b99d61e4(<http://ci.nii.ac.jp/naid/110008682472#article> <http://prismstandard.org/namespaces/basic/2.0/number> \"8\" .)>\n",
      "#<RDF::Statement:0x3fe1b99da438(<http://ci.nii.ac.jp/naid/110008682472#article> <http://prismstandard.org/namespaces/basic/2.0/startingPage> \"1\" .)>\n",
      "#<RDF::Statement:0x3fe1b9604688(<http://ci.nii.ac.jp/naid/110008682472#article> <http://prismstandard.org/namespaces/basic/2.0/endingPage> \"8\" .)>\n",
      "#<RDF::Statement:0x3fe1b96088dc(<http://ci.nii.ac.jp/naid/110008682472#article> <http://prismstandard.org/namespaces/basic/2.0/publicationDate> \"2011-11-15\" .)>\n",
      "#<RDF::Statement:0x3fe1babd6b50(<http://ci.nii.ac.jp/naid/110008682472#article> <http://purl.org/dc/elements/1.1/description> \"\\nWeb 上で公開されている Web ページ中にメタデータを記述するために，RDFa や Microformats，Microdata など複数の標準的な記述フォーマットが提案されている．しかし，標準的な記述フォーマットに従ったメタデータを持つ Web ページの数はまだ少なく，メタデータを利用した情報流通支援を行うには，より積極的なメタデータ付与が求められる．本稿では，DCMI Description Set Profile を基にした情報抽出テンプレートによる，相互利用性向上や作成コスト軽減を意識したメタデータ生成手法を提案する．Standard metadata formats, such as RDFa, Microformats, and Microdata, have been recommended to embed metadata in HTML or XHTML documents. However, many web pages have no metadata written in those formats. The other side, non-standard formats describing information for layout of web pages is used widely. For increasing metadata more proactively, we regard information in non-standard formats as metadata, and integrate with metadata in standard formats. This paper proposes a method to create metadata from resources with embedded metadata in standard and non-standard formats.\\n\" .)>\n",
      "#<RDF::Statement:0x3fe1babe2518(<http://ci.nii.ac.jp/naid/110008682472#article> <http://purl.org/dc/elements/1.1/date> \"2011-11-15\" .)>\n",
      "#<RDF::Statement:0x3fe1babe676c(<http://ci.nii.ac.jp/naid/110008682472#article> <http://ci.nii.ac.jp/ns/1.0/naid> \"110008682472\" .)>\n",
      "#<RDF::Statement:0x3fe1babea9ac(<http://ci.nii.ac.jp/naid/110008682472#article> <http://ci.nii.ac.jp/ns/1.0/ncid> \"AN10114171\" .)>\n",
      "#<RDF::Statement:0x3fe1babeec28(<http://ci.nii.ac.jp/naid/110008682472#article> <http://purl.org/dc/elements/1.1/language> \"JPN\" .)>\n",
      "#<RDF::Statement:0x3fe1babf2ea4(<http://ci.nii.ac.jp/naid/110008682472#article> <http://purl.org/dc/elements/1.1/source> \"IPSJ\" .)>\n",
      "#<RDF::Statement:0x3fe1bb1d30f8(<http://ci.nii.ac.jp/naid/110008682472#article> <http://ci.nii.ac.jp/ns/1.0/fulltext> \"0\" .)>\n",
      "#<RDF::Statement:0x3fe1babf7d50(<http://ci.nii.ac.jp/ncid/AN10114171#entity> <http://purl.org/dc/elements/1.1/title> \"研究報告情報基礎とアクセス技術（IFAT）\" .)>\n",
      "#<RDF::Statement:0x3fe1babf6a54(<http://ci.nii.ac.jp/naid/110008682472#article> <http://purl.org/dc/terms/isPartOf> <http://ci.nii.ac.jp/ncid/AN10114171#entity> .)>\n",
      "#<RDF::Statement:0x3fe1b99eb760(<http://id.nii.ac.jp/1001/00078506/> <http://purl.org/dc/elements/1.1/title> \"情報処理学会\" .)>\n",
      "#<RDF::Statement:0x3fe1b99ea644(<http://ci.nii.ac.jp/naid/110008682472#article> <http://www.w3.org/2000/01/rdf-schema#seeAlso> <http://id.nii.ac.jp/1001/00078506/> .)>\n",
      "#<RDF::Statement:0x3fe1bb1da7a4(<http://ci.nii.ac.jp/naid/110008682472#article> <http://www.w3.org/1999/02/22-rdf-syntax-ns#type> <http://purl.org/ontology/bibo/Article> .)>\n",
      "#<RDF::Statement:0x3fe1bb1dec3c(<http://ci.nii.ac.jp/naid/110008682472#article> <http://purl.org/dc/elements/1.1/title> \"\\nMetadata Creation from Resources with Embedded Metadata - Extraction and Integration of Embedded Metadata in Standard and Non-standard Formats\\n\"@en .)>\n",
      "#<RDF::Statement:0x3fe1b99f281c(<http://ci.nii.ac.jp/naid/110008682472#article> <http://www.w3.org/1999/02/22-rdf-syntax-ns#type> <http://purl.org/ontology/bibo/Article> .)>\n",
      "#<RDF::Statement:0x3fe1bb1e2ecc(<http://ci.nii.ac.jp/nrid/9000017716145#me> <http://www.w3.org/1999/02/22-rdf-syntax-ns#type> <http://xmlns.com/foaf/0.1/Person> .)>\n",
      "#<RDF::Statement:0x3fe1bb1e6d88(<http://ci.nii.ac.jp/nrid/9000017716145#me> <http://xmlns.com/foaf/0.1/name> \"本間 維\" .)>\n",
      "#<RDF::Statement:0x3fe1bb1ebc48(<http://ci.nii.ac.jp/naid/110008682472#article> <http://xmlns.com/foaf/0.1/maker> <http://ci.nii.ac.jp/nrid/9000017716145#me> .)>\n",
      "#<RDF::Statement:0x3fe1bb1ee790(<http://ci.nii.ac.jp/nrid/1000060272209#me> <http://www.w3.org/1999/02/22-rdf-syntax-ns#type> <http://xmlns.com/foaf/0.1/Person> .)>\n",
      "#<RDF::Statement:0x3fe1bb1f2890(<http://ci.nii.ac.jp/nrid/1000060272209#me> <http://xmlns.com/foaf/0.1/name> \"永森 光晴\" .)>\n",
      "#<RDF::Statement:0x3fe1b99fb73c(<http://ci.nii.ac.jp/naid/110008682472#article> <http://xmlns.com/foaf/0.1/maker> <http://ci.nii.ac.jp/nrid/1000060272209#me> .)>\n",
      "#<RDF::Statement:0x3fe1b960c298(<http://ci.nii.ac.jp/nrid/1000040154489#me> <http://www.w3.org/1999/02/22-rdf-syntax-ns#type> <http://xmlns.com/foaf/0.1/Person> .)>\n",
      "#<RDF::Statement:0x3fe1b9610398(<http://ci.nii.ac.jp/nrid/1000040154489#me> <http://xmlns.com/foaf/0.1/name> \"杉本 重雄\" .)>\n",
      "#<RDF::Statement:0x3fe1bbc09234(<http://ci.nii.ac.jp/naid/110008682472#article> <http://xmlns.com/foaf/0.1/maker> <http://ci.nii.ac.jp/nrid/1000040154489#me> .)>\n"
     ]
    },
    {
     "data": {
      "text/html": [
       "<!DOCTYPE html>\n",
       "<html prefix='bibo: http://purl.org/ontology/bibo/ dc11: http://purl.org/dc/elements/1.1/ dc: http://purl.org/dc/terms/ foaf: http://xmlns.com/foaf/0.1/ rdf: http://www.w3.org/1999/02/22-rdf-syntax-ns# rdfs: http://www.w3.org/2000/01/rdf-schema#' xmlns='http://www.w3.org/1999/xhtml'>\n",
       "  <body>\n",
       "    <div resource='http://ci.nii.ac.jp/naid/110008682472#article' typeof='bibo:Article'>\n",
       "      <span class='type'>bibo:Article</span>\n",
       "      <div class='property'>\n",
       "        <span class='label'>\n",
       "          http://ci.nii.ac.jp/ns/1.0/fulltext\n",
       "        </span>\n",
       "        <span property='http://ci.nii.ac.jp/ns/1.0/fulltext'>0</span>\n",
       "      </div>\n",
       "      <div class='property'>\n",
       "        <span class='label'>\n",
       "          http://ci.nii.ac.jp/ns/1.0/naid\n",
       "        </span>\n",
       "        <span property='http://ci.nii.ac.jp/ns/1.0/naid'>110008682472</span>\n",
       "      </div>\n",
       "      <div class='property'>\n",
       "        <span class='label'>\n",
       "          http://ci.nii.ac.jp/ns/1.0/ncid\n",
       "        </span>\n",
       "        <span property='http://ci.nii.ac.jp/ns/1.0/ncid'>AN10114171</span>\n",
       "      </div>\n",
       "      <div class='property'>\n",
       "        <span class='label'>\n",
       "          http://prismstandard.org/namespaces/basic/2.0/endingPage\n",
       "        </span>\n",
       "        <span property='http://prismstandard.org/namespaces/basic/2.0/endingPage'>8</span>\n",
       "      </div>\n",
       "      <div class='property'>\n",
       "        <span class='label'>\n",
       "          http://prismstandard.org/namespaces/basic/2.0/number\n",
       "        </span>\n",
       "        <span property='http://prismstandard.org/namespaces/basic/2.0/number'>8</span>\n",
       "      </div>\n",
       "      <div class='property'>\n",
       "        <span class='label'>\n",
       "          http://prismstandard.org/namespaces/basic/2.0/publicationDate\n",
       "        </span>\n",
       "        <span property='http://prismstandard.org/namespaces/basic/2.0/publicationDate'>2011-11-15</span>\n",
       "      </div>\n",
       "      <div class='property'>\n",
       "        <span class='label'>\n",
       "          http://prismstandard.org/namespaces/basic/2.0/publicationName\n",
       "        </span>\n",
       "        <span property='http://prismstandard.org/namespaces/basic/2.0/publicationName'>研究報告情報基礎とアクセス技術（IFAT）</span>\n",
       "      </div>\n",
       "      <div class='property'>\n",
       "        <span class='label'>\n",
       "          http://prismstandard.org/namespaces/basic/2.0/startingPage\n",
       "        </span>\n",
       "        <span property='http://prismstandard.org/namespaces/basic/2.0/startingPage'>1</span>\n",
       "      </div>\n",
       "      <div class='property'>\n",
       "        <span class='label'>\n",
       "          http://prismstandard.org/namespaces/basic/2.0/volume\n",
       "        </span>\n",
       "        <span property='http://prismstandard.org/namespaces/basic/2.0/volume'>2011</span>\n",
       "      </div>\n",
       "      <div class='property'>\n",
       "        <span class='label'>\n",
       "          dc11:creator\n",
       "        </span>\n",
       "        <ul>\n",
       "          <li property='dc11:creator'>永森 光晴</li>\n",
       "          <li property='dc11:creator'>杉本 重雄</li>\n",
       "          <li property='dc11:creator'>本間 維</li>\n",
       "        </ul>\n",
       "      </div>\n",
       "      <div class='property'>\n",
       "        <span class='label'>\n",
       "          dc11:date\n",
       "        </span>\n",
       "        <span property='dc11:date'>2011-11-15</span>\n",
       "      </div>\n",
       "      <div class='property'>\n",
       "        <span class='label'>\n",
       "          dc11:description\n",
       "        </span>\n",
       "        <span property='dc11:description'>&#xa;Web 上で公開されている Web ページ中にメタデータを記述するために，RDFa や Microformats，Microdata など複数の標準的な記述フォーマットが提案されている．しかし，標準的な記述フォーマットに従ったメタデータを持つ Web ページの数はまだ少なく，メタデータを利用した情報流通支援を行うには，より積極的なメタデータ付与が求められる．本稿では，DCMI Description Set Profile を基にした情報抽出テンプレートによる，相互利用性向上や作成コスト軽減を意識したメタデータ生成手法を提案する．Standard metadata formats, such as RDFa, Microformats, and Microdata, have been recommended to embed metadata in HTML or XHTML documents. However, many web pages have no metadata written in those formats. The other side, non-standard formats describing information for layout of web pages is used widely. For increasing metadata more proactively, we regard information in non-standard formats as metadata, and integrate with metadata in standard formats. This paper proposes a method to create metadata from resources with embedded metadata in standard and non-standard formats.&#xa;</span>\n",
       "      </div>\n",
       "      <div class='property'>\n",
       "        <span class='label'>\n",
       "          dc11:language\n",
       "        </span>\n",
       "        <span property='dc11:language'>JPN</span>\n",
       "      </div>\n",
       "      <div class='property'>\n",
       "        <span class='label'>\n",
       "          dc11:source\n",
       "        </span>\n",
       "        <span property='dc11:source'>IPSJ</span>\n",
       "      </div>\n",
       "      <div class='property'>\n",
       "        <span class='label'>\n",
       "          dc11:title\n",
       "        </span>\n",
       "        <ul>\n",
       "          <li lang='en' property='dc11:title'>&#xa;Metadata Creation from Resources with Embedded Metadata - Extraction and Integration of Embedded Metadata in Standard and Non-standard Formats&#xa;</li>\n",
       "          <li property='dc11:title'>非標準フォーマットを含む埋め込み型メタデータの抽出と統合によるメタデータ生成手法</li>\n",
       "        </ul>\n",
       "      </div>\n",
       "      <div class='property'>\n",
       "        <span class='label'>\n",
       "          dc:isPartOf\n",
       "        </span>\n",
       "        <div rel='dc:isPartOf' resource='http://ci.nii.ac.jp/ncid/AN10114171#entity'>\n",
       "          <div class='property'>\n",
       "            <span class='label'>\n",
       "              dc11:title\n",
       "            </span>\n",
       "            <span property='dc11:title'>研究報告情報基礎とアクセス技術（IFAT）</span>\n",
       "          </div>\n",
       "        </div>\n",
       "      </div>\n",
       "      <div class='property'>\n",
       "        <span class='label'>\n",
       "          rdfs:seeAlso\n",
       "        </span>\n",
       "        <div rel='rdfs:seeAlso' resource='http://id.nii.ac.jp/1001/00078506/'>\n",
       "          <div class='property'>\n",
       "            <span class='label'>\n",
       "              dc11:title\n",
       "            </span>\n",
       "            <span property='dc11:title'>情報処理学会</span>\n",
       "          </div>\n",
       "        </div>\n",
       "      </div>\n",
       "      <div class='property'>\n",
       "        <span class='label'>\n",
       "          foaf:isPrimaryTopicOf\n",
       "        </span>\n",
       "        <a href='http://ci.nii.ac.jp/naid/110008682472.rdf' property='foaf:isPrimaryTopicOf'>http://ci.nii.ac.jp/naid/110008682472.rdf</a>\n",
       "      </div>\n",
       "      <div class='property'>\n",
       "        <span class='label'>\n",
       "          foaf:maker\n",
       "        </span>\n",
       "        <ul>\n",
       "          <li rel='foaf:maker' resource='http://ci.nii.ac.jp/nrid/1000040154489#me' typeof='foaf:Person'>\n",
       "            <span class='type'>foaf:Person</span>\n",
       "            <div class='property'>\n",
       "              <span class='label'>\n",
       "                foaf:name\n",
       "              </span>\n",
       "              <span property='foaf:name'>杉本 重雄</span>\n",
       "            </div>\n",
       "          </li>\n",
       "          <li rel='foaf:maker' resource='http://ci.nii.ac.jp/nrid/1000060272209#me' typeof='foaf:Person'>\n",
       "            <span class='type'>foaf:Person</span>\n",
       "            <div class='property'>\n",
       "              <span class='label'>\n",
       "                foaf:name\n",
       "              </span>\n",
       "              <span property='foaf:name'>永森 光晴</span>\n",
       "            </div>\n",
       "          </li>\n",
       "          <li rel='foaf:maker' resource='http://ci.nii.ac.jp/nrid/9000017716145#me' typeof='foaf:Person'>\n",
       "            <span class='type'>foaf:Person</span>\n",
       "            <div class='property'>\n",
       "              <span class='label'>\n",
       "                foaf:name\n",
       "              </span>\n",
       "              <span property='foaf:name'>本間 維</span>\n",
       "            </div>\n",
       "          </li>\n",
       "        </ul>\n",
       "      </div>\n",
       "    </div>\n",
       "\n",
       "  </body>\n",
       "</html>\n"
      ],
      "text/plain": [
       "#<RDF::RDFXML::Reader:0x007fc3763974e8 @options={:encoding=>#<Encoding:UTF-8>, :filename=>\"ci.rdf\", :validate=>false, :canonicalize=>false, :intern=>true, :prefixes=>{:rdf=>#<RDF::URI:0x3fe1bb1fab44 URI:http://www.w3.org/1999/02/22-rdf-syntax-ns#>, :rdfs=>#<RDF::URI:0x3fe1bb1ffedc URI:http://www.w3.org/2000/01/rdf-schema#>, :dc=>#<RDF::URI:0x3fe1bb1ff2ac URI:http://purl.org/dc/elements/1.1/>, :dcterms=>#<RDF::URI:0x3fe1bb1fe6cc URI:http://purl.org/dc/terms/>, :foaf=>#<RDF::URI:0x3fe1bbc0dab4 URI:http://xmlns.com/foaf/0.1/>, :prism=>#<RDF::URI:0x3fe1bbc0ce84 URI:http://prismstandard.org/namespaces/basic/2.0/>, :con=>#<RDF::URI:0x3fe1bbc0c1dc URI:http://www.w3.org/2000/10/swap/pim/contact#>, :cinii=>#<RDF::URI:0x3fe1bbc115d8 URI:http://ci.nii.ac.jp/ns/1.0/>, :bibo=>#<RDF::URI:0x3fe1bbc109f8 URI:http://purl.org/ontology/bibo/>}, :base_uri=>\"ci.rdf\", :logger=>#<IRuby::OStream:0x007fc371994ff8 @session=#<IRuby::Session:0x007fc371995bd8 @sockets={:publish=>#<ZMQ::Socket::Pub:0x007fc3719958b8>, :reply=>#<ZMQ::Socket::Router:0x007fc371995a48>, :stdin=>#<ZMQ::Socket::Router:0x007fc371995750>}, @session=\"e1b2616a-9f31-4d42-ad2c-5d4446ce36b9\", @hmac=de626114a256136e1c9664b5f8ccc5ea8df7ca900ed005d0ab884bf29553ad7c, @last_recvd_msg={:idents=>[\"ABE8A695E7274EA1B74827B34FC716CE\"], :header=>{\"version\"=>\"5.0\", \"session\"=>\"ABE8A695E7274EA1B74827B34FC716CE\", \"username\"=>\"username\", \"msg_type\"=>\"execute_request\", \"msg_id\"=>\"1394C4BE567F4B0682D27A6E538B17AC\"}, :parent_header=>{}, :metadata=>{}, :content=>{\"store_history\"=>true, \"allow_stdin\"=>true, \"silent\"=>false, \"user_expressions\"=>{}, \"code\"=>\"print \\\"\\\\n\\\\n\\\"\\nputs \\\"ファイルからの読み込み-----------------------------\\\"\\nfile = \\\"ci.rdf\\\"\\nRDF::Reader.open(file) do |reader|\\n  reader.each_statement do |statement|\\n    puts statement.inspect\\n  end\\nend\", \"stop_on_error\"=>true}, :buffers=>nil}>, @name=:stderr, @logger_statistics={:debug=>373}, @log_depth=0, @recovering=true>}, @input=#<RDF::Util::File::RemoteDocument:0x007fc3733a4150 @base_uri=\"ci.rdf\", @charset=\"utf-8\", @code=200, @content_type=\"application/rdf+xml\", @last_modified=#<DateTime: 2016-11-01T12:16:32+09:00 ((2457694j,11792s,0n),+32400s,2299161j)>, @headers={:content_type=>\"application/rdf+xml\", :last_modified=>\"2016-11-01T12:16:32+09:00\"}, @etag=nil>, @library=:nokogiri, @implementation=RDF::RDFXML::Reader::Nokogiri, @doc=#<Nokogiri::XML::Document:0x3fe1bb1cb880 name=\"document\" children=[#<Nokogiri::XML::Element:0x3fe1bb1cb830 name=\"RDF\" namespace=#<Nokogiri::XML::Namespace:0x3fe1bb1caea8 prefix=\"rdf\" href=\"http://www.w3.org/1999/02/22-rdf-syntax-ns#\"> children=[#<Nokogiri::XML::Text:0x3fe1babb7d90 \"\\n\">, #<Nokogiri::XML::Element:0x3fe1babb7d54 name=\"Description\" namespace=#<Nokogiri::XML::Namespace:0x3fe1bb1caea8 prefix=\"rdf\" href=\"http://www.w3.org/1999/02/22-rdf-syntax-ns#\"> attributes=[#<Nokogiri::XML::Attr:0x3fe1babb7b74 name=\"about\" namespace=#<Nokogiri::XML::Namespace:0x3fe1bb1caea8 prefix=\"rdf\" href=\"http://www.w3.org/1999/02/22-rdf-syntax-ns#\"> value=\"http://ci.nii.ac.jp/naid/110008682472#article\">] children=[#<Nokogiri::XML::Text:0x3fe1babbbea4 \"\\n\">, #<Nokogiri::XML::Element:0x3fe1babbbe68 name=\"type\" namespace=#<Nokogiri::XML::Namespace:0x3fe1bb1caea8 prefix=\"rdf\" href=\"http://www.w3.org/1999/02/22-rdf-syntax-ns#\"> attributes=[#<Nokogiri::XML::Attr:0x3fe1babbb51c name=\"resource\" namespace=#<Nokogiri::XML::Namespace:0x3fe1bb1caea8 prefix=\"rdf\" href=\"http://www.w3.org/1999/02/22-rdf-syntax-ns#\"> value=\"http://purl.org/ontology/bibo/Article\">]>, #<Nokogiri::XML::Text:0x3fe1babbf144 \"\\n\">, #<Nokogiri::XML::Element:0x3fe1babbf108 name=\"isPrimaryTopicOf\" namespace=#<Nokogiri::XML::Namespace:0x3fe1bb1cae58 prefix=\"foaf\" href=\"http://xmlns.com/foaf/0.1/\"> attributes=[#<Nokogiri::XML::Attr:0x3fe1babbe7e4 name=\"resource\" namespace=#<Nokogiri::XML::Namespace:0x3fe1bb1caea8 prefix=\"rdf\" href=\"http://www.w3.org/1999/02/22-rdf-syntax-ns#\"> value=\"http://ci.nii.ac.jp/naid/110008682472.rdf\">]>, #<Nokogiri::XML::Text:0x3fe1babc2394 \"\\n\">, #<Nokogiri::XML::Element:0x3fe1babc2358 name=\"title\" namespace=#<Nokogiri::XML::Namespace:0x3fe1bb1cae80 prefix=\"dc\" href=\"http://purl.org/dc/elements/1.1/\"> children=[#<Nokogiri::XML::Text:0x3fe1babc7c2c \"非標準フォーマットを含む埋め込み型メタデータの抽出と統合によるメタデータ生成手法\">]>, #<Nokogiri::XML::Text:0x3fe1babc62c8 \"\\n\">, #<Nokogiri::XML::Element:0x3fe1babc628c name=\"creator\" namespace=#<Nokogiri::XML::Namespace:0x3fe1bb1cae80 prefix=\"dc\" href=\"http://purl.org/dc/elements/1.1/\"> children=[#<Nokogiri::XML::Text:0x3fe1babcbb60 \"本間 維\">]>, #<Nokogiri::XML::Text:0x3fe1babca4b8 \"\\n\">, #<Nokogiri::XML::Element:0x3fe1babca47c name=\"creator\" namespace=#<Nokogiri::XML::Namespace:0x3fe1bb1cae80 prefix=\"dc\" href=\"http://purl.org/dc/elements/1.1/\"> children=[#<Nokogiri::XML::Text:0x3fe1babcff94 \"永森 光晴\">]>, #<Nokogiri::XML::Text:0x3fe1babce8d8 \"\\n\">, #<Nokogiri::XML::Element:0x3fe1babce89c name=\"creator\" namespace=#<Nokogiri::XML::Namespace:0x3fe1bb1cae80 prefix=\"dc\" href=\"http://purl.org/dc/elements/1.1/\"> children=[#<Nokogiri::XML::Text:0x3fe1babce3d8 \"杉本 重雄\">]>, #<Nokogiri::XML::Text:0x3fe1babd2cf8 \"\\n\">, #<Nokogiri::XML::Element:0x3fe1babd2cbc name=\"publicationName\" namespace=#<Nokogiri::XML::Namespace:0x3fe1bb1cae44 prefix=\"prism\" href=\"http://prismstandard.org/namespaces/basic/2.0/\"> children=[#<Nokogiri::XML::Text:0x3fe1babd258c \"研究報告情報基礎とアクセス技術（IFAT）\">]>, #<Nokogiri::XML::Text:0x3fe1bb1cecd8 \"\\n\">, #<Nokogiri::XML::Element:0x3fe1bb1cec9c name=\"volume\" namespace=#<Nokogiri::XML::Namespace:0x3fe1bb1cae44 prefix=\"prism\" href=\"http://prismstandard.org/namespaces/basic/2.0/\"> children=[#<Nokogiri::XML::Text:0x3fe1bb1ce56c \"2011\">]>, #<Nokogiri::XML::Text:0x3fe1b99d6f2c \"\\n\">, #<Nokogiri::XML::Element:0x3fe1b99d6ef0 name=\"number\" namespace=#<Nokogiri::XML::Namespace:0x3fe1bb1cae44 prefix=\"prism\" href=\"http://prismstandard.org/namespaces/basic/2.0/\"> children=[#<Nokogiri::XML::Text:0x3fe1b99d67c0 \"8\">]>, #<Nokogiri::XML::Text:0x3fe1b99db180 \"\\n\">, #<Nokogiri::XML::Element:0x3fe1b99db144 name=\"startingPage\" namespace=#<Nokogiri::XML::Namespace:0x3fe1bb1cae44 prefix=\"prism\" href=\"http://prismstandard.org/namespaces/basic/2.0/\"> children=[#<Nokogiri::XML::Text:0x3fe1b99daa14 \"1\">]>, #<Nokogiri::XML::Text:0x3fe1b96053d0 \"\\n\">, #<Nokogiri::XML::Element:0x3fe1b9605394 name=\"endingPage\" namespace=#<Nokogiri::XML::Namespace:0x3fe1bb1cae44 prefix=\"prism\" href=\"http://prismstandard.org/namespaces/basic/2.0/\"> children=[#<Nokogiri::XML::Text:0x3fe1b9604c64 \"8\">]>, #<Nokogiri::XML::Text:0x3fe1b9609624 \"\\n\">, #<Nokogiri::XML::Element:0x3fe1b96095e8 name=\"publicationDate\" namespace=#<Nokogiri::XML::Namespace:0x3fe1bb1cae44 prefix=\"prism\" href=\"http://prismstandard.org/namespaces/basic/2.0/\"> children=[#<Nokogiri::XML::Text:0x3fe1b9608eb8 \"2011-11-15\">]>, #<Nokogiri::XML::Text:0x3fe1babd7870 \"\\n\">, #<Nokogiri::XML::Element:0x3fe1babd7834 name=\"description\" namespace=#<Nokogiri::XML::Namespace:0x3fe1bb1cae80 prefix=\"dc\" href=\"http://purl.org/dc/elements/1.1/\"> children=[#<Nokogiri::XML::Text:0x3fe1babd712c \"\\nWeb 上で公開されている Web ページ中にメタデータを記述するために，RDFa や Microformats，Microdata など複数の標準的な記述フォーマットが提案されている．しかし，標準的な記述フォーマットに従ったメタデータを持つ Web ページの数はまだ少なく，メタデータを利用した情報流通支援を行うには，より積極的なメタデータ付与が求められる．本稿では，DCMI Description Set Profile を基にした情報抽出テンプレートによる，相互利用性向上や作成コスト軽減を意識したメタデータ生成手法を提案する．Standard metadata formats, such as RDFa, Microformats, and Microdata, have been recommended to embed metadata in HTML or XHTML documents. However, many web pages have no metadata written in those formats. The other side, non-standard formats describing information for layout of web pages is used widely. For increasing metadata more proactively, we regard information in non-standard formats as metadata, and integrate with metadata in standard formats. This paper proposes a method to create metadata from resources with embedded metadata in standard and non-standard formats.\\n\">]>, #<Nokogiri::XML::Text:0x3fe1babe3238 \"\\n\">, #<Nokogiri::XML::Element:0x3fe1babe31fc name=\"date\" namespace=#<Nokogiri::XML::Namespace:0x3fe1bb1cae80 prefix=\"dc\" href=\"http://purl.org/dc/elements/1.1/\"> children=[#<Nokogiri::XML::Text:0x3fe1babe2af4 \"2011-11-15\">]>, #<Nokogiri::XML::Text:0x3fe1babe74b4 \"\\n\">, #<Nokogiri::XML::Element:0x3fe1babe7478 name=\"naid\" namespace=#<Nokogiri::XML::Namespace:0x3fe1bb1cae1c prefix=\"cinii\" href=\"http://ci.nii.ac.jp/ns/1.0/\"> children=[#<Nokogiri::XML::Text:0x3fe1babe6d48 \"110008682472\">]>, #<Nokogiri::XML::Text:0x3fe1babeb6f4 \"\\n\">, #<Nokogiri::XML::Element:0x3fe1babeb6b8 name=\"ncid\" namespace=#<Nokogiri::XML::Namespace:0x3fe1bb1cae1c prefix=\"cinii\" href=\"http://ci.nii.ac.jp/ns/1.0/\"> children=[#<Nokogiri::XML::Text:0x3fe1babeaf88 \"AN10114171\">]>, #<Nokogiri::XML::Text:0x3fe1babef948 \"\\n\">, #<Nokogiri::XML::Element:0x3fe1babef90c name=\"language\" namespace=#<Nokogiri::XML::Namespace:0x3fe1bb1cae80 prefix=\"dc\" href=\"http://purl.org/dc/elements/1.1/\"> children=[#<Nokogiri::XML::Text:0x3fe1babef204 \"JPN\">]>, #<Nokogiri::XML::Text:0x3fe1babf3bc4 \"\\n\">, #<Nokogiri::XML::Element:0x3fe1babf3b88 name=\"source\" namespace=#<Nokogiri::XML::Namespace:0x3fe1bb1cae80 prefix=\"dc\" href=\"http://purl.org/dc/elements/1.1/\"> children=[#<Nokogiri::XML::Text:0x3fe1babf3480 \"IPSJ\">]>, #<Nokogiri::XML::Text:0x3fe1bb1d3e40 \"\\n\">, #<Nokogiri::XML::Element:0x3fe1bb1d3e04 name=\"fulltext\" namespace=#<Nokogiri::XML::Namespace:0x3fe1bb1cae1c prefix=\"cinii\" href=\"http://ci.nii.ac.jp/ns/1.0/\"> children=[#<Nokogiri::XML::Text:0x3fe1bb1d36d4 \"0\">]>, #<Nokogiri::XML::Text:0x3fe1bb1d20b8 \"\\n\">, #<Nokogiri::XML::Element:0x3fe1bb1d207c name=\"isPartOf\" namespace=#<Nokogiri::XML::Namespace:0x3fe1bb1cae6c prefix=\"dcterms\" href=\"http://purl.org/dc/terms/\"> attributes=[#<Nokogiri::XML::Attr:0x3fe1bb1d7734 name=\"resource\" namespace=#<Nokogiri::XML::Namespace:0x3fe1bb1caea8 prefix=\"rdf\" href=\"http://www.w3.org/1999/02/22-rdf-syntax-ns#\"> value=\"http://ci.nii.ac.jp/ncid/AN10114171#entity\">, #<Nokogiri::XML::Attr:0x3fe1bb1d7720 name=\"title\" namespace=#<Nokogiri::XML::Namespace:0x3fe1bb1cae80 prefix=\"dc\" href=\"http://purl.org/dc/elements/1.1/\"> value=\"研究報告情報基礎とアクセス技術（IFAT）\">]>, #<Nokogiri::XML::Text:0x3fe1bbc01a70 \"\\n\">, #<Nokogiri::XML::Element:0x3fe1bbc01a34 name=\"seeAlso\" namespace=#<Nokogiri::XML::Namespace:0x3fe1bb1cae94 prefix=\"rdfs\" href=\"http://www.w3.org/2000/01/rdf-schema#\"> attributes=[#<Nokogiri::XML::Attr:0x3fe1bbc010e8 name=\"resource\" namespace=#<Nokogiri::XML::Namespace:0x3fe1bb1caea8 prefix=\"rdf\" href=\"http://www.w3.org/1999/02/22-rdf-syntax-ns#\"> value=\"http://id.nii.ac.jp/1001/00078506/\">, #<Nokogiri::XML::Attr:0x3fe1bbc010d4 name=\"title\" namespace=#<Nokogiri::XML::Namespace:0x3fe1bb1cae80 prefix=\"dc\" href=\"http://purl.org/dc/elements/1.1/\"> value=\"情報処理学会\">]>, #<Nokogiri::XML::Text:0x3fe1b99ef658 \"\\n\">]>, #<Nokogiri::XML::Text:0x3fe1b99ef61c \"\\n\">, #<Nokogiri::XML::Element:0x3fe1b99ef5e0 name=\"Description\" namespace=#<Nokogiri::XML::Namespace:0x3fe1bb1caea8 prefix=\"rdf\" href=\"http://www.w3.org/1999/02/22-rdf-syntax-ns#\"> attributes=[#<Nokogiri::XML::Attr:0x3fe1b99ef3d8 name=\"about\" namespace=#<Nokogiri::XML::Namespace:0x3fe1bb1caea8 prefix=\"rdf\" href=\"http://www.w3.org/1999/02/22-rdf-syntax-ns#\"> value=\"http://ci.nii.ac.jp/naid/110008682472#article\">, #<Nokogiri::XML::Attr:0x3fe1b99ef4a0 name=\"lang\" namespace=#<Nokogiri::XML::Namespace:0x3fe1b99ef324 prefix=\"xml\" href=\"http://www.w3.org/XML/1998/namespace\"> value=\"en\">] children=[#<Nokogiri::XML::Text:0x3fe1bb1dba14 \"\\n\">, #<Nokogiri::XML::Element:0x3fe1bb1db9d8 name=\"type\" namespace=#<Nokogiri::XML::Namespace:0x3fe1bb1caea8 prefix=\"rdf\" href=\"http://www.w3.org/1999/02/22-rdf-syntax-ns#\"> attributes=[#<Nokogiri::XML::Attr:0x3fe1bb1db2f8 name=\"resource\" namespace=#<Nokogiri::XML::Namespace:0x3fe1bb1caea8 prefix=\"rdf\" href=\"http://www.w3.org/1999/02/22-rdf-syntax-ns#\"> value=\"http://purl.org/ontology/bibo/Article\">]>, #<Nokogiri::XML::Text:0x3fe1bb1df7b8 \"\\n\">, #<Nokogiri::XML::Element:0x3fe1bb1df77c name=\"title\" namespace=#<Nokogiri::XML::Namespace:0x3fe1bb1cae80 prefix=\"dc\" href=\"http://purl.org/dc/elements/1.1/\"> children=[#<Nokogiri::XML::Text:0x3fe1bb1df2b8 \"\\nMetadata Creation from Resources with Embedded Metadata - Extraction and Integration of Embedded Metadata in Standard and Non-standard Formats\\n\">]>, #<Nokogiri::XML::Text:0x3fe1bbc0501c \"\\n\">]>, #<Nokogiri::XML::Text:0x3fe1bbc04fe0 \"\\n\">, #<Nokogiri::XML::Element:0x3fe1bbc04fa4 name=\"Description\" namespace=#<Nokogiri::XML::Namespace:0x3fe1bb1caea8 prefix=\"rdf\" href=\"http://www.w3.org/1999/02/22-rdf-syntax-ns#\"> attributes=[#<Nokogiri::XML::Attr:0x3fe1bbc04dc4 name=\"about\" namespace=#<Nokogiri::XML::Namespace:0x3fe1bb1caea8 prefix=\"rdf\" href=\"http://www.w3.org/1999/02/22-rdf-syntax-ns#\"> value=\"http://ci.nii.ac.jp/naid/110008682472#article\">] children=[#<Nokogiri::XML::Text:0x3fe1b99f3a8c \"\\n\">, #<Nokogiri::XML::Element:0x3fe1b99f3a50 name=\"type\" namespace=#<Nokogiri::XML::Namespace:0x3fe1bb1caea8 prefix=\"rdf\" href=\"http://www.w3.org/1999/02/22-rdf-syntax-ns#\"> attributes=[#<Nokogiri::XML::Attr:0x3fe1b99f3370 name=\"resource\" namespace=#<Nokogiri::XML::Namespace:0x3fe1bb1caea8 prefix=\"rdf\" href=\"http://www.w3.org/1999/02/22-rdf-syntax-ns#\"> value=\"http://purl.org/ontology/bibo/Article\">]>, #<Nokogiri::XML::Text:0x3fe1b99f7830 \"\\n\">, #<Nokogiri::XML::Element:0x3fe1b99f77f4 name=\"maker\" namespace=#<Nokogiri::XML::Namespace:0x3fe1bb1cae58 prefix=\"foaf\" href=\"http://xmlns.com/foaf/0.1/\"> children=[#<Nokogiri::XML::Text:0x3fe1b99f70ec \"\\n\">, #<Nokogiri::XML::Element:0x3fe1b99f70d8 name=\"Person\" namespace=#<Nokogiri::XML::Namespace:0x3fe1bb1cae58 prefix=\"foaf\" href=\"http://xmlns.com/foaf/0.1/\"> attributes=[#<Nokogiri::XML::Attr:0x3fe1b99f69f8 name=\"about\" namespace=#<Nokogiri::XML::Namespace:0x3fe1bb1caea8 prefix=\"rdf\" href=\"http://www.w3.org/1999/02/22-rdf-syntax-ns#\"> value=\"http://ci.nii.ac.jp/nrid/9000017716145#me\">] children=[#<Nokogiri::XML::Text:0x3fe1bb1e7ad0 \"\\n\">, #<Nokogiri::XML::Element:0x3fe1bb1e7a94 name=\"name\" namespace=#<Nokogiri::XML::Namespace:0x3fe1bb1cae58 prefix=\"foaf\" href=\"http://xmlns.com/foaf/0.1/\"> children=[#<Nokogiri::XML::Text:0x3fe1bb1e7364 \"本間 維\">]>, #<Nokogiri::XML::Text:0x3fe1bb1ebc98 \"\\n\">]>, #<Nokogiri::XML::Text:0x3fe1b99f70c4 \"\\n\">]>, #<Nokogiri::XML::Text:0x3fe1bb1eac80 \"\\n\">, #<Nokogiri::XML::Element:0x3fe1bb1eac44 name=\"maker\" namespace=#<Nokogiri::XML::Namespace:0x3fe1bb1cae58 prefix=\"foaf\" href=\"http://xmlns.com/foaf/0.1/\"> children=[#<Nokogiri::XML::Text:0x3fe1bb1ea780 \"\\n\">, #<Nokogiri::XML::Element:0x3fe1bb1ea76c name=\"Person\" namespace=#<Nokogiri::XML::Namespace:0x3fe1bb1cae58 prefix=\"foaf\" href=\"http://xmlns.com/foaf/0.1/\"> attributes=[#<Nokogiri::XML::Attr:0x3fe1bb1ea08c name=\"about\" namespace=#<Nokogiri::XML::Namespace:0x3fe1bb1caea8 prefix=\"rdf\" href=\"http://www.w3.org/1999/02/22-rdf-syntax-ns#\"> value=\"http://ci.nii.ac.jp/nrid/1000060272209#me\">] children=[#<Nokogiri::XML::Text:0x3fe1bb1f3394 \"\\n\">, #<Nokogiri::XML::Element:0x3fe1bb1f3358 name=\"name\" namespace=#<Nokogiri::XML::Namespace:0x3fe1bb1cae58 prefix=\"foaf\" href=\"http://xmlns.com/foaf/0.1/\"> children=[#<Nokogiri::XML::Text:0x3fe1bb1f2e6c \"永森 光晴\">]>, #<Nokogiri::XML::Text:0x3fe1b99fb78c \"\\n\">]>, #<Nokogiri::XML::Text:0x3fe1bb1ea758 \"\\n\">]>, #<Nokogiri::XML::Text:0x3fe1b99fa774 \"\\n\">, #<Nokogiri::XML::Element:0x3fe1b99fa738 name=\"maker\" namespace=#<Nokogiri::XML::Namespace:0x3fe1bb1cae58 prefix=\"foaf\" href=\"http://xmlns.com/foaf/0.1/\"> children=[#<Nokogiri::XML::Text:0x3fe1b99fa274 \"\\n\">, #<Nokogiri::XML::Element:0x3fe1b99fa260 name=\"Person\" namespace=#<Nokogiri::XML::Namespace:0x3fe1bb1cae58 prefix=\"foaf\" href=\"http://xmlns.com/foaf/0.1/\"> attributes=[#<Nokogiri::XML::Attr:0x3fe1b960db5c name=\"about\" namespace=#<Nokogiri::XML::Namespace:0x3fe1bb1caea8 prefix=\"rdf\" href=\"http://www.w3.org/1999/02/22-rdf-syntax-ns#\"> value=\"http://ci.nii.ac.jp/nrid/1000040154489#me\">] children=[#<Nokogiri::XML::Text:0x3fe1b9610e9c \"\\n\">, #<Nokogiri::XML::Element:0x3fe1b9610e60 name=\"name\" namespace=#<Nokogiri::XML::Namespace:0x3fe1bb1cae58 prefix=\"foaf\" href=\"http://xmlns.com/foaf/0.1/\"> children=[#<Nokogiri::XML::Text:0x3fe1b9610974 \"杉本 重雄\">]>, #<Nokogiri::XML::Text:0x3fe1bbc09284 \"\\n\">]>, #<Nokogiri::XML::Text:0x3fe1b99fa24c \"\\n\">]>, #<Nokogiri::XML::Text:0x3fe1bbc0826c \"\\n\">]>, #<Nokogiri::XML::Text:0x3fe1bbc08230 \"\\n\">]>]>, @root=#<RDF::RDFXML::Reader::Nokogiri::NodeProxy:0x007fc376397038 @node=#<Nokogiri::XML::Element:0x3fe1bb1cb830 name=\"RDF\" namespace=#<Nokogiri::XML::Namespace:0x3fe1bb1caea8 prefix=\"rdf\" href=\"http://www.w3.org/1999/02/22-rdf-syntax-ns#\"> children=[#<Nokogiri::XML::Text:0x3fe1babb7d90 \"\\n\">, #<Nokogiri::XML::Element:0x3fe1babb7d54 name=\"Description\" namespace=#<Nokogiri::XML::Namespace:0x3fe1bb1caea8 prefix=\"rdf\" href=\"http://www.w3.org/1999/02/22-rdf-syntax-ns#\"> attributes=[#<Nokogiri::XML::Attr:0x3fe1babb7b74 name=\"about\" namespace=#<Nokogiri::XML::Namespace:0x3fe1bb1caea8 prefix=\"rdf\" href=\"http://www.w3.org/1999/02/22-rdf-syntax-ns#\"> value=\"http://ci.nii.ac.jp/naid/110008682472#article\">] children=[#<Nokogiri::XML::Text:0x3fe1babbbea4 \"\\n\">, #<Nokogiri::XML::Element:0x3fe1babbbe68 name=\"type\" namespace=#<Nokogiri::XML::Namespace:0x3fe1bb1caea8 prefix=\"rdf\" href=\"http://www.w3.org/1999/02/22-rdf-syntax-ns#\"> attributes=[#<Nokogiri::XML::Attr:0x3fe1babbb51c name=\"resource\" namespace=#<Nokogiri::XML::Namespace:0x3fe1bb1caea8 prefix=\"rdf\" href=\"http://www.w3.org/1999/02/22-rdf-syntax-ns#\"> value=\"http://purl.org/ontology/bibo/Article\">]>, #<Nokogiri::XML::Text:0x3fe1babbf144 \"\\n\">, #<Nokogiri::XML::Element:0x3fe1babbf108 name=\"isPrimaryTopicOf\" namespace=#<Nokogiri::XML::Namespace:0x3fe1bb1cae58 prefix=\"foaf\" href=\"http://xmlns.com/foaf/0.1/\"> attributes=[#<Nokogiri::XML::Attr:0x3fe1babbe7e4 name=\"resource\" namespace=#<Nokogiri::XML::Namespace:0x3fe1bb1caea8 prefix=\"rdf\" href=\"http://www.w3.org/1999/02/22-rdf-syntax-ns#\"> value=\"http://ci.nii.ac.jp/naid/110008682472.rdf\">]>, #<Nokogiri::XML::Text:0x3fe1babc2394 \"\\n\">, #<Nokogiri::XML::Element:0x3fe1babc2358 name=\"title\" namespace=#<Nokogiri::XML::Namespace:0x3fe1bb1cae80 prefix=\"dc\" href=\"http://purl.org/dc/elements/1.1/\"> children=[#<Nokogiri::XML::Text:0x3fe1babc7c2c \"非標準フォーマットを含む埋め込み型メタデータの抽出と統合によるメタデータ生成手法\">]>, #<Nokogiri::XML::Text:0x3fe1babc62c8 \"\\n\">, #<Nokogiri::XML::Element:0x3fe1babc628c name=\"creator\" namespace=#<Nokogiri::XML::Namespace:0x3fe1bb1cae80 prefix=\"dc\" href=\"http://purl.org/dc/elements/1.1/\"> children=[#<Nokogiri::XML::Text:0x3fe1babcbb60 \"本間 維\">]>, #<Nokogiri::XML::Text:0x3fe1babca4b8 \"\\n\">, #<Nokogiri::XML::Element:0x3fe1babca47c name=\"creator\" namespace=#<Nokogiri::XML::Namespace:0x3fe1bb1cae80 prefix=\"dc\" href=\"http://purl.org/dc/elements/1.1/\"> children=[#<Nokogiri::XML::Text:0x3fe1babcff94 \"永森 光晴\">]>, #<Nokogiri::XML::Text:0x3fe1babce8d8 \"\\n\">, #<Nokogiri::XML::Element:0x3fe1babce89c name=\"creator\" namespace=#<Nokogiri::XML::Namespace:0x3fe1bb1cae80 prefix=\"dc\" href=\"http://purl.org/dc/elements/1.1/\"> children=[#<Nokogiri::XML::Text:0x3fe1babce3d8 \"杉本 重雄\">]>, #<Nokogiri::XML::Text:0x3fe1babd2cf8 \"\\n\">, #<Nokogiri::XML::Element:0x3fe1babd2cbc name=\"publicationName\" namespace=#<Nokogiri::XML::Namespace:0x3fe1bb1cae44 prefix=\"prism\" href=\"http://prismstandard.org/namespaces/basic/2.0/\"> children=[#<Nokogiri::XML::Text:0x3fe1babd258c \"研究報告情報基礎とアクセス技術（IFAT）\">]>, #<Nokogiri::XML::Text:0x3fe1bb1cecd8 \"\\n\">, #<Nokogiri::XML::Element:0x3fe1bb1cec9c name=\"volume\" namespace=#<Nokogiri::XML::Namespace:0x3fe1bb1cae44 prefix=\"prism\" href=\"http://prismstandard.org/namespaces/basic/2.0/\"> children=[#<Nokogiri::XML::Text:0x3fe1bb1ce56c \"2011\">]>, #<Nokogiri::XML::Text:0x3fe1b99d6f2c \"\\n\">, #<Nokogiri::XML::Element:0x3fe1b99d6ef0 name=\"number\" namespace=#<Nokogiri::XML::Namespace:0x3fe1bb1cae44 prefix=\"prism\" href=\"http://prismstandard.org/namespaces/basic/2.0/\"> children=[#<Nokogiri::XML::Text:0x3fe1b99d67c0 \"8\">]>, #<Nokogiri::XML::Text:0x3fe1b99db180 \"\\n\">, #<Nokogiri::XML::Element:0x3fe1b99db144 name=\"startingPage\" namespace=#<Nokogiri::XML::Namespace:0x3fe1bb1cae44 prefix=\"prism\" href=\"http://prismstandard.org/namespaces/basic/2.0/\"> children=[#<Nokogiri::XML::Text:0x3fe1b99daa14 \"1\">]>, #<Nokogiri::XML::Text:0x3fe1b96053d0 \"\\n\">, #<Nokogiri::XML::Element:0x3fe1b9605394 name=\"endingPage\" namespace=#<Nokogiri::XML::Namespace:0x3fe1bb1cae44 prefix=\"prism\" href=\"http://prismstandard.org/namespaces/basic/2.0/\"> children=[#<Nokogiri::XML::Text:0x3fe1b9604c64 \"8\">]>, #<Nokogiri::XML::Text:0x3fe1b9609624 \"\\n\">, #<Nokogiri::XML::Element:0x3fe1b96095e8 name=\"publicationDate\" namespace=#<Nokogiri::XML::Namespace:0x3fe1bb1cae44 prefix=\"prism\" href=\"http://prismstandard.org/namespaces/basic/2.0/\"> children=[#<Nokogiri::XML::Text:0x3fe1b9608eb8 \"2011-11-15\">]>, #<Nokogiri::XML::Text:0x3fe1babd7870 \"\\n\">, #<Nokogiri::XML::Element:0x3fe1babd7834 name=\"description\" namespace=#<Nokogiri::XML::Namespace:0x3fe1bb1cae80 prefix=\"dc\" href=\"http://purl.org/dc/elements/1.1/\"> children=[#<Nokogiri::XML::Text:0x3fe1babd712c \"\\nWeb 上で公開されている Web ページ中にメタデータを記述するために，RDFa や Microformats，Microdata など複数の標準的な記述フォーマットが提案されている．しかし，標準的な記述フォーマットに従ったメタデータを持つ Web ページの数はまだ少なく，メタデータを利用した情報流通支援を行うには，より積極的なメタデータ付与が求められる．本稿では，DCMI Description Set Profile を基にした情報抽出テンプレートによる，相互利用性向上や作成コスト軽減を意識したメタデータ生成手法を提案する．Standard metadata formats, such as RDFa, Microformats, and Microdata, have been recommended to embed metadata in HTML or XHTML documents. However, many web pages have no metadata written in those formats. The other side, non-standard formats describing information for layout of web pages is used widely. For increasing metadata more proactively, we regard information in non-standard formats as metadata, and integrate with metadata in standard formats. This paper proposes a method to create metadata from resources with embedded metadata in standard and non-standard formats.\\n\">]>, #<Nokogiri::XML::Text:0x3fe1babe3238 \"\\n\">, #<Nokogiri::XML::Element:0x3fe1babe31fc name=\"date\" namespace=#<Nokogiri::XML::Namespace:0x3fe1bb1cae80 prefix=\"dc\" href=\"http://purl.org/dc/elements/1.1/\"> children=[#<Nokogiri::XML::Text:0x3fe1babe2af4 \"2011-11-15\">]>, #<Nokogiri::XML::Text:0x3fe1babe74b4 \"\\n\">, #<Nokogiri::XML::Element:0x3fe1babe7478 name=\"naid\" namespace=#<Nokogiri::XML::Namespace:0x3fe1bb1cae1c prefix=\"cinii\" href=\"http://ci.nii.ac.jp/ns/1.0/\"> children=[#<Nokogiri::XML::Text:0x3fe1babe6d48 \"110008682472\">]>, #<Nokogiri::XML::Text:0x3fe1babeb6f4 \"\\n\">, #<Nokogiri::XML::Element:0x3fe1babeb6b8 name=\"ncid\" namespace=#<Nokogiri::XML::Namespace:0x3fe1bb1cae1c prefix=\"cinii\" href=\"http://ci.nii.ac.jp/ns/1.0/\"> children=[#<Nokogiri::XML::Text:0x3fe1babeaf88 \"AN10114171\">]>, #<Nokogiri::XML::Text:0x3fe1babef948 \"\\n\">, #<Nokogiri::XML::Element:0x3fe1babef90c name=\"language\" namespace=#<Nokogiri::XML::Namespace:0x3fe1bb1cae80 prefix=\"dc\" href=\"http://purl.org/dc/elements/1.1/\"> children=[#<Nokogiri::XML::Text:0x3fe1babef204 \"JPN\">]>, #<Nokogiri::XML::Text:0x3fe1babf3bc4 \"\\n\">, #<Nokogiri::XML::Element:0x3fe1babf3b88 name=\"source\" namespace=#<Nokogiri::XML::Namespace:0x3fe1bb1cae80 prefix=\"dc\" href=\"http://purl.org/dc/elements/1.1/\"> children=[#<Nokogiri::XML::Text:0x3fe1babf3480 \"IPSJ\">]>, #<Nokogiri::XML::Text:0x3fe1bb1d3e40 \"\\n\">, #<Nokogiri::XML::Element:0x3fe1bb1d3e04 name=\"fulltext\" namespace=#<Nokogiri::XML::Namespace:0x3fe1bb1cae1c prefix=\"cinii\" href=\"http://ci.nii.ac.jp/ns/1.0/\"> children=[#<Nokogiri::XML::Text:0x3fe1bb1d36d4 \"0\">]>, #<Nokogiri::XML::Text:0x3fe1bb1d20b8 \"\\n\">, #<Nokogiri::XML::Element:0x3fe1bb1d207c name=\"isPartOf\" namespace=#<Nokogiri::XML::Namespace:0x3fe1bb1cae6c prefix=\"dcterms\" href=\"http://purl.org/dc/terms/\"> attributes=[#<Nokogiri::XML::Attr:0x3fe1bb1d7734 name=\"resource\" namespace=#<Nokogiri::XML::Namespace:0x3fe1bb1caea8 prefix=\"rdf\" href=\"http://www.w3.org/1999/02/22-rdf-syntax-ns#\"> value=\"http://ci.nii.ac.jp/ncid/AN10114171#entity\">, #<Nokogiri::XML::Attr:0x3fe1bb1d7720 name=\"title\" namespace=#<Nokogiri::XML::Namespace:0x3fe1bb1cae80 prefix=\"dc\" href=\"http://purl.org/dc/elements/1.1/\"> value=\"研究報告情報基礎とアクセス技術（IFAT）\">]>, #<Nokogiri::XML::Text:0x3fe1bbc01a70 \"\\n\">, #<Nokogiri::XML::Element:0x3fe1bbc01a34 name=\"seeAlso\" namespace=#<Nokogiri::XML::Namespace:0x3fe1bb1cae94 prefix=\"rdfs\" href=\"http://www.w3.org/2000/01/rdf-schema#\"> attributes=[#<Nokogiri::XML::Attr:0x3fe1bbc010e8 name=\"resource\" namespace=#<Nokogiri::XML::Namespace:0x3fe1bb1caea8 prefix=\"rdf\" href=\"http://www.w3.org/1999/02/22-rdf-syntax-ns#\"> value=\"http://id.nii.ac.jp/1001/00078506/\">, #<Nokogiri::XML::Attr:0x3fe1bbc010d4 name=\"title\" namespace=#<Nokogiri::XML::Namespace:0x3fe1bb1cae80 prefix=\"dc\" href=\"http://purl.org/dc/elements/1.1/\"> value=\"情報処理学会\">]>, #<Nokogiri::XML::Text:0x3fe1b99ef658 \"\\n\">]>, #<Nokogiri::XML::Text:0x3fe1b99ef61c \"\\n\">, #<Nokogiri::XML::Element:0x3fe1b99ef5e0 name=\"Description\" namespace=#<Nokogiri::XML::Namespace:0x3fe1bb1caea8 prefix=\"rdf\" href=\"http://www.w3.org/1999/02/22-rdf-syntax-ns#\"> attributes=[#<Nokogiri::XML::Attr:0x3fe1b99ef3d8 name=\"about\" namespace=#<Nokogiri::XML::Namespace:0x3fe1bb1caea8 prefix=\"rdf\" href=\"http://www.w3.org/1999/02/22-rdf-syntax-ns#\"> value=\"http://ci.nii.ac.jp/naid/110008682472#article\">, #<Nokogiri::XML::Attr:0x3fe1b99ef4a0 name=\"lang\" namespace=#<Nokogiri::XML::Namespace:0x3fe1b99ef324 prefix=\"xml\" href=\"http://www.w3.org/XML/1998/namespace\"> value=\"en\">] children=[#<Nokogiri::XML::Text:0x3fe1bb1dba14 \"\\n\">, #<Nokogiri::XML::Element:0x3fe1bb1db9d8 name=\"type\" namespace=#<Nokogiri::XML::Namespace:0x3fe1bb1caea8 prefix=\"rdf\" href=\"http://www.w3.org/1999/02/22-rdf-syntax-ns#\"> attributes=[#<Nokogiri::XML::Attr:0x3fe1bb1db2f8 name=\"resource\" namespace=#<Nokogiri::XML::Namespace:0x3fe1bb1caea8 prefix=\"rdf\" href=\"http://www.w3.org/1999/02/22-rdf-syntax-ns#\"> value=\"http://purl.org/ontology/bibo/Article\">]>, #<Nokogiri::XML::Text:0x3fe1bb1df7b8 \"\\n\">, #<Nokogiri::XML::Element:0x3fe1bb1df77c name=\"title\" namespace=#<Nokogiri::XML::Namespace:0x3fe1bb1cae80 prefix=\"dc\" href=\"http://purl.org/dc/elements/1.1/\"> children=[#<Nokogiri::XML::Text:0x3fe1bb1df2b8 \"\\nMetadata Creation from Resources with Embedded Metadata - Extraction and Integration of Embedded Metadata in Standard and Non-standard Formats\\n\">]>, #<Nokogiri::XML::Text:0x3fe1bbc0501c \"\\n\">]>, #<Nokogiri::XML::Text:0x3fe1bbc04fe0 \"\\n\">, #<Nokogiri::XML::Element:0x3fe1bbc04fa4 name=\"Description\" namespace=#<Nokogiri::XML::Namespace:0x3fe1bb1caea8 prefix=\"rdf\" href=\"http://www.w3.org/1999/02/22-rdf-syntax-ns#\"> attributes=[#<Nokogiri::XML::Attr:0x3fe1bbc04dc4 name=\"about\" namespace=#<Nokogiri::XML::Namespace:0x3fe1bb1caea8 prefix=\"rdf\" href=\"http://www.w3.org/1999/02/22-rdf-syntax-ns#\"> value=\"http://ci.nii.ac.jp/naid/110008682472#article\">] children=[#<Nokogiri::XML::Text:0x3fe1b99f3a8c \"\\n\">, #<Nokogiri::XML::Element:0x3fe1b99f3a50 name=\"type\" namespace=#<Nokogiri::XML::Namespace:0x3fe1bb1caea8 prefix=\"rdf\" href=\"http://www.w3.org/1999/02/22-rdf-syntax-ns#\"> attributes=[#<Nokogiri::XML::Attr:0x3fe1b99f3370 name=\"resource\" namespace=#<Nokogiri::XML::Namespace:0x3fe1bb1caea8 prefix=\"rdf\" href=\"http://www.w3.org/1999/02/22-rdf-syntax-ns#\"> value=\"http://purl.org/ontology/bibo/Article\">]>, #<Nokogiri::XML::Text:0x3fe1b99f7830 \"\\n\">, #<Nokogiri::XML::Element:0x3fe1b99f77f4 name=\"maker\" namespace=#<Nokogiri::XML::Namespace:0x3fe1bb1cae58 prefix=\"foaf\" href=\"http://xmlns.com/foaf/0.1/\"> children=[#<Nokogiri::XML::Text:0x3fe1b99f70ec \"\\n\">, #<Nokogiri::XML::Element:0x3fe1b99f70d8 name=\"Person\" namespace=#<Nokogiri::XML::Namespace:0x3fe1bb1cae58 prefix=\"foaf\" href=\"http://xmlns.com/foaf/0.1/\"> attributes=[#<Nokogiri::XML::Attr:0x3fe1b99f69f8 name=\"about\" namespace=#<Nokogiri::XML::Namespace:0x3fe1bb1caea8 prefix=\"rdf\" href=\"http://www.w3.org/1999/02/22-rdf-syntax-ns#\"> value=\"http://ci.nii.ac.jp/nrid/9000017716145#me\">] children=[#<Nokogiri::XML::Text:0x3fe1bb1e7ad0 \"\\n\">, #<Nokogiri::XML::Element:0x3fe1bb1e7a94 name=\"name\" namespace=#<Nokogiri::XML::Namespace:0x3fe1bb1cae58 prefix=\"foaf\" href=\"http://xmlns.com/foaf/0.1/\"> children=[#<Nokogiri::XML::Text:0x3fe1bb1e7364 \"本間 維\">]>, #<Nokogiri::XML::Text:0x3fe1bb1ebc98 \"\\n\">]>, #<Nokogiri::XML::Text:0x3fe1b99f70c4 \"\\n\">]>, #<Nokogiri::XML::Text:0x3fe1bb1eac80 \"\\n\">, #<Nokogiri::XML::Element:0x3fe1bb1eac44 name=\"maker\" namespace=#<Nokogiri::XML::Namespace:0x3fe1bb1cae58 prefix=\"foaf\" href=\"http://xmlns.com/foaf/0.1/\"> children=[#<Nokogiri::XML::Text:0x3fe1bb1ea780 \"\\n\">, #<Nokogiri::XML::Element:0x3fe1bb1ea76c name=\"Person\" namespace=#<Nokogiri::XML::Namespace:0x3fe1bb1cae58 prefix=\"foaf\" href=\"http://xmlns.com/foaf/0.1/\"> attributes=[#<Nokogiri::XML::Attr:0x3fe1bb1ea08c name=\"about\" namespace=#<Nokogiri::XML::Namespace:0x3fe1bb1caea8 prefix=\"rdf\" href=\"http://www.w3.org/1999/02/22-rdf-syntax-ns#\"> value=\"http://ci.nii.ac.jp/nrid/1000060272209#me\">] children=[#<Nokogiri::XML::Text:0x3fe1bb1f3394 \"\\n\">, #<Nokogiri::XML::Element:0x3fe1bb1f3358 name=\"name\" namespace=#<Nokogiri::XML::Namespace:0x3fe1bb1cae58 prefix=\"foaf\" href=\"http://xmlns.com/foaf/0.1/\"> children=[#<Nokogiri::XML::Text:0x3fe1bb1f2e6c \"永森 光晴\">]>, #<Nokogiri::XML::Text:0x3fe1b99fb78c \"\\n\">]>, #<Nokogiri::XML::Text:0x3fe1bb1ea758 \"\\n\">]>, #<Nokogiri::XML::Text:0x3fe1b99fa774 \"\\n\">, #<Nokogiri::XML::Element:0x3fe1b99fa738 name=\"maker\" namespace=#<Nokogiri::XML::Namespace:0x3fe1bb1cae58 prefix=\"foaf\" href=\"http://xmlns.com/foaf/0.1/\"> children=[#<Nokogiri::XML::Text:0x3fe1b99fa274 \"\\n\">, #<Nokogiri::XML::Element:0x3fe1b99fa260 name=\"Person\" namespace=#<Nokogiri::XML::Namespace:0x3fe1bb1cae58 prefix=\"foaf\" href=\"http://xmlns.com/foaf/0.1/\"> attributes=[#<Nokogiri::XML::Attr:0x3fe1b960db5c name=\"about\" namespace=#<Nokogiri::XML::Namespace:0x3fe1bb1caea8 prefix=\"rdf\" href=\"http://www.w3.org/1999/02/22-rdf-syntax-ns#\"> value=\"http://ci.nii.ac.jp/nrid/1000040154489#me\">] children=[#<Nokogiri::XML::Text:0x3fe1b9610e9c \"\\n\">, #<Nokogiri::XML::Element:0x3fe1b9610e60 name=\"name\" namespace=#<Nokogiri::XML::Namespace:0x3fe1bb1cae58 prefix=\"foaf\" href=\"http://xmlns.com/foaf/0.1/\"> children=[#<Nokogiri::XML::Text:0x3fe1b9610974 \"杉本 重雄\">]>, #<Nokogiri::XML::Text:0x3fe1bbc09284 \"\\n\">]>, #<Nokogiri::XML::Text:0x3fe1b99fa24c \"\\n\">]>, #<Nokogiri::XML::Text:0x3fe1bbc0826c \"\\n\">]>, #<Nokogiri::XML::Text:0x3fe1bbc08230 \"\\n\">]>, @parent=nil, @display_path=\"RDF\">, @callback=#<Proc:0x007fc3763f71e0@/Users/runa/.rbenv/versions/2.1.2/lib/ruby/gems/2.1.0/gems/rdf-2.0.0/lib/rdf/mixin/writable.rb:138>>"
      ]
     },
     "execution_count": 6,
     "metadata": {},
     "output_type": "execute_result"
    }
   ],
   "source": [
    "print \"\\n\\n\"\n",
    "puts \"ファイルからの読み込み-----------------------------\"\n",
    "file = \"ci.rdf\"\n",
    "RDF::Reader.open(file) do |reader|\n",
    "  reader.each_statement do |statement|\n",
    "    puts statement.inspect\n",
    "  end\n",
    "end"
   ]
  },
  {
   "cell_type": "code",
   "execution_count": 18,
   "metadata": {
    "collapsed": false
   },
   "outputs": [
    {
     "data": {
      "text/plain": [
       "#<RDF::Query::Variable:0x3fe1bbc612b8(?g70238750511800)>"
      ]
     },
     "execution_count": 18,
     "metadata": {},
     "output_type": "execute_result"
    }
   ],
   "source": [
    "var = RDF::Query::Variable.new"
   ]
  },
  {
   "cell_type": "code",
   "execution_count": 19,
   "metadata": {
    "collapsed": false
   },
   "outputs": [
    {
     "data": {
      "text/plain": [
       ":g70238750511800"
      ]
     },
     "execution_count": 19,
     "metadata": {},
     "output_type": "execute_result"
    }
   ],
   "source": [
    "var.name"
   ]
  },
  {
   "cell_type": "code",
   "execution_count": 20,
   "metadata": {
    "collapsed": true
   },
   "outputs": [],
   "source": [
    "var.value"
   ]
  },
  {
   "cell_type": "code",
   "execution_count": 21,
   "metadata": {
    "collapsed": false
   },
   "outputs": [
    {
     "data": {
      "text/plain": [
       "true"
      ]
     },
     "execution_count": 21,
     "metadata": {},
     "output_type": "execute_result"
    }
   ],
   "source": [
    "var.unbound?"
   ]
  },
  {
   "cell_type": "code",
   "execution_count": 22,
   "metadata": {
    "collapsed": false
   },
   "outputs": [
    {
     "data": {
      "text/plain": [
       "#<RDF::Query::Variable:0x3fe1bbc30b7c(?g70238750313340)>"
      ]
     },
     "execution_count": 22,
     "metadata": {},
     "output_type": "execute_result"
    }
   ],
   "source": [
    "var = RDF::Query::Variable.new"
   ]
  },
  {
   "cell_type": "code",
   "execution_count": null,
   "metadata": {
    "collapsed": true
   },
   "outputs": [],
   "source": []
  },
  {
   "cell_type": "code",
   "execution_count": null,
   "metadata": {
    "collapsed": true
   },
   "outputs": [],
   "source": []
  },
  {
   "cell_type": "code",
   "execution_count": 23,
   "metadata": {
    "collapsed": true
   },
   "outputs": [
    {
     "ename": "NoMethodError",
     "evalue": "undefined method `datatype' for #<RDF::Query::Variable:0x3fe1bbc30b7c(?g70238750313340)>",
     "output_type": "error",
     "traceback": [
      "\u001b[31mNoMethodError\u001b[0m: undefined method `datatype' for #<RDF::Query::Variable:0x3fe1bbc30b7c(?g70238750313340)>",
      "\u001b[37m(haml):15:in `block in render'\u001b[0m",
      "\u001b[37m/Users/runa/.rbenv/versions/2.1.2/lib/ruby/gems/2.1.0/gems/haml-4.1.0.beta.1/lib/haml/engine.rb:126:in `eval'\u001b[0m",
      "\u001b[37m/Users/runa/.rbenv/versions/2.1.2/lib/ruby/gems/2.1.0/gems/haml-4.1.0.beta.1/lib/haml/engine.rb:126:in `render'\u001b[0m",
      "\u001b[37m/Users/runa/.rbenv/versions/2.1.2/lib/ruby/gems/2.1.0/gems/rdf-rdfa-2.0.0/lib/rdf/rdfa/writer.rb:764:in `hamlify'\u001b[0m",
      "\u001b[37m/Users/runa/.rbenv/versions/2.1.2/lib/ruby/gems/2.1.0/gems/rdf-rdfa-2.0.0/lib/rdf/rdfa/writer.rb:358:in `render_property'\u001b[0m",
      "\u001b[37m/Users/runa/.rbenv/versions/2.1.2/lib/ruby/gems/2.1.0/gems/rdf-rdfa-2.0.0/lib/rdf/rdfa/writer.rb:583:in `predicate'\u001b[0m",
      "\u001b[37m/Users/runa/.rbenv/versions/2.1.2/lib/ruby/gems/2.1.0/gems/rdf-rdfa-2.0.0/lib/rdf/rdfa/writer.rb:563:in `block (3 levels) in render_subject_template'\u001b[0m",
      "\u001b[37m/Users/runa/.rbenv/versions/2.1.2/lib/ruby/gems/2.1.0/gems/rdf-2.0.0/lib/rdf/util/logger.rb:252:in `log_depth'\u001b[0m",
      "\u001b[37m/Users/runa/.rbenv/versions/2.1.2/lib/ruby/gems/2.1.0/gems/rdf-2.0.0/lib/rdf/util/logger.rb:192:in `log_depth'\u001b[0m",
      "\u001b[37m/Users/runa/.rbenv/versions/2.1.2/lib/ruby/gems/2.1.0/gems/rdf-rdfa-2.0.0/lib/rdf/rdfa/writer.rb:559:in `block (2 levels) in render_subject_template'\u001b[0m",
      "\u001b[37m/Users/runa/.rbenv/versions/2.1.2/lib/ruby/gems/2.1.0/gems/rdf-rdfa-2.0.0/lib/rdf/rdfa/writer.rb:282:in `block in render_subject'\u001b[0m",
      "\u001b[37m/Users/runa/.rbenv/versions/2.1.2/lib/ruby/gems/2.1.0/gems/rdf-rdfa-2.0.0/lib/rdf/rdfa/writer.rb:765:in `block in hamlify'\u001b[0m",
      "\u001b[37m(haml):12:in `block (2 levels) in render'\u001b[0m",
      "\u001b[37m(haml):11:in `each'\u001b[0m",
      "\u001b[37m(haml):11:in `block in render'\u001b[0m",
      "\u001b[37m/Users/runa/.rbenv/versions/2.1.2/lib/ruby/gems/2.1.0/gems/haml-4.1.0.beta.1/lib/haml/engine.rb:126:in `eval'\u001b[0m",
      "\u001b[37m/Users/runa/.rbenv/versions/2.1.2/lib/ruby/gems/2.1.0/gems/haml-4.1.0.beta.1/lib/haml/engine.rb:126:in `render'\u001b[0m",
      "\u001b[37m/Users/runa/.rbenv/versions/2.1.2/lib/ruby/gems/2.1.0/gems/rdf-rdfa-2.0.0/lib/rdf/rdfa/writer.rb:764:in `hamlify'\u001b[0m",
      "\u001b[37m/Users/runa/.rbenv/versions/2.1.2/lib/ruby/gems/2.1.0/gems/rdf-rdfa-2.0.0/lib/rdf/rdfa/writer.rb:281:in `render_subject'\u001b[0m",
      "\u001b[37m/Users/runa/.rbenv/versions/2.1.2/lib/ruby/gems/2.1.0/gems/rdf-rdfa-2.0.0/lib/rdf/rdfa/writer.rb:558:in `block in render_subject_template'\u001b[0m",
      "\u001b[37m/Users/runa/.rbenv/versions/2.1.2/lib/ruby/gems/2.1.0/gems/rdf-rdfa-2.0.0/lib/rdf/rdfa/writer.rb:743:in `with_template'\u001b[0m",
      "\u001b[37m/Users/runa/.rbenv/versions/2.1.2/lib/ruby/gems/2.1.0/gems/rdf-rdfa-2.0.0/lib/rdf/rdfa/writer.rb:557:in `render_subject_template'\u001b[0m",
      "\u001b[37m/Users/runa/.rbenv/versions/2.1.2/lib/ruby/gems/2.1.0/gems/rdf-rdfa-2.0.0/lib/rdf/rdfa/writer.rb:506:in `subject'\u001b[0m",
      "\u001b[37m/Users/runa/.rbenv/versions/2.1.2/lib/ruby/gems/2.1.0/gems/rdf-rdfa-2.0.0/lib/rdf/rdfa/writer.rb:191:in `block in write_epilogue'\u001b[0m",
      "\u001b[37m/Users/runa/.rbenv/versions/2.1.2/lib/ruby/gems/2.1.0/gems/rdf-rdfa-2.0.0/lib/rdf/rdfa/writer.rb:231:in `block in render_document'\u001b[0m",
      "\u001b[37m/Users/runa/.rbenv/versions/2.1.2/lib/ruby/gems/2.1.0/gems/rdf-rdfa-2.0.0/lib/rdf/rdfa/writer.rb:765:in `block in hamlify'\u001b[0m",
      "\u001b[37m(haml):12:in `block (2 levels) in render'\u001b[0m",
      "\u001b[37m(haml):11:in `map'\u001b[0m",
      "\u001b[37m(haml):11:in `block in render'\u001b[0m",
      "\u001b[37m/Users/runa/.rbenv/versions/2.1.2/lib/ruby/gems/2.1.0/gems/haml-4.1.0.beta.1/lib/haml/engine.rb:126:in `eval'\u001b[0m",
      "\u001b[37m/Users/runa/.rbenv/versions/2.1.2/lib/ruby/gems/2.1.0/gems/haml-4.1.0.beta.1/lib/haml/engine.rb:126:in `render'\u001b[0m",
      "\u001b[37m/Users/runa/.rbenv/versions/2.1.2/lib/ruby/gems/2.1.0/gems/rdf-rdfa-2.0.0/lib/rdf/rdfa/writer.rb:764:in `hamlify'\u001b[0m",
      "\u001b[37m/Users/runa/.rbenv/versions/2.1.2/lib/ruby/gems/2.1.0/gems/rdf-rdfa-2.0.0/lib/rdf/rdfa/writer.rb:230:in `render_document'\u001b[0m",
      "\u001b[37m/Users/runa/.rbenv/versions/2.1.2/lib/ruby/gems/2.1.0/gems/rdf-rdfa-2.0.0/lib/rdf/rdfa/writer.rb:186:in `write_epilogue'\u001b[0m",
      "\u001b[37m/Users/runa/.rbenv/versions/2.1.2/lib/ruby/gems/2.1.0/gems/rdf-2.0.0/lib/rdf/writer.rb:269:in `initialize'\u001b[0m",
      "\u001b[37m/Users/runa/.rbenv/versions/2.1.2/lib/ruby/gems/2.1.0/gems/rdf-rdfa-2.0.0/lib/rdf/rdfa/writer.rb:120:in `initialize'\u001b[0m",
      "\u001b[37m/Users/runa/.rbenv/versions/2.1.2/lib/ruby/gems/2.1.0/gems/rdf-2.0.0/lib/rdf/writer.rb:199:in `new'\u001b[0m",
      "\u001b[37m/Users/runa/.rbenv/versions/2.1.2/lib/ruby/gems/2.1.0/gems/rdf-2.0.0/lib/rdf/writer.rb:199:in `block in buffer'\u001b[0m",
      "\u001b[37m/Users/runa/.rbenv/versions/2.1.2/lib/ruby/gems/2.1.0/gems/rdf-2.0.0/lib/rdf/writer.rb:197:in `open'\u001b[0m",
      "\u001b[37m/Users/runa/.rbenv/versions/2.1.2/lib/ruby/gems/2.1.0/gems/rdf-2.0.0/lib/rdf/writer.rb:197:in `buffer'\u001b[0m",
      "\u001b[37m/Users/runa/.rbenv/versions/2.1.2/lib/ruby/gems/2.1.0/gems/rdf-2.0.0/lib/rdf/mixin/enumerable.rb:758:in `method_missing'\u001b[0m",
      "\u001b[37m/Users/runa/.rbenv/versions/2.1.2/lib/ruby/gems/2.1.0/gems/iruby-0.2.9/lib/iruby/display.rb:248:in `block in <module:Registry>'\u001b[0m",
      "\u001b[37m/Users/runa/.rbenv/versions/2.1.2/lib/ruby/gems/2.1.0/gems/iruby-0.2.9/lib/iruby/display.rb:105:in `call'\u001b[0m",
      "\u001b[37m/Users/runa/.rbenv/versions/2.1.2/lib/ruby/gems/2.1.0/gems/iruby-0.2.9/lib/iruby/display.rb:105:in `render'\u001b[0m",
      "\u001b[37m/Users/runa/.rbenv/versions/2.1.2/lib/ruby/gems/2.1.0/gems/iruby-0.2.9/lib/iruby/display.rb:61:in `block in render'\u001b[0m",
      "\u001b[37m/Users/runa/.rbenv/versions/2.1.2/lib/ruby/gems/2.1.0/gems/iruby-0.2.9/lib/iruby/display.rb:60:in `each'\u001b[0m",
      "\u001b[37m/Users/runa/.rbenv/versions/2.1.2/lib/ruby/gems/2.1.0/gems/iruby-0.2.9/lib/iruby/display.rb:60:in `render'\u001b[0m",
      "\u001b[37m/Users/runa/.rbenv/versions/2.1.2/lib/ruby/gems/2.1.0/gems/iruby-0.2.9/lib/iruby/display.rb:23:in `display'\u001b[0m",
      "\u001b[37m/Users/runa/.rbenv/versions/2.1.2/lib/ruby/gems/2.1.0/gems/iruby-0.2.9/lib/iruby/kernel.rb:96:in `execute_request'\u001b[0m",
      "\u001b[37m/Users/runa/.rbenv/versions/2.1.2/lib/ruby/gems/2.1.0/gems/iruby-0.2.9/lib/iruby/kernel.rb:47:in `dispatch'\u001b[0m",
      "\u001b[37m/Users/runa/.rbenv/versions/2.1.2/lib/ruby/gems/2.1.0/gems/iruby-0.2.9/lib/iruby/kernel.rb:37:in `run'\u001b[0m",
      "\u001b[37m/Users/runa/.rbenv/versions/2.1.2/lib/ruby/gems/2.1.0/gems/iruby-0.2.9/lib/iruby/command.rb:70:in `run_kernel'\u001b[0m",
      "\u001b[37m/Users/runa/.rbenv/versions/2.1.2/lib/ruby/gems/2.1.0/gems/iruby-0.2.9/lib/iruby/command.rb:34:in `run'\u001b[0m",
      "\u001b[37m/Users/runa/.rbenv/versions/2.1.2/lib/ruby/gems/2.1.0/gems/iruby-0.2.9/bin/iruby:5:in `<top (required)>'\u001b[0m",
      "\u001b[37m/Users/runa/.rbenv/versions/2.1.2/bin/iruby:23:in `load'\u001b[0m",
      "\u001b[37m/Users/runa/.rbenv/versions/2.1.2/bin/iruby:23:in `<main>'\u001b[0m"
     ]
    }
   ],
   "source": [
    "query = RDF::Query.new({\n",
    "  :person => {\n",
    "    RDF.type  => RDF::Vocab::FOAF.Person,\n",
    "    RDF::Vocab::FOAF.name => :name\n",
    "  }\n",
    "})"
   ]
  },
  {
   "cell_type": "code",
   "execution_count": 10,
   "metadata": {
    "collapsed": true
   },
   "outputs": [
    {
     "ename": "NameError",
     "evalue": "undefined local variable or method `graph' for main:Object",
     "output_type": "error",
     "traceback": [
      "\u001b[31mNameError\u001b[0m: undefined local variable or method `graph' for main:Object",
      "\u001b[37m(pry):62:in `<main>'\u001b[0m",
      "\u001b[37m/Users/runa/.rbenv/versions/2.1.2/lib/ruby/gems/2.1.0/gems/pry-0.10.4/lib/pry/pry_instance.rb:355:in `eval'\u001b[0m",
      "\u001b[37m/Users/runa/.rbenv/versions/2.1.2/lib/ruby/gems/2.1.0/gems/pry-0.10.4/lib/pry/pry_instance.rb:355:in `evaluate_ruby'\u001b[0m",
      "\u001b[37m/Users/runa/.rbenv/versions/2.1.2/lib/ruby/gems/2.1.0/gems/pry-0.10.4/lib/pry/pry_instance.rb:323:in `handle_line'\u001b[0m",
      "\u001b[37m/Users/runa/.rbenv/versions/2.1.2/lib/ruby/gems/2.1.0/gems/pry-0.10.4/lib/pry/pry_instance.rb:243:in `block (2 levels) in eval'\u001b[0m",
      "\u001b[37m/Users/runa/.rbenv/versions/2.1.2/lib/ruby/gems/2.1.0/gems/pry-0.10.4/lib/pry/pry_instance.rb:242:in `catch'\u001b[0m",
      "\u001b[37m/Users/runa/.rbenv/versions/2.1.2/lib/ruby/gems/2.1.0/gems/pry-0.10.4/lib/pry/pry_instance.rb:242:in `block in eval'\u001b[0m",
      "\u001b[37m/Users/runa/.rbenv/versions/2.1.2/lib/ruby/gems/2.1.0/gems/pry-0.10.4/lib/pry/pry_instance.rb:241:in `catch'\u001b[0m",
      "\u001b[37m/Users/runa/.rbenv/versions/2.1.2/lib/ruby/gems/2.1.0/gems/pry-0.10.4/lib/pry/pry_instance.rb:241:in `eval'\u001b[0m",
      "\u001b[37m/Users/runa/.rbenv/versions/2.1.2/lib/ruby/gems/2.1.0/gems/iruby-0.2.9/lib/iruby/backend.rb:65:in `eval'\u001b[0m",
      "\u001b[37m/Users/runa/.rbenv/versions/2.1.2/lib/ruby/gems/2.1.0/gems/iruby-0.2.9/lib/iruby/backend.rb:12:in `eval'\u001b[0m",
      "\u001b[37m/Users/runa/.rbenv/versions/2.1.2/lib/ruby/gems/2.1.0/gems/iruby-0.2.9/lib/iruby/kernel.rb:87:in `execute_request'\u001b[0m",
      "\u001b[37m/Users/runa/.rbenv/versions/2.1.2/lib/ruby/gems/2.1.0/gems/iruby-0.2.9/lib/iruby/kernel.rb:47:in `dispatch'\u001b[0m",
      "\u001b[37m/Users/runa/.rbenv/versions/2.1.2/lib/ruby/gems/2.1.0/gems/iruby-0.2.9/lib/iruby/kernel.rb:37:in `run'\u001b[0m",
      "\u001b[37m/Users/runa/.rbenv/versions/2.1.2/lib/ruby/gems/2.1.0/gems/iruby-0.2.9/lib/iruby/command.rb:70:in `run_kernel'\u001b[0m",
      "\u001b[37m/Users/runa/.rbenv/versions/2.1.2/lib/ruby/gems/2.1.0/gems/iruby-0.2.9/lib/iruby/command.rb:34:in `run'\u001b[0m",
      "\u001b[37m/Users/runa/.rbenv/versions/2.1.2/lib/ruby/gems/2.1.0/gems/iruby-0.2.9/bin/iruby:5:in `<top (required)>'\u001b[0m",
      "\u001b[37m/Users/runa/.rbenv/versions/2.1.2/bin/iruby:23:in `load'\u001b[0m",
      "\u001b[37m/Users/runa/.rbenv/versions/2.1.2/bin/iruby:23:in `<main>'\u001b[0m"
     ]
    }
   ],
   "source": [
    "query.execute(graph).each do |solution|\n",
    "  puts \"name=#{solution.Person}\"\n",
    "end"
   ]
  },
  {
   "cell_type": "code",
   "execution_count": null,
   "metadata": {
    "collapsed": true
   },
   "outputs": [],
   "source": []
  }
 ],
 "metadata": {
  "kernelspec": {
   "display_name": "Ruby 2.1.2",
   "language": "ruby",
   "name": "ruby"
  },
  "language_info": {
   "file_extension": ".rb",
   "mimetype": "application/x-ruby",
   "name": "ruby",
   "version": "2.1.2"
  }
 },
 "nbformat": 4,
 "nbformat_minor": 0
}
