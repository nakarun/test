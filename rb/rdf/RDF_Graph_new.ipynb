{
 "cells": [
  {
   "cell_type": "code",
   "execution_count": null,
   "metadata": {
    "collapsed": true
   },
   "outputs": [],
   "source": []
  },
  {
   "cell_type": "code",
   "execution_count": 1,
   "metadata": {
    "collapsed": false
   },
   "outputs": [
    {
     "data": {
      "text/plain": [
       "false"
      ]
     },
     "execution_count": 1,
     "metadata": {},
     "output_type": "execute_result"
    }
   ],
   "source": [
    "require 'rdf'\n",
    "require 'rdf/rdfxml'\n",
    "require 'rdf/vocab'\n",
    "require 'openssl'"
   ]
  },
  {
   "cell_type": "code",
   "execution_count": 2,
   "metadata": {
    "collapsed": false
   },
   "outputs": [
    {
     "data": {
      "text/plain": [
       "#<RDF::Vocabulary:0x3fc595e31648(http://example.com/)>"
      ]
     },
     "execution_count": 2,
     "metadata": {},
     "output_type": "execute_result"
    }
   ],
   "source": [
    "ex = RDF::Vocabulary.new(\"http://example.com/\")"
   ]
  },
  {
   "cell_type": "code",
   "execution_count": 4,
   "metadata": {
    "collapsed": false
   },
   "outputs": [
    {
     "data": {
      "text/plain": [
       "#<RDF::Vocabulary::Term:0x3fd5c2d37e6c URI:http://example.com/runa>"
      ]
     },
     "execution_count": 4,
     "metadata": {},
     "output_type": "execute_result"
    }
   ],
   "source": [
    "ex.runa"
   ]
  },
  {
   "cell_type": "code",
   "execution_count": 3,
   "metadata": {
    "collapsed": false
   },
   "outputs": [
    {
     "data": {
      "text/html": [
       "<!DOCTYPE html>\n",
       "<html prefix='foaf: http://xmlns.com/foaf/0.1/' xmlns='http://www.w3.org/1999/xhtml'>\n",
       "  <body>\n",
       "    <div resource='http://example.com/runa'>\n",
       "      <div class='property'>\n",
       "        <span class='label'>\n",
       "          foaf:name\n",
       "        </span>\n",
       "        <span property='foaf:name'>Runa Nakayama</span>\n",
       "      </div>\n",
       "    </div>\n",
       "  </body>\n",
       "</html>\n"
      ],
      "text/plain": [
       "#<RDF::Graph:0x3fc595dc8b70(default)>"
      ]
     },
     "execution_count": 3,
     "metadata": {},
     "output_type": "execute_result"
    }
   ],
   "source": [
    "graph = RDF::Graph.new << [ex.runa, RDF::Vocab::FOAF.name, \"Runa Nakayama\"]"
   ]
  },
  {
   "cell_type": "code",
   "execution_count": 4,
   "metadata": {
    "collapsed": false
   },
   "outputs": [
    {
     "data": {
      "text/html": [
       "<!DOCTYPE html>\n",
       "<html prefix='foaf: http://xmlns.com/foaf/0.1/ rdf: http://www.w3.org/1999/02/22-rdf-syntax-ns#' xmlns='http://www.w3.org/1999/xhtml'>\n",
       "  <body>\n",
       "    <div resource='http://example.com/runa' typeof='foaf:Person'>\n",
       "      <span class='type'>foaf:Person</span>\n",
       "      <div class='property'>\n",
       "        <span class='label'>\n",
       "          foaf:name\n",
       "        </span>\n",
       "        <span property='foaf:name'>Runa Nakayama</span>\n",
       "      </div>\n",
       "    </div>\n",
       "  </body>\n",
       "</html>\n"
      ],
      "text/plain": [
       "#<RDF::Graph:0x3fc595dc8b70(default)>"
      ]
     },
     "execution_count": 4,
     "metadata": {},
     "output_type": "execute_result"
    }
   ],
   "source": [
    "graph  << [ex.runa, RDF.type, RDF::Vocab::FOAF.Person]"
   ]
  },
  {
   "cell_type": "code",
   "execution_count": 6,
   "metadata": {
    "collapsed": false
   },
   "outputs": [
    {
     "data": {
      "text/plain": [
       "\"<?xml version='1.0' encoding='utf-8' ?>\\n<rdf:RDF xmlns:foaf='http://xmlns.com/foaf/0.1/' xmlns:rdf='http://www.w3.org/1999/02/22-rdf-syntax-ns#'>\\n  <foaf:Person rdf:about='http://example.com/runa'>\\n    <foaf:name>Runa Nakayama</foaf:name>\\n  </foaf:Person>\\n</rdf:RDF>\\n\""
      ]
     },
     "execution_count": 6,
     "metadata": {},
     "output_type": "execute_result"
    }
   ],
   "source": [
    "graph.to_rdfxml"
   ]
  },
  {
   "cell_type": "code",
   "execution_count": 7,
   "metadata": {
    "collapsed": true
   },
   "outputs": [
    {
     "name": "stderr",
     "output_type": "stream",
     "text": [
      "ERROR Getting CURIE for #<RDF::Query::Variable:0x3fc598c28de4(?person)>, which must be a resource\n"
     ]
    },
    {
     "ename": "NoMethodError",
     "evalue": "undefined method `datatype' for #<RDF::Query::Variable:0x3fc598c28dd0(?name)>",
     "output_type": "error",
     "traceback": [
      "\u001b[31mNoMethodError\u001b[0m: undefined method `datatype' for #<RDF::Query::Variable:0x3fc598c28dd0(?name)>",
      "\u001b[37m(haml):15:in `block in render'\u001b[0m",
      "\u001b[37m/Users/runa/.rbenv/versions/2.1.2/lib/ruby/gems/2.1.0/gems/haml-4.1.0.beta.1/lib/haml/engine.rb:126:in `eval'\u001b[0m",
      "\u001b[37m/Users/runa/.rbenv/versions/2.1.2/lib/ruby/gems/2.1.0/gems/haml-4.1.0.beta.1/lib/haml/engine.rb:126:in `render'\u001b[0m",
      "\u001b[37m/Users/runa/.rbenv/versions/2.1.2/lib/ruby/gems/2.1.0/gems/rdf-rdfa-2.0.0/lib/rdf/rdfa/writer.rb:764:in `hamlify'\u001b[0m",
      "\u001b[37m/Users/runa/.rbenv/versions/2.1.2/lib/ruby/gems/2.1.0/gems/rdf-rdfa-2.0.0/lib/rdf/rdfa/writer.rb:358:in `render_property'\u001b[0m",
      "\u001b[37m/Users/runa/.rbenv/versions/2.1.2/lib/ruby/gems/2.1.0/gems/rdf-rdfa-2.0.0/lib/rdf/rdfa/writer.rb:583:in `predicate'\u001b[0m",
      "\u001b[37m/Users/runa/.rbenv/versions/2.1.2/lib/ruby/gems/2.1.0/gems/rdf-rdfa-2.0.0/lib/rdf/rdfa/writer.rb:563:in `block (3 levels) in render_subject_template'\u001b[0m",
      "\u001b[37m/Users/runa/.rbenv/versions/2.1.2/lib/ruby/gems/2.1.0/gems/rdf-2.0.0/lib/rdf/util/logger.rb:252:in `log_depth'\u001b[0m",
      "\u001b[37m/Users/runa/.rbenv/versions/2.1.2/lib/ruby/gems/2.1.0/gems/rdf-2.0.0/lib/rdf/util/logger.rb:192:in `log_depth'\u001b[0m",
      "\u001b[37m/Users/runa/.rbenv/versions/2.1.2/lib/ruby/gems/2.1.0/gems/rdf-rdfa-2.0.0/lib/rdf/rdfa/writer.rb:559:in `block (2 levels) in render_subject_template'\u001b[0m",
      "\u001b[37m/Users/runa/.rbenv/versions/2.1.2/lib/ruby/gems/2.1.0/gems/rdf-rdfa-2.0.0/lib/rdf/rdfa/writer.rb:282:in `block in render_subject'\u001b[0m",
      "\u001b[37m/Users/runa/.rbenv/versions/2.1.2/lib/ruby/gems/2.1.0/gems/rdf-rdfa-2.0.0/lib/rdf/rdfa/writer.rb:765:in `block in hamlify'\u001b[0m",
      "\u001b[37m(haml):12:in `block (2 levels) in render'\u001b[0m",
      "\u001b[37m(haml):11:in `each'\u001b[0m",
      "\u001b[37m(haml):11:in `block in render'\u001b[0m",
      "\u001b[37m/Users/runa/.rbenv/versions/2.1.2/lib/ruby/gems/2.1.0/gems/haml-4.1.0.beta.1/lib/haml/engine.rb:126:in `eval'\u001b[0m",
      "\u001b[37m/Users/runa/.rbenv/versions/2.1.2/lib/ruby/gems/2.1.0/gems/haml-4.1.0.beta.1/lib/haml/engine.rb:126:in `render'\u001b[0m",
      "\u001b[37m/Users/runa/.rbenv/versions/2.1.2/lib/ruby/gems/2.1.0/gems/rdf-rdfa-2.0.0/lib/rdf/rdfa/writer.rb:764:in `hamlify'\u001b[0m",
      "\u001b[37m/Users/runa/.rbenv/versions/2.1.2/lib/ruby/gems/2.1.0/gems/rdf-rdfa-2.0.0/lib/rdf/rdfa/writer.rb:281:in `render_subject'\u001b[0m",
      "\u001b[37m/Users/runa/.rbenv/versions/2.1.2/lib/ruby/gems/2.1.0/gems/rdf-rdfa-2.0.0/lib/rdf/rdfa/writer.rb:558:in `block in render_subject_template'\u001b[0m",
      "\u001b[37m/Users/runa/.rbenv/versions/2.1.2/lib/ruby/gems/2.1.0/gems/rdf-rdfa-2.0.0/lib/rdf/rdfa/writer.rb:743:in `with_template'\u001b[0m",
      "\u001b[37m/Users/runa/.rbenv/versions/2.1.2/lib/ruby/gems/2.1.0/gems/rdf-rdfa-2.0.0/lib/rdf/rdfa/writer.rb:557:in `render_subject_template'\u001b[0m",
      "\u001b[37m/Users/runa/.rbenv/versions/2.1.2/lib/ruby/gems/2.1.0/gems/rdf-rdfa-2.0.0/lib/rdf/rdfa/writer.rb:506:in `subject'\u001b[0m",
      "\u001b[37m/Users/runa/.rbenv/versions/2.1.2/lib/ruby/gems/2.1.0/gems/rdf-rdfa-2.0.0/lib/rdf/rdfa/writer.rb:191:in `block in write_epilogue'\u001b[0m",
      "\u001b[37m/Users/runa/.rbenv/versions/2.1.2/lib/ruby/gems/2.1.0/gems/rdf-rdfa-2.0.0/lib/rdf/rdfa/writer.rb:231:in `block in render_document'\u001b[0m",
      "\u001b[37m/Users/runa/.rbenv/versions/2.1.2/lib/ruby/gems/2.1.0/gems/rdf-rdfa-2.0.0/lib/rdf/rdfa/writer.rb:765:in `block in hamlify'\u001b[0m",
      "\u001b[37m(haml):12:in `block (2 levels) in render'\u001b[0m",
      "\u001b[37m(haml):11:in `map'\u001b[0m",
      "\u001b[37m(haml):11:in `block in render'\u001b[0m",
      "\u001b[37m/Users/runa/.rbenv/versions/2.1.2/lib/ruby/gems/2.1.0/gems/haml-4.1.0.beta.1/lib/haml/engine.rb:126:in `eval'\u001b[0m",
      "\u001b[37m/Users/runa/.rbenv/versions/2.1.2/lib/ruby/gems/2.1.0/gems/haml-4.1.0.beta.1/lib/haml/engine.rb:126:in `render'\u001b[0m",
      "\u001b[37m/Users/runa/.rbenv/versions/2.1.2/lib/ruby/gems/2.1.0/gems/rdf-rdfa-2.0.0/lib/rdf/rdfa/writer.rb:764:in `hamlify'\u001b[0m",
      "\u001b[37m/Users/runa/.rbenv/versions/2.1.2/lib/ruby/gems/2.1.0/gems/rdf-rdfa-2.0.0/lib/rdf/rdfa/writer.rb:230:in `render_document'\u001b[0m",
      "\u001b[37m/Users/runa/.rbenv/versions/2.1.2/lib/ruby/gems/2.1.0/gems/rdf-rdfa-2.0.0/lib/rdf/rdfa/writer.rb:186:in `write_epilogue'\u001b[0m",
      "\u001b[37m/Users/runa/.rbenv/versions/2.1.2/lib/ruby/gems/2.1.0/gems/rdf-2.0.0/lib/rdf/writer.rb:269:in `initialize'\u001b[0m",
      "\u001b[37m/Users/runa/.rbenv/versions/2.1.2/lib/ruby/gems/2.1.0/gems/rdf-rdfa-2.0.0/lib/rdf/rdfa/writer.rb:120:in `initialize'\u001b[0m",
      "\u001b[37m/Users/runa/.rbenv/versions/2.1.2/lib/ruby/gems/2.1.0/gems/rdf-2.0.0/lib/rdf/writer.rb:199:in `new'\u001b[0m",
      "\u001b[37m/Users/runa/.rbenv/versions/2.1.2/lib/ruby/gems/2.1.0/gems/rdf-2.0.0/lib/rdf/writer.rb:199:in `block in buffer'\u001b[0m",
      "\u001b[37m/Users/runa/.rbenv/versions/2.1.2/lib/ruby/gems/2.1.0/gems/rdf-2.0.0/lib/rdf/writer.rb:197:in `open'\u001b[0m",
      "\u001b[37m/Users/runa/.rbenv/versions/2.1.2/lib/ruby/gems/2.1.0/gems/rdf-2.0.0/lib/rdf/writer.rb:197:in `buffer'\u001b[0m",
      "\u001b[37m/Users/runa/.rbenv/versions/2.1.2/lib/ruby/gems/2.1.0/gems/rdf-2.0.0/lib/rdf/mixin/enumerable.rb:758:in `method_missing'\u001b[0m",
      "\u001b[37m/Users/runa/.rbenv/versions/2.1.2/lib/ruby/gems/2.1.0/gems/iruby-0.2.9/lib/iruby/display.rb:248:in `block in <module:Registry>'\u001b[0m",
      "\u001b[37m/Users/runa/.rbenv/versions/2.1.2/lib/ruby/gems/2.1.0/gems/iruby-0.2.9/lib/iruby/display.rb:105:in `call'\u001b[0m",
      "\u001b[37m/Users/runa/.rbenv/versions/2.1.2/lib/ruby/gems/2.1.0/gems/iruby-0.2.9/lib/iruby/display.rb:105:in `render'\u001b[0m",
      "\u001b[37m/Users/runa/.rbenv/versions/2.1.2/lib/ruby/gems/2.1.0/gems/iruby-0.2.9/lib/iruby/display.rb:61:in `block in render'\u001b[0m",
      "\u001b[37m/Users/runa/.rbenv/versions/2.1.2/lib/ruby/gems/2.1.0/gems/iruby-0.2.9/lib/iruby/display.rb:60:in `each'\u001b[0m",
      "\u001b[37m/Users/runa/.rbenv/versions/2.1.2/lib/ruby/gems/2.1.0/gems/iruby-0.2.9/lib/iruby/display.rb:60:in `render'\u001b[0m",
      "\u001b[37m/Users/runa/.rbenv/versions/2.1.2/lib/ruby/gems/2.1.0/gems/iruby-0.2.9/lib/iruby/display.rb:23:in `display'\u001b[0m",
      "\u001b[37m/Users/runa/.rbenv/versions/2.1.2/lib/ruby/gems/2.1.0/gems/iruby-0.2.9/lib/iruby/kernel.rb:96:in `execute_request'\u001b[0m",
      "\u001b[37m/Users/runa/.rbenv/versions/2.1.2/lib/ruby/gems/2.1.0/gems/iruby-0.2.9/lib/iruby/kernel.rb:47:in `dispatch'\u001b[0m",
      "\u001b[37m/Users/runa/.rbenv/versions/2.1.2/lib/ruby/gems/2.1.0/gems/iruby-0.2.9/lib/iruby/kernel.rb:37:in `run'\u001b[0m",
      "\u001b[37m/Users/runa/.rbenv/versions/2.1.2/lib/ruby/gems/2.1.0/gems/iruby-0.2.9/lib/iruby/command.rb:70:in `run_kernel'\u001b[0m",
      "\u001b[37m/Users/runa/.rbenv/versions/2.1.2/lib/ruby/gems/2.1.0/gems/iruby-0.2.9/lib/iruby/command.rb:34:in `run'\u001b[0m",
      "\u001b[37m/Users/runa/.rbenv/versions/2.1.2/lib/ruby/gems/2.1.0/gems/iruby-0.2.9/bin/iruby:5:in `<top (required)>'\u001b[0m",
      "\u001b[37m/Users/runa/.rbenv/versions/2.1.2/bin/iruby:23:in `load'\u001b[0m",
      "\u001b[37m/Users/runa/.rbenv/versions/2.1.2/bin/iruby:23:in `<main>'\u001b[0m"
     ]
    }
   ],
   "source": [
    "query = RDF::Query.new({\n",
    "  :person => {\n",
    "    RDF.type  => RDF::Vocab::FOAF.Person,\n",
    "    RDF::Vocab::FOAF.name => :name\n",
    "  }\n",
    "})"
   ]
  },
  {
   "cell_type": "code",
   "execution_count": 20,
   "metadata": {
    "collapsed": false
   },
   "outputs": [
    {
     "data": {
      "text/plain": [
       ":name"
      ]
     },
     "execution_count": 20,
     "metadata": {},
     "output_type": "execute_result"
    }
   ],
   "source": [
    ":name"
   ]
  },
  {
   "cell_type": "code",
   "execution_count": 9,
   "metadata": {
    "collapsed": false
   },
   "outputs": [
    {
     "name": "stdout",
     "output_type": "stream",
     "text": [
      "Runa Nakayama\n"
     ]
    },
    {
     "data": {
      "text/plain": [
       "[#<RDF::Query::Solution:0x3fc5988bb9cc({:person=>#<RDF::Vocabulary::Term:0x3fc595d19e68 URI:http://example.com/runa>, :name=>#<RDF::Literal:0x3fc595d682fc(\"Runa Nakayama\")>})>]"
      ]
     },
     "execution_count": 9,
     "metadata": {},
     "output_type": "execute_result"
    }
   ],
   "source": [
    "query.execute(graph).each do |solution|\n",
    "  puts \"#{solution.name}\"\n",
    "end"
   ]
  },
  {
   "cell_type": "code",
   "execution_count": null,
   "metadata": {
    "collapsed": true
   },
   "outputs": [],
   "source": []
  }
 ],
 "metadata": {
  "kernelspec": {
   "display_name": "Ruby 2.1.2",
   "language": "ruby",
   "name": "ruby"
  },
  "language_info": {
   "file_extension": ".rb",
   "mimetype": "application/x-ruby",
   "name": "ruby",
   "version": "2.1.2"
  }
 },
 "nbformat": 4,
 "nbformat_minor": 0
}
