{
 "cells": [
  {
   "cell_type": "markdown",
   "metadata": {
    "collapsed": false
   },
   "source": [
    "# 賃貸検索サービス「HOME'S」からスクレイピング"
   ]
  },
  {
   "cell_type": "markdown",
   "metadata": {},
   "source": [
    "賃貸検索サービス「HOME'S」から東京都の区ごとの平均賃貸料をスクレイピング"
   ]
  },
  {
   "cell_type": "code",
   "execution_count": 2,
   "metadata": {
    "collapsed": false
   },
   "outputs": [
    {
     "data": {
      "text/plain": [
       "false"
      ]
     },
     "execution_count": 2,
     "metadata": {},
     "output_type": "execute_result"
    }
   ],
   "source": [
    "require 'nokogiri'\n",
    "require 'anemone'"
   ]
  },
  {
   "cell_type": "code",
   "execution_count": 3,
   "metadata": {
    "collapsed": false
   },
   "outputs": [
    {
     "data": {
      "text/plain": [
       "{:depth_limit=>1}"
      ]
     },
     "execution_count": 3,
     "metadata": {},
     "output_type": "execute_result"
    }
   ],
   "source": [
    "opts = {\n",
    "\tdepth_limit: 1\n",
    "\t\t# 0 => 指定したURL先のみ\n",
    "\t\t# 1 => 指定したURLにあるlinkから辿れる先も見る。\n",
    "}"
   ]
  },
  {
   "cell_type": "code",
   "execution_count": 4,
   "metadata": {
    "collapsed": true
   },
   "outputs": [
    {
     "name": "stdout",
     "output_type": "stream",
     "text": [
      "千代田区,11.20万円\n",
      "\n",
      "中央区,10.72万円\n",
      "\n",
      "港区,11.96万円\n",
      "\n",
      "新宿区,9.15万円\n",
      "\n",
      "文京区,8.94万円\n",
      "\n",
      "台東区,9.45万円\n",
      "\n",
      "墨田区,8.25万円\n",
      "\n",
      "江東区,8.96万円\n",
      "\n",
      "品川区,9.10万円\n",
      "\n",
      "目黒区,9.81万円\n",
      "\n",
      "大田区,7.69万円\n",
      "\n",
      "世田谷区,8.07万円\n",
      "\n",
      "渋谷区,10.57万円\n",
      "\n",
      "中野区,7.79万円\n",
      "\n",
      "杉並区,7.37万円\n",
      "\n",
      "豊島区,8.00万円\n",
      "\n",
      "北区,7.42万円\n",
      "\n",
      "荒川区,7.64万円\n",
      "\n",
      "板橋区,6.95万円\n",
      "\n",
      "練馬区,6.72万円\n",
      "\n",
      "足立区,6.44万円\n",
      "\n",
      "葛飾区,6.19万円\n",
      "\n",
      "江戸川区,6.51万円\n",
      "\n",
      "八王子市,4.92万円\n",
      "\n",
      "立川市,6.15万円\n",
      "\n",
      "武蔵野市,7.44万円\n",
      "\n",
      "三鷹市,7.02万円\n",
      "\n",
      "青梅市,4.79万円\n",
      "\n",
      "府中市,6.01万円\n",
      "\n",
      "昭島市,5.40万円\n",
      "\n",
      "調布市,6.31万円\n",
      "\n",
      "町田市,5.60万円\n",
      "\n",
      "小金井市,6.17万円\n",
      "\n",
      "小平市,5.09万円\n",
      "\n",
      "日野市,4.95万円\n",
      "\n",
      "東村山市,4.97万円\n",
      "\n",
      "国分寺市,5.76万円\n",
      "\n",
      "国立市,5.74万円\n",
      "\n",
      "福生市,5.21万円\n",
      "\n",
      "狛江市,5.91万円\n",
      "\n",
      "東大和市,5.26万円\n",
      "\n",
      "清瀬市,5.28万円\n",
      "\n",
      "東久留米市,5.05万円\n",
      "\n",
      "武蔵村山市,5.55万円\n",
      "\n",
      "多摩市,5.33万円\n",
      "\n",
      "稲城市,4.96万円\n",
      "\n",
      "羽村市,5.07万円\n",
      "\n",
      "あきる野市,4.54万円\n",
      "\n",
      "西東京市,5.76万円\n",
      "\n"
     ]
    }
   ],
   "source": [
    "Anemone.crawl(\"http://www.homes.co.jp/chintai/tokyo/city/price/\", opts) do |anemone|\t\t\n",
    "\t\n",
    "\t# 起点となるページから飛ぶ先を予め指定\n",
    "\tanemone.focus_crawl do |page|\n",
    "\t\tpage.links.keep_if{|link| link.to_s.match(/http:\\/\\/www.homes.co.jp\\/chintai\\/tokyo\\/[a-z]*-city\\/price\\//)}\n",
    "\tend\n",
    "\n",
    "\t# まずは起点ページの地域別賃料を取得\n",
    "\tanemone.on_pages_like(/http:\\/\\/www.homes.co.jp\\/chintai\\/tokyo\\/city\\/price\\//) do |page|\n",
    "\t\tpage.doc.xpath(\"/html//div[@class='priceList']//tbody[@id='prg-aggregate-graph']/tr\").each do |node|\n",
    "\t\t\tarea  = node.xpath(\"./td[@class='area']/a/text()\").to_s\n",
    "\t\t\tprice = node.xpath(\"./td[contains(@class,'price')]/div[contains(@class,'money')]/span/text()\").to_s\n",
    "\t\t\tputs area + \",\" + price + \"万円\\n\"\n",
    "\t\tend\n",
    "\tend\n",
    "\n",
    "end"
   ]
  },
  {
   "cell_type": "code",
   "execution_count": null,
   "metadata": {
    "collapsed": true
   },
   "outputs": [],
   "source": []
  }
 ],
 "metadata": {
  "kernelspec": {
   "display_name": "Python [Root]",
   "language": "python",
   "name": "Python [Root]"
  },
  "language_info": {
   "codemirror_mode": {
    "name": "ipython",
    "version": 3
   },
   "file_extension": ".py",
   "mimetype": "text/x-python",
   "name": "python",
   "nbconvert_exporter": "python",
   "pygments_lexer": "ipython3",
   "version": "3.5.2"
  }
 },
 "nbformat": 4,
 "nbformat_minor": 0
}
